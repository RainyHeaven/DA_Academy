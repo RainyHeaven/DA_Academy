{
 "cells": [
  {
   "cell_type": "markdown",
   "metadata": {},
   "source": [
    "# 정규표현식(Regular Expression)\n",
    "## re\n",
    "-  정규표현식을 사용하기 위한 함수를 제공하는 패키지\n",
    "-  표현식이 담긴 pattern객체와 boolean 형식의 match객체를 사용한다\n",
    "\n",
    "-  메타문자\n",
    "    -  . : 임의의 문자 1개와 매칭\n",
    "    -  * : 바로 앞의 패턴을 0번 이상 매칭\n",
    "    -  + : 바로 앞의 패턴을 1번 이상 매칭\n",
    "    -  ? : 바로 앞의 패턴을 0~1번 매칭\n",
    "    -  {a, b}: 바로 앞의 패턴을 a~b번 매칭\n",
    "    -  a|b : a또는 b를 매칭\n",
    "    -  \\d : 모든 숫자 매칭, [0-9]\n",
    "    -  \\D : 숫자가 아닌 것과 매칭\n",
    "    -  \\s : 공백문자와 매칭\n",
    "    -  \\S : 공백문자가 아닌 것과 매칭\n",
    "    -  \\w : 문자나 숫자와 매칭, [a-zA-Z0-9]\n",
    "    -  \\W : 문자, 숫자가 아닌 것과 매칭, [^a-zA-Z0-9]\n",
    "\n",
    "-  컴파일 옵션\n",
    "    -  re.I : 패턴의 대소문자를 무시한다\n",
    "    -  re.M : 여러 줄과 매칭할 수 있도록 한다\n",
    "    -  re.S : '.'이 줄바꿈 문자를 포함하여 모든 문자와 매칭되도록 한다\n",
    "    -  re.X : verbose 모드를 사용할 수 있도록 한다. (정규식을 보기 편하게 만들수 있고 주석등을 사용할 수 있게된다.)\n",
    "\n",
    "-  ### compile()\n",
    "    -  패턴을 pattern 객체로 리턴\n",
    "    -  re.compile(패턴, 옵션)\n",
    "\n",
    "-  ### match()\n",
    "    -  데이터가 지정한 패턴으로 시작 여부를 match 객체로 리턴\n",
    "    -  re.match(패턴, 데이터, 옵션)\n",
    "\n",
    "-  ### search()\n",
    "    -  문자열 전체를 검색하여 패턴과 매치 여부를 match 객체로 리턴\n",
    "    -  re.search(패턴, 데이터, 옵션)\n",
    "\n",
    "-  ### findall()\n",
    "    -  패턴과 매치되는 모든 문자열을 리스트로 리턴\n",
    "    -  re.findall(패턴, 데이터, 옵션)\n",
    "\n",
    "-  ### finditer()\n",
    "    -  패턴과 매치되는 모든 문자열을 iterator 객체로 리턴\n",
    "    -  re.finditer(패턴, 데이터, 옵션)\n",
    "    \n",
    "-  ### sub()\n",
    "    -  데이터에서 패턴과 매치되는 문자열을 지정한 문자열로 바꿈\n",
    "    -  re.sub(패턴, 바꿀문자, 데이터, 옵션)\n",
    "    -  패턴객체.sub(바꿀문자, 데이터, 옵션)\n",
    "    \n",
    "-  ### subn()\n",
    "    -  sub()와 동일, 바꾼 횟수를 함께 리턴\n",
    "    \n",
    "-  ### split()\n",
    "    -  데이터를 지정한 패턴을 기준으로 분리\n",
    "    -  re.split(패턴, 데이터, 옵션)\n",
    "    -  패턴.split(데이터, 옵션)\n",
    "\n",
    "-  ### group()\n",
    "    -  match 객체의 지정한 그룹을 리턴\n",
    "    -  매치.group(그룹지정)"
   ]
  },
  {
   "cell_type": "code",
   "execution_count": 1,
   "metadata": {},
   "outputs": [],
   "source": [
    "import re\n",
    "source = 'Data Science'"
   ]
  },
  {
   "cell_type": "code",
   "execution_count": 2,
   "metadata": {},
   "outputs": [
    {
     "data": {
      "text/plain": [
       "<_sre.SRE_Match object; span=(0, 2), match='Da'>"
      ]
     },
     "execution_count": 2,
     "metadata": {},
     "output_type": "execute_result"
    }
   ],
   "source": [
    "re.match('Da', source)"
   ]
  },
  {
   "cell_type": "code",
   "execution_count": 5,
   "metadata": {},
   "outputs": [],
   "source": [
    "m = re.match('Da', source)"
   ]
  },
  {
   "cell_type": "code",
   "execution_count": 6,
   "metadata": {},
   "outputs": [
    {
     "name": "stdout",
     "output_type": "stream",
     "text": [
      "패턴이 일치합니다\n"
     ]
    }
   ],
   "source": [
    "if m:\n",
    "    print('패턴이 일치합니다')\n",
    "else:\n",
    "    print('패턴이 불일치합니다')"
   ]
  },
  {
   "cell_type": "code",
   "execution_count": 7,
   "metadata": {},
   "outputs": [
    {
     "name": "stdout",
     "output_type": "stream",
     "text": [
      "패턴이 불일치합니다\n"
     ]
    }
   ],
   "source": [
    "if re.match('da', source):\n",
    "    print('패턴이 일치합니다')\n",
    "else:\n",
    "    print('패턴이 불일치합니다')"
   ]
  },
  {
   "cell_type": "code",
   "execution_count": 8,
   "metadata": {},
   "outputs": [
    {
     "name": "stdout",
     "output_type": "stream",
     "text": [
      "패턴이 일치합니다\n"
     ]
    }
   ],
   "source": [
    "if re.match('da', source, re.I):\n",
    "    print('패턴이 일치합니다')\n",
    "else:\n",
    "    print('패턴이 불일치합니다')"
   ]
  },
  {
   "cell_type": "code",
   "execution_count": 11,
   "metadata": {},
   "outputs": [
    {
     "name": "stdout",
     "output_type": "stream",
     "text": [
      "패턴이 일치합니다\n",
      "Da\n",
      "0\n",
      "2\n",
      "(0, 2)\n"
     ]
    }
   ],
   "source": [
    "source = 'Data Science'\n",
    "m = re.match('da', source, re.I)\n",
    "\n",
    "if m:\n",
    "    print('패턴이 일치합니다')\n",
    "    print(m.group())\n",
    "    print(m.start()) # 패턴의 시작\n",
    "    print(m.end()) # 패턴의 끝\n",
    "    print(m.span()) # 패턴의 끝과 시작\n",
    "    \n",
    "else:\n",
    "    print('패턴이 불일치합니다')"
   ]
  },
  {
   "cell_type": "code",
   "execution_count": 12,
   "metadata": {},
   "outputs": [
    {
     "data": {
      "text/plain": [
       "True"
      ]
     },
     "execution_count": 12,
     "metadata": {},
     "output_type": "execute_result"
    }
   ],
   "source": [
    "bool(re.match('D', 'Data'))"
   ]
  },
  {
   "cell_type": "code",
   "execution_count": 13,
   "metadata": {},
   "outputs": [
    {
     "data": {
      "text/plain": [
       "True"
      ]
     },
     "execution_count": 13,
     "metadata": {},
     "output_type": "execute_result"
    }
   ],
   "source": [
    "bool(re.match('[0-9]th', '2th'))"
   ]
  },
  {
   "cell_type": "code",
   "execution_count": 14,
   "metadata": {},
   "outputs": [
    {
     "data": {
      "text/plain": [
       "False"
      ]
     },
     "execution_count": 14,
     "metadata": {},
     "output_type": "execute_result"
    }
   ],
   "source": [
    "bool(re.match('[0-9]th', '21th'))"
   ]
  },
  {
   "cell_type": "code",
   "execution_count": 15,
   "metadata": {},
   "outputs": [
    {
     "data": {
      "text/plain": [
       "True"
      ]
     },
     "execution_count": 15,
     "metadata": {},
     "output_type": "execute_result"
    }
   ],
   "source": [
    "bool(re.match('[0-9][0-9]th', '21th'))"
   ]
  },
  {
   "cell_type": "code",
   "execution_count": 16,
   "metadata": {},
   "outputs": [
    {
     "data": {
      "text/plain": [
       "True"
      ]
     },
     "execution_count": 16,
     "metadata": {},
     "output_type": "execute_result"
    }
   ],
   "source": [
    "bool(re.match('[0-9]*th', '21th'))"
   ]
  },
  {
   "cell_type": "code",
   "execution_count": 18,
   "metadata": {
    "scrolled": true
   },
   "outputs": [
    {
     "data": {
      "text/plain": [
       "True"
      ]
     },
     "execution_count": 18,
     "metadata": {},
     "output_type": "execute_result"
    }
   ],
   "source": [
    "bool(re.match('[0-9]*th', 'th'))"
   ]
  },
  {
   "cell_type": "code",
   "execution_count": 19,
   "metadata": {},
   "outputs": [
    {
     "data": {
      "text/plain": [
       "True"
      ]
     },
     "execution_count": 19,
     "metadata": {},
     "output_type": "execute_result"
    }
   ],
   "source": [
    "bool(re.match('[0-9]*th', '212th'))"
   ]
  },
  {
   "cell_type": "code",
   "execution_count": 20,
   "metadata": {},
   "outputs": [
    {
     "data": {
      "text/plain": [
       "True"
      ]
     },
     "execution_count": 20,
     "metadata": {},
     "output_type": "execute_result"
    }
   ],
   "source": [
    "bool(re.match('\\d\\dth', '21th'))"
   ]
  },
  {
   "cell_type": "code",
   "execution_count": 21,
   "metadata": {},
   "outputs": [
    {
     "data": {
      "text/plain": [
       "True"
      ]
     },
     "execution_count": 21,
     "metadata": {},
     "output_type": "execute_result"
    }
   ],
   "source": [
    "bool(re.match('\\d*th', '21th'))"
   ]
  },
  {
   "cell_type": "code",
   "execution_count": 22,
   "metadata": {},
   "outputs": [
    {
     "name": "stdout",
     "output_type": "stream",
     "text": [
      "패턴이 일치합니다\n",
      "Data Science\n",
      "0\n",
      "12\n",
      "(0, 12)\n"
     ]
    }
   ],
   "source": [
    "source = 'Data Science'\n",
    "m = re.match('.*Science', source, re.I)\n",
    "if m:\n",
    "    print('패턴이 일치합니다')\n",
    "    print(m.group())\n",
    "    print(m.start())\n",
    "    print(m.end())\n",
    "    print(m.span())\n",
    "    \n",
    "else:\n",
    "    print('패턴이 불일치합니다')"
   ]
  },
  {
   "cell_type": "code",
   "execution_count": 26,
   "metadata": {},
   "outputs": [
    {
     "data": {
      "text/plain": [
       "['2018', '10', '5']"
      ]
     },
     "execution_count": 26,
     "metadata": {},
     "output_type": "execute_result"
    }
   ],
   "source": [
    "re.findall('\\d+', '오늘은 2018년 10월 5일 입니다')"
   ]
  },
  {
   "cell_type": "code",
   "execution_count": 27,
   "metadata": {},
   "outputs": [
    {
     "data": {
      "text/plain": [
       "['오늘은 ', '년 ', '월 ', '일 입니다']"
      ]
     },
     "execution_count": 27,
     "metadata": {},
     "output_type": "execute_result"
    }
   ],
   "source": [
    "re.findall('\\D+', '오늘은 2018년 10월 5일 입니다')"
   ]
  },
  {
   "cell_type": "code",
   "execution_count": 28,
   "metadata": {},
   "outputs": [
    {
     "data": {
      "text/plain": [
       "['오늘은', '년', '월', '일', '입니다']"
      ]
     },
     "execution_count": 28,
     "metadata": {},
     "output_type": "execute_result"
    }
   ],
   "source": [
    "re.findall('[가-힣]+', '오늘은 2018년 10월 5일 입니다')"
   ]
  },
  {
   "cell_type": "code",
   "execution_count": 30,
   "metadata": {},
   "outputs": [],
   "source": [
    "source = 'Data Science'\n",
    "source = source.replace('Science', 'Scientist')"
   ]
  },
  {
   "cell_type": "code",
   "execution_count": 31,
   "metadata": {},
   "outputs": [],
   "source": [
    "source = re.sub('Scientist', 'Science', source)"
   ]
  },
  {
   "cell_type": "code",
   "execution_count": 32,
   "metadata": {},
   "outputs": [
    {
     "data": {
      "text/plain": [
       "'Data Science'"
      ]
     },
     "execution_count": 32,
     "metadata": {},
     "output_type": "execute_result"
    }
   ],
   "source": [
    "source"
   ]
  },
  {
   "cell_type": "code",
   "execution_count": 57,
   "metadata": {},
   "outputs": [],
   "source": [
    "p = re.compile(r'(\\w+)\\s+((\\d+)[-]\\d+[-]\\d+)')\n",
    "m = p.search('james 010-1234-1234')"
   ]
  },
  {
   "cell_type": "code",
   "execution_count": 58,
   "metadata": {},
   "outputs": [
    {
     "data": {
      "text/plain": [
       "'james 010-1234-1234'"
      ]
     },
     "execution_count": 58,
     "metadata": {},
     "output_type": "execute_result"
    }
   ],
   "source": [
    "m.group(0) # 첫번째 그룹 (\\w+)\\s+((\\d+)[-]\\d+[-]\\d+)"
   ]
  },
  {
   "cell_type": "code",
   "execution_count": 59,
   "metadata": {},
   "outputs": [
    {
     "data": {
      "text/plain": [
       "'james'"
      ]
     },
     "execution_count": 59,
     "metadata": {},
     "output_type": "execute_result"
    }
   ],
   "source": [
    "m.group(1) # 두번째 그룹 (\\w+)"
   ]
  },
  {
   "cell_type": "code",
   "execution_count": 60,
   "metadata": {},
   "outputs": [
    {
     "data": {
      "text/plain": [
       "'010-1234-1234'"
      ]
     },
     "execution_count": 60,
     "metadata": {},
     "output_type": "execute_result"
    }
   ],
   "source": [
    "m.group(2) # 세번째 그룹 ((\\d+)[-]\\d+[-]\\d+)"
   ]
  },
  {
   "cell_type": "code",
   "execution_count": 61,
   "metadata": {},
   "outputs": [
    {
     "data": {
      "text/plain": [
       "'010'"
      ]
     },
     "execution_count": 61,
     "metadata": {},
     "output_type": "execute_result"
    }
   ],
   "source": [
    "m.group(3) # 네번째 그룹 (\\d+)"
   ]
  },
  {
   "cell_type": "code",
   "execution_count": 37,
   "metadata": {},
   "outputs": [
    {
     "data": {
      "text/plain": [
       "'james'"
      ]
     },
     "execution_count": 37,
     "metadata": {},
     "output_type": "execute_result"
    }
   ],
   "source": [
    "p = re.compile(r'(?P<name>\\w+)\\s+(?P<phone>(\\d+)[-]\\d+[-]\\d+)') # 그룹의 이름 지정\n",
    "m = p.search('james 010-1234-1234')\n",
    "m.group('name') # 그룹 이름으로 검색"
   ]
  },
  {
   "cell_type": "code",
   "execution_count": 38,
   "metadata": {},
   "outputs": [
    {
     "data": {
      "text/plain": [
       "'010-1234-1234'"
      ]
     },
     "execution_count": 38,
     "metadata": {},
     "output_type": "execute_result"
    }
   ],
   "source": [
    "m.group('phone')"
   ]
  },
  {
   "cell_type": "code",
   "execution_count": 39,
   "metadata": {},
   "outputs": [],
   "source": [
    "txt = 'of the people, by the people, for the people'"
   ]
  },
  {
   "cell_type": "code",
   "execution_count": 40,
   "metadata": {},
   "outputs": [
    {
     "data": {
      "text/plain": [
       "['for ']"
      ]
     },
     "execution_count": 40,
     "metadata": {},
     "output_type": "execute_result"
    }
   ],
   "source": [
    "# the 이전에 나오는 for 를 찾는다\n",
    "re.findall('for (?=the)', txt) "
   ]
  },
  {
   "cell_type": "code",
   "execution_count": 41,
   "metadata": {},
   "outputs": [
    {
     "data": {
      "text/plain": [
       "[' people', ' people', ' people']"
      ]
     },
     "execution_count": 41,
     "metadata": {},
     "output_type": "execute_result"
    }
   ],
   "source": [
    "# the 다음에 나오는 people을 찾는다\n",
    "re.findall('(?<=the) people', txt)"
   ]
  },
  {
   "cell_type": "code",
   "execution_count": 49,
   "metadata": {},
   "outputs": [
    {
     "data": {
      "text/plain": [
       "[\"Let's\"]"
      ]
     },
     "execution_count": 49,
     "metadata": {},
     "output_type": "execute_result"
    }
   ],
   "source": [
    "txt = \"Let's live happily\"\n",
    "re.findall(\"\\w+['].\", txt)"
   ]
  },
  {
   "cell_type": "code",
   "execution_count": 48,
   "metadata": {},
   "outputs": [
    {
     "data": {
      "text/plain": [
       "[\"Let's\"]"
      ]
     },
     "execution_count": 48,
     "metadata": {},
     "output_type": "execute_result"
    }
   ],
   "source": [
    "p=re.compile('\\w+[\\'].')\n",
    "p.findall(txt)"
   ]
  },
  {
   "cell_type": "code",
   "execution_count": 51,
   "metadata": {},
   "outputs": [
    {
     "data": {
      "text/plain": [
       "'Data Science and Data Science'"
      ]
     },
     "execution_count": 51,
     "metadata": {},
     "output_type": "execute_result"
    }
   ],
   "source": [
    "p = re.compile('Physical|Computer')\n",
    "p.sub('Data', 'Physical Science and Computer Science')"
   ]
  },
  {
   "cell_type": "code",
   "execution_count": 53,
   "metadata": {},
   "outputs": [
    {
     "data": {
      "text/plain": [
       "('Data Science and Data Science', 2)"
      ]
     },
     "execution_count": 53,
     "metadata": {},
     "output_type": "execute_result"
    }
   ],
   "source": [
    "p.subn('Data', 'Physical Science and Computer Science')"
   ]
  },
  {
   "cell_type": "code",
   "execution_count": 62,
   "metadata": {},
   "outputs": [
    {
     "data": {
      "text/plain": [
       "'james 010-1234-1234'"
      ]
     },
     "execution_count": 62,
     "metadata": {},
     "output_type": "execute_result"
    }
   ],
   "source": [
    "p = re.compile(r'(\\w+)\\s+((\\d+)[-](\\d+)[-](\\d+))')\n",
    "m = p.search('james 010-1234-1234')\n",
    "m.group(0)"
   ]
  },
  {
   "cell_type": "code",
   "execution_count": 63,
   "metadata": {},
   "outputs": [
    {
     "data": {
      "text/plain": [
       "'james'"
      ]
     },
     "execution_count": 63,
     "metadata": {},
     "output_type": "execute_result"
    }
   ],
   "source": [
    "m.group(1)"
   ]
  },
  {
   "cell_type": "code",
   "execution_count": 64,
   "metadata": {},
   "outputs": [
    {
     "data": {
      "text/plain": [
       "'010-1234-1234'"
      ]
     },
     "execution_count": 64,
     "metadata": {},
     "output_type": "execute_result"
    }
   ],
   "source": [
    "m.group(2)"
   ]
  },
  {
   "cell_type": "code",
   "execution_count": 65,
   "metadata": {},
   "outputs": [
    {
     "data": {
      "text/plain": [
       "'010'"
      ]
     },
     "execution_count": 65,
     "metadata": {},
     "output_type": "execute_result"
    }
   ],
   "source": [
    "m.group(3)"
   ]
  },
  {
   "cell_type": "code",
   "execution_count": 66,
   "metadata": {},
   "outputs": [
    {
     "data": {
      "text/plain": [
       "'1234'"
      ]
     },
     "execution_count": 66,
     "metadata": {},
     "output_type": "execute_result"
    }
   ],
   "source": [
    "m.group(4)"
   ]
  },
  {
   "cell_type": "code",
   "execution_count": 67,
   "metadata": {},
   "outputs": [
    {
     "data": {
      "text/plain": [
       "'1234'"
      ]
     },
     "execution_count": 67,
     "metadata": {},
     "output_type": "execute_result"
    }
   ],
   "source": [
    "m.group(5)"
   ]
  },
  {
   "cell_type": "code",
   "execution_count": null,
   "metadata": {},
   "outputs": [],
   "source": []
  }
 ],
 "metadata": {
  "kernelspec": {
   "display_name": "Python 3",
   "language": "python",
   "name": "python3"
  },
  "language_info": {
   "codemirror_mode": {
    "name": "ipython",
    "version": 3
   },
   "file_extension": ".py",
   "mimetype": "text/x-python",
   "name": "python",
   "nbconvert_exporter": "python",
   "pygments_lexer": "ipython3",
   "version": "3.6.6"
  }
 },
 "nbformat": 4,
 "nbformat_minor": 2
}
