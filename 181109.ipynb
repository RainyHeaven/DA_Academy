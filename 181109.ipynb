{
 "cells": [
  {
   "cell_type": "code",
   "execution_count": null,
   "metadata": {},
   "outputs": [],
   "source": []
  },
  {
   "cell_type": "markdown",
   "metadata": {},
   "source": [
    "# 풀링계층\n",
    "-  conv -> pooling -> fully connected\n",
    "\n",
    "-  ## convolusion\n",
    "    -  이미지의 특징을 추출하는 계층(하나의 이미지로 여러개의 다른 feature map을 생성)\n",
    "\n",
    "-  ## pooling\n",
    "    -  출력값에서 일부분만 취하는 기능\n",
    "    -  합성곱 과정에서 망가진 이미지에서 부분의 대표들을 뽑아 작은 사이즈의 이미지를 만드는 것\n",
    "    -  마치 사진을 축소하면 해상도가 좋아지는 듯한 효과\n",
    "    -  풀링의 종류\n",
    "        -  최대풀링: 합성곱 데이터에서 가장 큰 값을 대표값으로 선정\n",
    "        -  평균풀링: 합성곱 데이터에서 모든 값의 평균을 대표값으로 선정\n",
    "        -  확률적풀링: 합성곱 데이터에서 임의 확률로 한개를 선정\n",
    "        \n"
   ]
  },
  {
   "cell_type": "code",
   "execution_count": null,
   "metadata": {},
   "outputs": [],
   "source": [
    "a = np.array([[21, 8, 8, 12], \n",
    "              [12, 19, 9, 7], \n",
    "              [8, 10, 4, 3],\n",
    "              [18, 12, 9, 10]])\n",
    "\n",
    "print(max_pooling(a))\n",
    "[[21, 12], [18, 10]]"
   ]
  },
  {
   "cell_type": "code",
   "execution_count": 36,
   "metadata": {},
   "outputs": [
    {
     "name": "stdout",
     "output_type": "stream",
     "text": [
      "[[21, 12], [18, 10]]\n"
     ]
    }
   ],
   "source": [
    "import numpy as np\n",
    "\n",
    "a = np.array([[21, 8, 8, 12], \n",
    "              [12, 19, 9, 7], \n",
    "              [8, 10, 4, 3],\n",
    "              [18, 12, 9, 10]])\n",
    "\n",
    "def max_pooling(data):\n",
    "    result = []\n",
    "    for i in range(int(a.shape[0]/2)):\n",
    "        sub_result = []\n",
    "        for j in range(int(a.shape[1]/2)):\n",
    "            sub_result.append(max(np.maximum(data[i*2][(j*2):(j*2+2)], data[i*2+1][(j*2):(j*2+2)])))\n",
    "        result.append(sub_result)\n",
    "    return result\n",
    "\n",
    "print(max_pooling(a))"
   ]
  },
  {
   "cell_type": "code",
   "execution_count": 37,
   "metadata": {},
   "outputs": [
    {
     "name": "stdout",
     "output_type": "stream",
     "text": [
      "[[21 12]\n",
      " [18 10]]\n"
     ]
    }
   ],
   "source": [
    "def max_pooling(array):\n",
    "    res = []\n",
    "    a = array.flatten()\n",
    "    for i in range(0, 12, 2):\n",
    "        if i==4 or i==6:\n",
    "            continue\n",
    "        temp = np.array([a[i:i+2], a[i+4:i+6]])\n",
    "        res.append(np.max(temp))\n",
    "    res = np.array(res).reshape(2,2)\n",
    "    return res\n",
    "\n",
    "print(max_pooling(a))"
   ]
  }
 ],
 "metadata": {
  "kernelspec": {
   "display_name": "Python 3",
   "language": "python",
   "name": "python3"
  },
  "language_info": {
   "codemirror_mode": {
    "name": "ipython",
    "version": 3
   },
   "file_extension": ".py",
   "mimetype": "text/x-python",
   "name": "python",
   "nbconvert_exporter": "python",
   "pygments_lexer": "ipython3",
   "version": "3.6.6"
  }
 },
 "nbformat": 4,
 "nbformat_minor": 2
}
