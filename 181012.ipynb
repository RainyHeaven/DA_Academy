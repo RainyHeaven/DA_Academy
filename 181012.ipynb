{
 "cells": [
  {
   "cell_type": "markdown",
   "metadata": {},
   "source": [
    "[문제193] 양의 정수값만 입력 받아서 나누기를 수행하는 positive_divide 함수를 생성하세요.\n",
    "```\n",
    "print(positive_divide())\n",
    " \n",
    "분자 숫자를 입력하세요 : 10\n",
    "분모 숫자를 입력하세요 : 2\n",
    "5.0\n",
    "\n",
    "print(positive_divide()) \n",
    "\n",
    "분자 숫자를 입력하세요 : 10\n",
    "분모 숫자를 입력하세요 : -2\n",
    "오류  - 음수로 나눌수 없습니다. -2\n",
    "\n",
    "\n",
    "print(positive_divide())\n",
    "분자 숫자를 입력하세요 : 10\n",
    "분모 숫자를 입력하세요 : 0\n",
    "오류 -  0으로 나눌수 없습니다. division by zero\n",
    "```\n",
    "```python\n",
    "def positive_divide():\n",
    "    a = int(input('분자 숫자를 입력하세요 : '))\n",
    "    b = int(input('분모 숫자를 입력하세요 : '))\n",
    "    if b < 0:\n",
    "        return '오류 - 음수로 나눌 수 없습니다. {}'.format(b)\n",
    "    \n",
    "    elif b == 0:\n",
    "        return '오류 - 0으로로 나눌 수 없습니다. division by zero'\n",
    "    \n",
    "    else:\n",
    "        return a/b \n",
    "```    \n",
    "```python\n",
    "def positive_divide():\n",
    "    a = int(input('분자 숫자를 입력하세요 : '))\n",
    "    b = int(input('분모 숫자를 입력하세요 : '))\n",
    "    \n",
    "    try:\n",
    "        result = a/b\n",
    "    except ZeroDivisionError as e:\n",
    "        return '오류 - 0으로로 나눌 수 없습니다. '+str(e)\n",
    "    except Exception as error:\n",
    "        return error\n",
    "    else:\n",
    "        if b < 0:\n",
    "            return '오류 - 음수로 나눌 수 없습니다. {}'.format(b)\n",
    "        else:\n",
    "            return result\n",
    "```        \n",
    "```python\n",
    "class MinusError(Exception):\n",
    "    def __init__(self, msg):\n",
    "        self.msg = msg\n",
    "    \n",
    "    def __str__(self):\n",
    "        return self.msg\n",
    "\n",
    "def positive_divide():\n",
    "    a = int(input('분자 숫자를 입력하세요 : '))\n",
    "    b = int(input('분모 숫자를 입력하세요 : '))\n",
    "    \n",
    "    try:\n",
    "        result = a/b\n",
    "    except ZeroDivisionError as e:\n",
    "        return '오류 - 0으로로 나눌 수 없습니다. '+str(e)\n",
    "    except Exception as error:\n",
    "        return error\n",
    "    else:\n",
    "        if b < 0:\n",
    "            raise MinusError('오류 - 음수로 나눌 수 없습니다. {}'.format(b))\n",
    "        else:\n",
    "            return result\n",
    "```\n",
    "\n",
    "[문제194] 한주간동안 걸음수를 요일별로 그래프를 그리세요.\n",
    "단 막대그래프 함수를 생성해서 인수값으로 걸음수, 요일을 입력하면 그래프가 그려지도록하세요.\n",
    "```python\n",
    "import matplotlib.pyplot as plt\n",
    "from matplotlib import font_manager, rc\n",
    "font_name = font_manager.FontProperties(fname=\"c:/Windows/Fonts/malgun.ttf\").get_name()\n",
    "rc('font', family=font_name)\n",
    "\n",
    "def create_bar_chart(data, labels,bar):\n",
    "\n",
    "    num_bars = len(data)\n",
    "\n",
    "    positions = range(1, num_bars+1)\n",
    "    if bar == 1:        \n",
    "        plt.bar(positions, data, align='center')\n",
    "        plt.xticks(positions, labels)\n",
    "        plt.xlabel('요일')\n",
    "        plt.ylabel('걸음수')\n",
    "       \n",
    "    else:\n",
    "         plt.barh(positions, data, align='center')\n",
    "         plt.yticks(positions, labels)\n",
    "         plt.xlabel('걸음수')\n",
    "         plt.ylabel('요일')\n",
    "    \n",
    "\n",
    "    plt.title('한주간 동안 걸음수') \n",
    "    plt.grid()\n",
    "    plt.show()\n",
    "    \n",
    "if __name__=='__main__':\n",
    "    step = [1090,2000,3000,4000,10000,50000,2000]\n",
    "    labels = ['월','화','수','목','금','토','일']\n",
    "    create_bar_chart(step,labels,2)\n",
    "```\n",
    "\n",
    "[문제195]\n",
    "```python\n",
    "class Walk(object):\n",
    "    import matplotlib.pyplot as plt\n",
    "    from matplotlib import font_manager, rc\n",
    "    font_name = font_manager.FontProperties(fname=\"c:/Windows/Fonts/malgun.ttf\").get_name()\n",
    "    rc('font', family=font_name)\n",
    "    \n",
    "    def __init__(self):\n",
    "        if __name__=='__main__':\n",
    "            step = [1090,2000,3000,4000,10000,50000,2000]\n",
    "            labels = ['월','화','수','목','금','토','일']\n",
    "            self.create_bar_chart(step,labels,1)\n",
    "\n",
    "    def create_bar_chart(self, data, labels, bar):\n",
    "        num_bars = len(data)\n",
    "\n",
    "        positions = range(1, num_bars+1)\n",
    "        if bar == 1:        \n",
    "            self.plt.bar(positions, data, align='center')\n",
    "            self.plt.xticks(positions, labels)\n",
    "            self.plt.xlabel('요일')\n",
    "            self.plt.ylabel('걸음수')\n",
    "\n",
    "        else:\n",
    "            self.plt.barh(positions, data, align='center')\n",
    "            self.plt.yticks(positions, labels)\n",
    "            self.plt.xlabel('걸음수')\n",
    "            self.plt.ylabel('요일')\n",
    "\n",
    "\n",
    "        self.plt.title('한주간 동안 걸음수') \n",
    "        self.plt.grid()\n",
    "        self.plt.show()\n",
    "```\n"
   ]
  },
  {
   "cell_type": "code",
   "execution_count": 26,
   "metadata": {},
   "outputs": [],
   "source": [
    "class Walk(object):\n",
    "    import matplotlib.pyplot as plt\n",
    "    from matplotlib import font_manager, rc\n",
    "    font_name = font_manager.FontProperties(fname=\"c:/Windows/Fonts/malgun.ttf\").get_name()\n",
    "    rc('font', family=font_name)\n",
    "    \n",
    "    def __init__(self):\n",
    "        if __name__=='__main__':\n",
    "            step = [1090,2000,3000,4000,10000,50000,2000]\n",
    "            labels = ['월','화','수','목','금','토','일']\n",
    "            self.create_bar_chart(step,labels,1)\n",
    "\n",
    "    def create_bar_chart(self, data, labels, bar):\n",
    "        num_bars = len(data)\n",
    "\n",
    "        positions = range(1, num_bars+1)\n",
    "        if bar == 1:        \n",
    "            self.plt.bar(positions, data, align='center')\n",
    "            self.plt.xticks(positions, labels)\n",
    "            self.plt.xlabel('요일')\n",
    "            self.plt.ylabel('걸음수')\n",
    "\n",
    "        else:\n",
    "            self.plt.barh(positions, data, align='center')\n",
    "            self.plt.yticks(positions, labels)\n",
    "            self.plt.xlabel('걸음수')\n",
    "            self.plt.ylabel('요일')\n",
    "\n",
    "\n",
    "        self.plt.title('한주간 동안 걸음수') \n",
    "        self.plt.grid()\n",
    "        self.plt.show()"
   ]
  },
  {
   "cell_type": "code",
   "execution_count": 27,
   "metadata": {},
   "outputs": [
    {
     "data": {
      "image/png": "[encoded data removed]",
      "text/plain": [
       "<Figure size 432x288 with 1 Axes>"
      ]
     },
     "metadata": {
      "needs_background": "light"
     },
     "output_type": "display_data"
    }
   ],
   "source": [
    "w = Walk()"
   ]
  },
  {
   "cell_type": "code",
   "execution_count": 5,
   "metadata": {},
   "outputs": [
    {
     "name": "stdout",
     "output_type": "stream",
     "text": [
      "분자 숫자를 입력하세요 : 10\n",
      "분모 숫자를 입력하세요 : 0\n",
      "오류 - 0으로로 나눌 수 없습니다. division by zero\n"
     ]
    }
   ],
   "source": [
    "def positive_divide():\n",
    "    a = int(input('분자 숫자를 입력하세요 : '))\n",
    "    b = int(input('분모 숫자를 입력하세요 : '))\n",
    "    if b < 0:\n",
    "        return '오류 - 음수로 나눌 수 없습니다. {}'.format(b)\n",
    "    \n",
    "    elif b == 0:\n",
    "        return '오류 - 0으로로 나눌 수 없습니다. division by zero'\n",
    "    \n",
    "    else:\n",
    "        return a/b \n",
    "\n",
    "print(positive_divide())"
   ]
  },
  {
   "cell_type": "code",
   "execution_count": 21,
   "metadata": {},
   "outputs": [
    {
     "name": "stdout",
     "output_type": "stream",
     "text": [
      "분자 숫자를 입력하세요 : 10\n",
      "분모 숫자를 입력하세요 : -2\n",
      "오류 - 음수로 나눌 수 없습니다. -2\n"
     ]
    }
   ],
   "source": [
    "def positive_divide():\n",
    "    a = int(input('분자 숫자를 입력하세요 : '))\n",
    "    b = int(input('분모 숫자를 입력하세요 : '))\n",
    "    \n",
    "    try:\n",
    "        result = a/b\n",
    "    except ZeroDivisionError as e:\n",
    "        return '오류 - 0으로로 나눌 수 없습니다. '+str(e)\n",
    "    except Exception as error:\n",
    "        return error\n",
    "    else:\n",
    "        if b < 0:\n",
    "            return '오류 - 음수로 나눌 수 없습니다. {}'.format(b)\n",
    "        else:\n",
    "            return result\n",
    "\n",
    "print(positive_divide())        "
   ]
  },
  {
   "cell_type": "code",
   "execution_count": 20,
   "metadata": {},
   "outputs": [
    {
     "name": "stdout",
     "output_type": "stream",
     "text": [
      "분자 숫자를 입력하세요 : 10\n",
      "분모 숫자를 입력하세요 : 5\n",
      "2.0\n"
     ]
    }
   ],
   "source": [
    "class MinusError(Exception):\n",
    "    def __init__(self, msg):\n",
    "        self.msg = msg\n",
    "    \n",
    "    def __str__(self):\n",
    "        return self.msg\n",
    "\n",
    "def positive_divide():\n",
    "    a = int(input('분자 숫자를 입력하세요 : '))\n",
    "    b = int(input('분모 숫자를 입력하세요 : '))\n",
    "    \n",
    "    try:\n",
    "        result = a/b\n",
    "    except ZeroDivisionError as e:\n",
    "        return '오류 - 0으로로 나눌 수 없습니다. '+str(e)\n",
    "    except Exception as error:\n",
    "        return error\n",
    "    else:\n",
    "        if b < 0:\n",
    "            raise MinusError('오류 - 음수로 나눌 수 없습니다. {}'.format(b))\n",
    "        else:\n",
    "            return result\n",
    "\n",
    "print(positive_divide())"
   ]
  },
  {
   "cell_type": "code",
   "execution_count": 22,
   "metadata": {},
   "outputs": [
    {
     "name": "stdout",
     "output_type": "stream",
     "text": [
      "('dd', 'aa')\n"
     ]
    }
   ],
   "source": [
    "print(('dd','aa'))"
   ]
  },
  {
   "cell_type": "code",
   "execution_count": 29,
   "metadata": {},
   "outputs": [
    {
     "data": {
      "text/plain": [
       "Counter({'a': 3, 'b': 2, 'c': 1})"
      ]
     },
     "execution_count": 29,
     "metadata": {},
     "output_type": "execute_result"
    }
   ],
   "source": [
    "import collections\n",
    "collections.Counter(['a','b','a','c','a','b'])"
   ]
  },
  {
   "cell_type": "code",
   "execution_count": 34,
   "metadata": {},
   "outputs": [
    {
     "name": "stdout",
     "output_type": "stream",
     "text": [
      "Counter({'a': 5, 'z': 5, 'c': 4, 'd': 4, 'b': 3})\n"
     ]
    }
   ],
   "source": [
    "container = collections.Counter()\n",
    "container.update('aaaaabbbccccddddzzzzz')\n",
    "\n",
    "print(container)"
   ]
  },
  {
   "cell_type": "code",
   "execution_count": 35,
   "metadata": {},
   "outputs": [
    {
     "name": "stdout",
     "output_type": "stream",
     "text": [
      "Counter({'c': 6, 'a': 5, 'z': 5, 'e': 5, 'd': 4, 'b': 3})\n"
     ]
    }
   ],
   "source": [
    "container.update({'c':2, 'e':5})\n",
    "print(container)"
   ]
  },
  {
   "cell_type": "code",
   "execution_count": 37,
   "metadata": {},
   "outputs": [
    {
     "name": "stdout",
     "output_type": "stream",
     "text": [
      "Counter({'e': 2, 'l': 2, 'h': 1, 'o': 1, 'w': 1, ' ': 1, 'j': 1, 'a': 1, 'm': 1, 's': 1})\n"
     ]
    }
   ],
   "source": [
    "c = collections.Counter('hellow james')\n",
    "print(c)"
   ]
  },
  {
   "cell_type": "code",
   "execution_count": 40,
   "metadata": {},
   "outputs": [
    {
     "name": "stdout",
     "output_type": "stream",
     "text": [
      "Counter({'o': 12, 'g': 7, 'n': 7, 'e': 4, 'd': 4, ' ': 4, 'i': 3, 'h': 2, 'l': 2, 'r': 2, 't': 2, 'm': 1, 'a': 1, 'f': 1, 'v': 1, '행': 1, '복': 1, '하': 1, '자': 1})\n"
     ]
    }
   ],
   "source": [
    "ct = collections.Counter()\n",
    "with open('c:/data/hello.txt','r')as file:\n",
    "    for line in file:\n",
    "        ct.update(line.rstrip().lower())\n",
    "        \n",
    "print(ct)        "
   ]
  },
  {
   "cell_type": "code",
   "execution_count": null,
   "metadata": {},
   "outputs": [],
   "source": [
    "from konlpy.tag import Twitter\n",
    "t = Twitter()\n",
    "txt = '텍스트 마이닝은 텍스트 형태의 데이터를 수학적 '"
   ]
  }
 ],
 "metadata": {
  "kernelspec": {
   "display_name": "Python 3",
   "language": "python",
   "name": "python3"
  },
  "language_info": {
   "codemirror_mode": {
    "name": "ipython",
    "version": 3
   },
   "file_extension": ".py",
   "mimetype": "text/x-python",
   "name": "python",
   "nbconvert_exporter": "python",
   "pygments_lexer": "ipython3",
   "version": "3.6.6"
  }
 },
 "nbformat": 4,
 "nbformat_minor": 2
}
