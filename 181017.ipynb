{
 "cells": [
  {
   "cell_type": "code",
   "execution_count": null,
   "metadata": {},
   "outputs": [],
   "source": [
    "from tqdm import tqdm_notebook\n",
    "\n",
    "for i in tqdm_notebook(range(100)):\n",
    "    print(i)"
   ]
  },
  {
   "cell_type": "markdown",
   "metadata": {},
   "source": [
    "[문제198] 상품구매여부를 knn으로 분류해주세요.\n",
    "```python\n",
    "from sklearn.neighbors import KNeighborsClassifier\n",
    "from sklearn.preprocessing import scale\n",
    "import pandas  as  pd\n",
    "import numpy as np\n",
    "\n",
    "df = pd.read_csv(\"c:/data/buy.csv\")\n",
    "                  \n",
    "x_train = np.array([scale(df['나이']),scale(df['월수입'])]).T\n",
    "label = list(df['상품구매여부'])\n",
    "age_mean = np.mean(df['나이'])\n",
    "age_std = np.std(df['나이'])\n",
    "\n",
    "pay_mean = np.mean(df['월수입'])\n",
    "pay_std = np.std(df['월수입'])\n",
    "\n",
    "K = 3\n",
    "clf = KNeighborsClassifier(n_neighbors=K)\n",
    "clf.fit(x_train,label)\n",
    "prediction_label = clf.predict(np.array([[(40-age_mean)/age_std, (500-pay_mean)/pay_std]]))[0]\n",
    "prediction_label\n",
    "```"
   ]
  },
  {
   "cell_type": "code",
   "execution_count": null,
   "metadata": {},
   "outputs": [],
   "source": []
  }
 ],
 "metadata": {
  "kernelspec": {
   "display_name": "Python 3",
   "language": "python",
   "name": "python3"
  },
  "language_info": {
   "codemirror_mode": {
    "name": "ipython",
    "version": 3
   },
   "file_extension": ".py",
   "mimetype": "text/x-python",
   "name": "python",
   "nbconvert_exporter": "python",
   "pygments_lexer": "ipython3",
   "version": "3.6.6"
  }
 },
 "nbformat": 4,
 "nbformat_minor": 2
}
