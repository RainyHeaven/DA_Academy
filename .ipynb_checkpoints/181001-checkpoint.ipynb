{
 "cells": [
  {
   "cell_type": "markdown",
   "metadata": {},
   "source": [
    "# CSS(Cascading Style Sheets)\n",
    "\n",
    "-  ###select_one()\n",
    "    -  css 선택자와 매칭되는 첫번째 태그 리턴\n",
    "    -  태그.select_one(css선택자)\n",
    "\n",
    "-  ### select()\n",
    "    -  지정한 css 선택자와 매칭되는 모든 태그를 리스트형태로 리턴\n",
    "    -  태그.select(css선택자)\n"
   ]
  },
  {
   "cell_type": "code",
   "execution_count": 1,
   "metadata": {},
   "outputs": [
    {
     "data": {
      "text/plain": [
       "' 데이터 과학'"
      ]
     },
     "execution_count": 1,
     "metadata": {},
     "output_type": "execute_result"
    }
   ],
   "source": [
    "from bs4 import BeautifulSoup as bs\n",
    "html = '''\n",
    "    <html>\n",
    "        <body>\n",
    "            <div id='lecture1'>\n",
    "                <h1> 데이터 과학</h1>\n",
    "            </div>\n",
    "            <div id='lecture2'>\n",
    "                <h1> 빅데이터분석 </h1>\n",
    "                <ul class='subject'> \n",
    "                    <li> SQL </li>\n",
    "                    <li> R </li>\n",
    "                    <li> PYTHON </li>\n",
    "                </ul>\n",
    "            </div>\n",
    "        </body>\n",
    "    </html>\n",
    "    '''\n",
    "soup = bs(html, 'html.parser')\n",
    "soup.html.div.h1.string"
   ]
  },
  {
   "cell_type": "code",
   "execution_count": 2,
   "metadata": {},
   "outputs": [
    {
     "data": {
      "text/plain": [
       "' 데이터 과학'"
      ]
     },
     "execution_count": 2,
     "metadata": {},
     "output_type": "execute_result"
    }
   ],
   "source": [
    "soup.find('h1').string"
   ]
  },
  {
   "cell_type": "code",
   "execution_count": 3,
   "metadata": {},
   "outputs": [
    {
     "data": {
      "text/plain": [
       "' 데이터 과학'"
      ]
     },
     "execution_count": 3,
     "metadata": {},
     "output_type": "execute_result"
    }
   ],
   "source": [
    "soup.find('h1').get_text()"
   ]
  },
  {
   "cell_type": "code",
   "execution_count": 4,
   "metadata": {},
   "outputs": [
    {
     "data": {
      "text/plain": [
       "' 데이터 과학'"
      ]
     },
     "execution_count": 4,
     "metadata": {},
     "output_type": "execute_result"
    }
   ],
   "source": [
    "soup.find('h1').text"
   ]
  },
  {
   "cell_type": "code",
   "execution_count": 5,
   "metadata": {},
   "outputs": [
    {
     "data": {
      "text/plain": [
       "' 데이터 과학'"
      ]
     },
     "execution_count": 5,
     "metadata": {},
     "output_type": "execute_result"
    }
   ],
   "source": [
    "h1 = soup.find('h1')\n",
    "h1.string"
   ]
  },
  {
   "cell_type": "code",
   "execution_count": 12,
   "metadata": {},
   "outputs": [
    {
     "data": {
      "text/plain": [
       "' 빅데이터분석 '"
      ]
     },
     "execution_count": 12,
     "metadata": {},
     "output_type": "execute_result"
    }
   ],
   "source": [
    "h2 = soup.find(id='lecture2')\n",
    "h2.find('h1').string"
   ]
  },
  {
   "cell_type": "code",
   "execution_count": 33,
   "metadata": {},
   "outputs": [
    {
     "name": "stdout",
     "output_type": "stream",
     "text": [
      "\n",
      "\n",
      " SQL \n",
      "\n",
      "\n",
      " R \n",
      "\n",
      "\n",
      " PYTHON \n",
      "\n",
      "\n"
     ]
    }
   ],
   "source": [
    "ul = soup.find('ul', class_='subject')\n",
    "for i in ul:\n",
    "    print(i.string)"
   ]
  },
  {
   "cell_type": "code",
   "execution_count": 43,
   "metadata": {},
   "outputs": [
    {
     "name": "stdout",
     "output_type": "stream",
     "text": [
      "\n",
      " SQL \n",
      " R \n",
      " PYTHON \n",
      "\n"
     ]
    }
   ],
   "source": [
    "ul = soup.find_all('ul', class_='subject')\n",
    "for i in ul:\n",
    "    print(i.text)"
   ]
  },
  {
   "cell_type": "code",
   "execution_count": 41,
   "metadata": {},
   "outputs": [
    {
     "name": "stdout",
     "output_type": "stream",
     "text": [
      "\n",
      " SQL \n",
      " R \n",
      " PYTHON \n",
      "\n"
     ]
    }
   ],
   "source": [
    "ul = soup.find_all('ul', class_='subject')\n",
    "for i in ul:\n",
    "    print(i.get_text())"
   ]
  },
  {
   "cell_type": "code",
   "execution_count": 44,
   "metadata": {},
   "outputs": [
    {
     "name": "stdout",
     "output_type": "stream",
     "text": [
      "\n",
      " SQL \n",
      " R \n",
      " PYTHON \n",
      "\n"
     ]
    }
   ],
   "source": [
    "ul = soup.findAll('ul', class_='subject')\n",
    "for i in ul:\n",
    "    print(i.text)"
   ]
  },
  {
   "cell_type": "code",
   "execution_count": 45,
   "metadata": {},
   "outputs": [
    {
     "name": "stdout",
     "output_type": "stream",
     "text": [
      "\n",
      " SQL \n",
      " R \n",
      " PYTHON \n",
      "\n"
     ]
    }
   ],
   "source": [
    "ul = soup.findAll('ul', {'class':'subject'})\n",
    "for i in ul:\n",
    "    print(i.text)"
   ]
  },
  {
   "cell_type": "code",
   "execution_count": 48,
   "metadata": {},
   "outputs": [
    {
     "data": {
      "text/plain": [
       "' 데이터 과학'"
      ]
     },
     "execution_count": 48,
     "metadata": {},
     "output_type": "execute_result"
    }
   ],
   "source": [
    "soup.select_one('div > h1').string"
   ]
  },
  {
   "cell_type": "code",
   "execution_count": 49,
   "metadata": {},
   "outputs": [
    {
     "data": {
      "text/plain": [
       "' 데이터 과학'"
      ]
     },
     "execution_count": 49,
     "metadata": {},
     "output_type": "execute_result"
    }
   ],
   "source": [
    "soup.select_one('div#lecture1 > h1').string"
   ]
  },
  {
   "cell_type": "code",
   "execution_count": 50,
   "metadata": {},
   "outputs": [
    {
     "data": {
      "text/plain": [
       "' 빅데이터분석 '"
      ]
     },
     "execution_count": 50,
     "metadata": {},
     "output_type": "execute_result"
    }
   ],
   "source": [
    "soup.select_one('div#lecture2 > h1').string"
   ]
  },
  {
   "cell_type": "code",
   "execution_count": 51,
   "metadata": {},
   "outputs": [
    {
     "name": "stdout",
     "output_type": "stream",
     "text": [
      " SQL \n",
      " R \n",
      " PYTHON \n"
     ]
    }
   ],
   "source": [
    "# select 는 css 선택자로 요소 여러개를 리스트로 추출한다\n",
    "s = soup.select('div#lecture2 > ul.subject > li')\n",
    "for i in s:\n",
    "    print(i.string)"
   ]
  },
  {
   "cell_type": "code",
   "execution_count": 52,
   "metadata": {},
   "outputs": [
    {
     "data": {
      "text/plain": [
       "<span class=\"value\">1,111.70</span>"
      ]
     },
     "execution_count": 52,
     "metadata": {},
     "output_type": "execute_result"
    }
   ],
   "source": [
    "from bs4 import BeautifulSoup as bs\n",
    "import urllib.request as req\n",
    "url = 'https://finance.naver.com/marketindex'\n",
    "html = req.urlopen(url)\n",
    "soup = bs(html, 'html.parser')"
   ]
  },
  {
   "cell_type": "code",
   "execution_count": 60,
   "metadata": {},
   "outputs": [
    {
     "name": "stdout",
     "output_type": "stream",
     "text": [
      "JPY/KRW 975.56\n"
     ]
    }
   ],
   "source": [
    "yen = soup.select_one('div.head_info.point_dn > span.value').string\n",
    "print('JPY/KRW', yen)"
   ]
  },
  {
   "cell_type": "code",
   "execution_count": 62,
   "metadata": {},
   "outputs": [
    {
     "data": {
      "text/plain": [
       "'1,111.70'"
      ]
     },
     "execution_count": 62,
     "metadata": {},
     "output_type": "execute_result"
    }
   ],
   "source": [
    "soup.select_one('a.head.usd > div > span.value').string"
   ]
  },
  {
   "cell_type": "code",
   "execution_count": 63,
   "metadata": {},
   "outputs": [
    {
     "data": {
      "text/plain": [
       "'975.56'"
      ]
     },
     "execution_count": 63,
     "metadata": {},
     "output_type": "execute_result"
    }
   ],
   "source": [
    "soup.select_one('a.head.jpy > div > span.value').string"
   ]
  },
  {
   "cell_type": "code",
   "execution_count": 64,
   "metadata": {},
   "outputs": [
    {
     "data": {
      "text/plain": [
       "'161.48'"
      ]
     },
     "execution_count": 64,
     "metadata": {},
     "output_type": "execute_result"
    }
   ],
   "source": [
    "soup.select_one('a.head.cny > div > span.value').string"
   ]
  },
  {
   "cell_type": "code",
   "execution_count": 71,
   "metadata": {},
   "outputs": [
    {
     "data": {
      "text/plain": [
       "\" '이도' \""
      ]
     },
     "execution_count": 71,
     "metadata": {},
     "output_type": "execute_result"
    }
   ],
   "source": [
    "html='''\n",
    "    <ul id= '조선왕'>\n",
    "        <li id='태조'> '이성계 '</li>\n",
    "        <li id='정종'> '이방과' </li>\n",
    "        <li id='태종'> '이방원' </li>\n",
    "        <li id='세종'> '이도' </li>\n",
    "        <li id='문종'> '이향' </li>\n",
    "    </ul>\n",
    "    '''\n",
    "\n",
    "soup = bs(html, 'html.parser')\n",
    "soup.find(id='세종').text"
   ]
  },
  {
   "cell_type": "code",
   "execution_count": 72,
   "metadata": {},
   "outputs": [
    {
     "data": {
      "text/plain": [
       "\" '이도' \""
      ]
     },
     "execution_count": 72,
     "metadata": {},
     "output_type": "execute_result"
    }
   ],
   "source": [
    "soup.select_one('#세종').text"
   ]
  },
  {
   "cell_type": "code",
   "execution_count": 76,
   "metadata": {},
   "outputs": [
    {
     "data": {
      "text/plain": [
       "\" '이도' \""
      ]
     },
     "execution_count": 76,
     "metadata": {},
     "output_type": "execute_result"
    }
   ],
   "source": [
    "soup.select('#세종')[0].text"
   ]
  },
  {
   "cell_type": "code",
   "execution_count": 78,
   "metadata": {},
   "outputs": [
    {
     "data": {
      "text/plain": [
       "\" '이도' \""
      ]
     },
     "execution_count": 78,
     "metadata": {},
     "output_type": "execute_result"
    }
   ],
   "source": [
    "soup.select('ul#조선왕 > li#세종')[0].string"
   ]
  },
  {
   "cell_type": "code",
   "execution_count": 79,
   "metadata": {},
   "outputs": [
    {
     "data": {
      "text/plain": [
       "\" '이도' \""
      ]
     },
     "execution_count": 79,
     "metadata": {},
     "output_type": "execute_result"
    }
   ],
   "source": [
    "soup.select_one('li:nth-of-type(4)').string"
   ]
  },
  {
   "cell_type": "code",
   "execution_count": 81,
   "metadata": {},
   "outputs": [
    {
     "data": {
      "text/plain": [
       "\" '이도' \""
      ]
     },
     "execution_count": 81,
     "metadata": {},
     "output_type": "execute_result"
    }
   ],
   "source": [
    "soup.select('li')[3].string"
   ]
  },
  {
   "cell_type": "code",
   "execution_count": 82,
   "metadata": {},
   "outputs": [
    {
     "name": "stdout",
     "output_type": "stream",
     "text": [
      " '이성계 '\n",
      " '이방과' \n",
      " '이방원' \n",
      " '이도' \n",
      " '이향' \n"
     ]
    }
   ],
   "source": [
    "for i in soup.select('li'):\n",
    "    print(i.text)"
   ]
  },
  {
   "cell_type": "code",
   "execution_count": 84,
   "metadata": {},
   "outputs": [],
   "source": [
    "url = 'https://finance.naver.com/marketindex'\n",
    "html = req.urlopen(url)\n",
    "soup = bs(html, 'html.parser')"
   ]
  },
  {
   "cell_type": "code",
   "execution_count": 95,
   "metadata": {},
   "outputs": [
    {
     "name": "stdout",
     "output_type": "stream",
     "text": [
      "1,111.00 975.42 1,288.37 161.35\n"
     ]
    }
   ],
   "source": [
    "main = soup.select_one('#exchangeList')\n",
    "dollor = main.select_one('li:nth-of-type(1) > a > div > span.value').string\n",
    "yen = main.select_one('li:nth-of-type(2) > a > div > span.value').string\n",
    "euro = main.select_one('li:nth-of-type(3) > a > div > span.value').string\n",
    "yuan = main.select_one('li:nth-of-type(4) > a > div > span.value').string\n",
    "print(dollor, yen, euro, yuan)"
   ]
  },
  {
   "cell_type": "code",
   "execution_count": 120,
   "metadata": {},
   "outputs": [],
   "source": [
    "url = 'http://news.donga.com/search?query=%EC%9D%B8%EA%B3%B5%EC%A7%80%EB%8A%A5&x=0&y=0'\n",
    "html = req.urlopen(url)\n",
    "soup = bs(html, 'html.parser')\n",
    "\n",
    "links = []\n",
    "for i in soup.select('div.searchList > div.t > p.tit'):\n",
    "    links.append(i.select('a')[0]['href'])\n",
    "\n",
    "articles = []    \n",
    "for link in links:\n",
    "    html = req.urlopen(link).read().decode('utf-8')\n",
    "    soup = bs(html, 'html.parser')\n",
    "    article = soup.select('div.article_txt')\n",
    "    text = []\n",
    "    for i in article:\n",
    "        text.append(i.text)\n",
    "    articles.append(' '.join(text))"
   ]
  },
  {
   "cell_type": "markdown",
   "metadata": {},
   "source": [
    "## konlpy\n",
    "-  자연어 처리를 위한 함수를 제공하는 패키지\n",
    "\n",
    "## Twitter()\n",
    "-  트위터의 데이터를 기반으로 분석을 위한 품사 태깅 클래스\n",
    "\n",
    "### pos()\n",
    "-  데이터에서 형태소의 품사를 tagging 한다\n",
    "-  태깅클래스.pos(데이터, norm=데이터정제여부, stem=근어로표시여부)\n",
    "-  norm: ㅋㅋㅋ 등의 불필요한 단어 제거\n",
    "\n",
    "### nouns()\n",
    "-  데이터에서 명사만 추출한다\n",
    "-  태깅클래스.nouns(데이터)"
   ]
  },
  {
   "cell_type": "code",
   "execution_count": 129,
   "metadata": {},
   "outputs": [
    {
     "name": "stderr",
     "output_type": "stream",
     "text": [
      "C:\\Users\\stu\\Anaconda3\\lib\\site-packages\\konlpy\\tag\\_okt.py:16: UserWarning: \"Twitter\" has changed to \"Okt\" since KoNLPy v0.4.5.\n",
      "  warn('\"Twitter\" has changed to \"Okt\" since KoNLPy v0.4.5.')\n"
     ]
    }
   ],
   "source": [
    "from konlpy.tag import Twitter\n",
    "twt = Twitter()\n",
    "malist = twt.pos('아버지 가방에 들어가신다', norm=True, stem=True)"
   ]
  },
  {
   "cell_type": "code",
   "execution_count": 127,
   "metadata": {},
   "outputs": [
    {
     "data": {
      "text/plain": [
       "[('아버지', 'Noun'), ('가방', 'Noun'), ('에', 'Josa'), ('들어가다', 'Verb')]"
      ]
     },
     "execution_count": 127,
     "metadata": {},
     "output_type": "execute_result"
    }
   ],
   "source": [
    "malist"
   ]
  },
  {
   "cell_type": "code",
   "execution_count": 132,
   "metadata": {},
   "outputs": [
    {
     "name": "stderr",
     "output_type": "stream",
     "text": [
      "C:\\Users\\stu\\Anaconda3\\lib\\site-packages\\konlpy\\tag\\_okt.py:16: UserWarning: \"Twitter\" has changed to \"Okt\" since KoNLPy v0.4.5.\n",
      "  warn('\"Twitter\" has changed to \"Okt\" since KoNLPy v0.4.5.')\n"
     ]
    },
    {
     "data": {
      "text/plain": [
       "['텍스트',\n",
       " '마',\n",
       " '이닝',\n",
       " '텍스트',\n",
       " '형태',\n",
       " '데이터',\n",
       " '수학',\n",
       " '알고리즘',\n",
       " '기초',\n",
       " '수집',\n",
       " '처리',\n",
       " '분석',\n",
       " '요약',\n",
       " '기법',\n",
       " '통칭',\n",
       " '용어']"
      ]
     },
     "execution_count": 132,
     "metadata": {},
     "output_type": "execute_result"
    }
   ],
   "source": [
    "from konlpy.tag import Twitter\n",
    "t = Twitter()\n",
    "txt = '텍스트 마이닝은 텍스트 형태의 데이터를 수학적 알고리즘에 기초하여 수집, 처리, 분석, 요약하는 연구기법을 통칭하는 용어이다.'\n",
    "t.nouns(txt)"
   ]
  }
 ],
 "metadata": {
  "kernelspec": {
   "display_name": "Python 3",
   "language": "python",
   "name": "python3"
  },
  "language_info": {
   "codemirror_mode": {
    "name": "ipython",
    "version": 3
   },
   "file_extension": ".py",
   "mimetype": "text/x-python",
   "name": "python",
   "nbconvert_exporter": "python",
   "pygments_lexer": "ipython3",
   "version": "3.6.6"
  }
 },
 "nbformat": 4,
 "nbformat_minor": 2
}
