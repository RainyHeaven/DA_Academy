{
 "cells": [
  {
   "cell_type": "markdown",
   "metadata": {},
   "source": [
    "[문제165] emp_new.csv 파일  데이터에 커미션 정보를 분석하려 합니다.\n",
    "커미션에 null값들의 수, null이 아닌값들의 수를 구하세요.\n",
    "1. 일반적으로 csv file을 읽어서 해결\n",
    "```python\n",
    "with open('C:/Users/stu/git/DA_Academy/emp_new_1.csv', 'r') as emp:\n",
    "    comm = 0\n",
    "    nocomm = 0\n",
    "    for line in emp:\n",
    "        data = line.split(',')\n",
    "        if len(data[6]) > 0:\n",
    "            comm += 1\n",
    "        else:\n",
    "            nocomm += 1\n",
    "            \n",
    "    print('커미션을 받는 사원: {}명\\n커미션을 받지 않는 사원: {}명'.format(comm, nocomm))\n",
    "```\n",
    "2. pandas를 이용해서 해결\n",
    "```python\n",
    "import pandas as pd\n",
    "emp = pd.read_csv('C:/Users/stu/git/DA_Academy/emp_new_1.csv', \n",
    "                  names=['empid','lname','jobid','mgrid','hiredate','salary', 'commpct', 'deptid'])\n",
    "nocomm = len(emp[emp.commpct.isnull()])\n",
    "print('커미션을 받는 사원: {}명\\n커미션을 받지 않는 사원: {}명'.format(len(emp)-nocomm, nocomm))\n",
    "```\n",
    "\n",
    "[문제166] emp_new.csv, dept_new.csv 파일 데이터를 이용해서  조인된 결과를 보려고 합니다.\n",
    "조인 함수를 생성하세요.\n",
    "join(emp,'deptno','ename', dept,'deptno','dname')\n",
    "join(emp,'mgr','ename', emp,'empno','ename')\n",
    "```python\n",
    "# join(테이블1, 키컬럼, 출력컬럼, 테이블2, 키컬럼, 출력컬럼)\n",
    "import pandas as pd\n",
    "emp = pd.read_csv('C:/Users/stu/git/DA_Academy/emp_new_1.csv', \n",
    "                  names=['empno', 'ename','jobid','mgr','hiredate','salary','commpct','deptno'])\n",
    "dept = pd.read_csv('C:/Users/stu/git/DA_Academy/dept_new.csv', \n",
    "                  names=['deptno','dname','mgrid','loc'])\n",
    "\n",
    "def join(table_1, key_1, column_1, table_2, key_2, column_2):\n",
    "    print(pd.merge(table_1[[key_1, column_1]], table_2[[key_2, column_2]], left_on=key_1, right_on=key_2).iloc[:,[1,-1]])\n",
    "```\n",
    "```python\n",
    "# 선생님 답\n",
    "import  csv\n",
    "empfile = open(\"c:\\data\\emp_new.csv\",'r')\n",
    "deptfile = open(\"c:\\data\\dept_new.csv\",'r')\n",
    "emp_csv = csv.reader(empfile)\n",
    "dept_csv = csv.reader(deptfile)\n",
    "\n",
    "emp = []  \n",
    "dept =[]\n",
    "\n",
    "for i in  dept_csv:\n",
    "    dept.append({'deptno':i[0],'dname':i[1],'mgr':i[2],'loc':i[3]})\n",
    "\n",
    "for j in emp_csv:\n",
    "    emp.append({'empno':j[0],'ename':j[1],'job':j[2],'mgr':j[3], 'hiredate':j[4],'sal':j[5],'comm':j[6],'deptno':j[7]})\n",
    "\n",
    "def join(outer_table,outer_column1,outer_column2,inner_table,inner_column1,inner_column2):\n",
    "   for  o  in  outer_table:\n",
    "      for  i  in  inner_table:\n",
    "         if o[outer_column1] == i[inner_column1]:\n",
    "             print (o[outer_column2], i[inner_column2]) \n",
    "           \n",
    " \n",
    "join(emp,'deptno','ename', dept,'deptno','dname')\n",
    "\n",
    "join(emp,'mgr','ename', emp,'empno','ename')\n",
    "\n",
    "\n",
    "\n",
    "import  pandas  as  pd\n",
    "\n",
    "emp = pd.read_csv(\"c:\\data\\emp_new.csv\", names = ['empid','ename','job','mgr','hire_date','sal','comm','deptno'])\n",
    "dept = pd.read_csv(\"c:\\data\\dept_new.csv\",names = ['deptno','dname','mgr','loc'])\n",
    "\n",
    "def join(outer_table,outer_column1,outer_column2,inner_table,inner_column1,inner_column2):\n",
    "    print(pd.merge(outer_table[[outer_column1,outer_column2]],inner_table[[inner_column1,inner_column2]],left_on=outer_column1,right_on=inner_column1))\n",
    "\n",
    "join(emp,'deptno','ename', dept,'deptno','dname')\n",
    "\n",
    "join(emp,'mgr','ename', emp,'empid','ename')    \n",
    "```\n",
    "\n",
    "[문제167] x변수에는 1,2,3,4,5  y변수에는 6,7,8,9,10 들어 있다. f(x,y) = x2 + y 를 구하세요.(lambda, map 함수를 이용하세요)\n",
    "```python\n",
    "x = [1,2,3,4,5]\n",
    "y = [6,7,8,9,10]\n",
    "\n",
    "def f(x,y):\n",
    "    return list(map(lambda x,y:2*x+y, x,y))\n",
    "```\n",
    "[문제168] emp_new.csv는 pandas로 읽고 dept_new.csv는 일반 csv로 읽어들인 후 조인을 수행하세요.\n",
    "```python\n",
    "import pandas as pd\n",
    "from pandas import Series, DataFrame\n",
    "emp = pd.read_csv('C:/Users/stu/git/DA_Academy/emp_new_1.csv', \n",
    "                  names=['empno', 'ename','jobid','mgr','hiredate','salary','commpct','deptno'])\n",
    "\n",
    "dept = {}\n",
    "with open('C:/Users/stu/git/DA_Academy/dept_new.csv', 'r') as file:\n",
    "    for line in file:\n",
    "        data = line.strip().split(',')\n",
    "        dept[float(data[0])] = data[1]\n",
    "\n",
    "emp['dname'] = emp.deptno.map(dept)\n",
    "```\n",
    "\n",
    "[문제169] happiness 변수에 문장이 있습니다. 행복이란 단어가 몇개 나오는지 분석하시고, 위치정보도 출력해주세요.\n",
    "```\n",
    "happiness = '우리나라 「헌법」 제10조는 “모든 국민은 인간으로서의 존엄과 가치를 가지며, 행복을 추구할 권리를 가진다”라고 규정하고 있다.행복추구권은 근대 입헌민주주의의 핵심인 개인주의·자유주의를 그 사상적 기반으로 하고 있다. 행복추구권에 있어서 행복은 다의적인 개념으로, 각자의 생활조건이나 가치관에 따라 다르게 이해될 수 있으나, 최소한 인간적인 고통이 없는 상태 내지 만족감을 느낄 수 있는 행복한 상태를 의미한다.'\n",
    "```\n",
    "```python\n",
    "happiness = '우리나라 「헌법」 제10조는 “모든 국민은 인간으로서의 존엄과 가치를 가지며, 행복을 추구할 권리를 가진다”라고 규정하고 있다.행복추구권은 근대 입헌민주주의의 핵심인 개인주의·자유주의를 그 사상적 기반으로 하고 있다. 행복추구권에 있어서 행복은 다의적인 개념으로, 각자의 생활조건이나 가치관에 따라 다르게 이해될 수 있으나, 최소한 인간적인 고통이 없는 상태 내지 만족감을 느낄 수 있는 행복한 상태를 의미한다.'\n",
    "result = []\n",
    "start = 0\n",
    "try:\n",
    "    while True:\n",
    "        i = happiness.index('행복', start)\n",
    "        result.append(i)\n",
    "        start = i+1\n",
    "\n",
    "except ValueError:\n",
    "    num = len(result)\n",
    "    print('\"행복\"은 총 {}회 발견되었습니다.'.format(num))\n",
    "    if num:\n",
    "        print('위치:', result)\n",
    "\n",
    "except Exception as error:\n",
    "    print('에러가 발생했습니다! ',error)\n",
    "```    \n",
    "[문제170] emp1.csv, emp2.csv파일을 읽어서 부서별 총액급여를 구하세요.\n",
    "```python\n",
    "import pandas as pd\n",
    "from pandas import Series, DataFrame\n",
    "emp = pd.DataFrame()\n",
    "for i in range(1, 3):\n",
    "    temp = pd.read_csv('C:/Users/stu/git/DA_Academy/emp{}.csv'.format(i), \n",
    "                      names=['empid', 'lname','hiredate','salary','deptid'])\n",
    "    emp = emp.append(temp)\n",
    "print(emp.salary.groupby(emp.deptid).sum())    \n",
    "```\n",
    "\n",
    "[문제171] 2016년도에 태어난 아이들의 정보가 들어 있는 year2016파일을 분석해야 합니다. 총 출생수를 출력해주세요.\n",
    "```python\n",
    "total = 0\n",
    "with open('C:/Users/stu/git/DA_Academy/yob2016.txt', 'r') as file:\n",
    "    for line in file:\n",
    "        data = line.split(',')\n",
    "        total += int(data[2])\n",
    "print('2016년 총 출생수:', total)        \n",
    "```\n",
    "```python\n",
    "# pandas\n",
    "import pandas as pd\n",
    "yob = pd.read_csv('C:/Users/stu/git/DA_Academy/yob2016.txt', names=['name','gender','num'])\n",
    "print('2016년 총 출생수:', yob.num.sum())        \n",
    "```\n",
    "```python\n",
    "# 선생님 답\n",
    "import csv\n",
    "import os\n",
    "\n",
    "count=0\n",
    "file = 'c:\\data\\yob2016.txt'\n",
    "name = os.path.basename('c:\\data\\yob2016.txt') # os.path.basename: 경로를 제거하고 파일명만 리턴하는 함수\n",
    "name = name.split('.')[0]\n",
    "with open(file,'r') as f:\n",
    "    data=csv.reader(f)\n",
    "    for d in data:\n",
    "        count += int(d[2])\n",
    "print(name,count)\n",
    "\n",
    "import csv\n",
    "import os\n",
    "\n",
    "count=0\n",
    "file = 'c:\\data\\yob2016.txt'\n",
    "name = os.path.basename('c:\\data\\yob2016.txt')\n",
    "name = name.split('.')[0]\n",
    "with open(file,'r') as f:\n",
    "    data=f.readlines()\n",
    "    for d in data:\n",
    "        birth = d.split(',')[2]\n",
    "        count += int(birth)\n",
    "print(name,count)\n",
    "\n",
    "\n",
    "\n",
    "import pandas as pd \n",
    "import os\n",
    "\n",
    "file = 'c:/data/yob2016.txt'\n",
    "name = os.path.basename(file)\n",
    "name = name.split('.')[0]\n",
    "\n",
    "yob = pd.read_csv('c:\\data\\yob2016.txt', names=['name','gender','birth'])\n",
    "\n",
    "\n",
    "print(name,yob['birth'].sum())\n",
    "```\n",
    "\n",
    "[문제172] 2016년도에 태어난 아이 이름 상위 10까지 보여주세요. 성별 상위 5까지 보여주세요.\n",
    "```python\n",
    "import pandas as pd\n",
    "yob = pd.read_csv('C:/Users/stu/git/DA_Academy/yob2016.txt', names=['name','gender','num'])\n",
    "# 상위 10위\n",
    "## sort 사용\n",
    "yob.sort_values(ascending=False, by='num')[0:10]\n",
    "## rank 사용\n",
    "yob[yob.num.rank(ascending=False, method='dense', na_option='bottom')<=10].sort_values(ascending=False, by='num')\n",
    "\n",
    "# 성별 상위 5위\n",
    "## sort 사용\n",
    "female = yob[yob.gender == 'F'].sort_values(ascending=False, by='num')[0:5]\n",
    "male = yob[yob.gender == 'M'].sort_values(ascending=False, by='num')[0:5]\n",
    "pd.concat([female, male])\n",
    "## rank 사용\n",
    "yob[yob.groupby('gender').num.rank(ascending=False, method='dense', na_option='bottom')<=5].sort_values(ascending=False, by='gender')\n",
    "```\n",
    "```python\n",
    "# 선생님답\n",
    "import pandas as pd \n",
    "\n",
    "yob2016 = pd.read_csv('c:\\data\\yob2016.txt', names=['name','gender','birth'])\n",
    "\n",
    "def top(df, n=5, column='birth'):\n",
    "    return df.sort_values(by=column, ascending=False)[:n]\n",
    "\n",
    "print(top(yob2016 , n=10))\n",
    "\n",
    "print(yob2016.groupby('gender').apply(top))\n",
    "```"
   ]
  },
  {
   "cell_type": "code",
   "execution_count": 251,
   "metadata": {},
   "outputs": [
    {
     "data": {
      "text/plain": [
       "0         True\n",
       "1         True\n",
       "2         True\n",
       "3         True\n",
       "4         True\n",
       "5        False\n",
       "6        False\n",
       "7        False\n",
       "8        False\n",
       "9        False\n",
       "10       False\n",
       "11       False\n",
       "12       False\n",
       "13       False\n",
       "14       False\n",
       "15       False\n",
       "16       False\n",
       "17       False\n",
       "18       False\n",
       "19       False\n",
       "20       False\n",
       "21       False\n",
       "22       False\n",
       "23       False\n",
       "24       False\n",
       "25       False\n",
       "26       False\n",
       "27       False\n",
       "28       False\n",
       "29       False\n",
       "         ...  \n",
       "32838    False\n",
       "32839    False\n",
       "32840    False\n",
       "32841    False\n",
       "32842    False\n",
       "32843    False\n",
       "32844    False\n",
       "32845    False\n",
       "32846    False\n",
       "32847    False\n",
       "32848    False\n",
       "32849    False\n",
       "32850    False\n",
       "32851    False\n",
       "32852    False\n",
       "32853    False\n",
       "32854    False\n",
       "32855    False\n",
       "32856    False\n",
       "32857    False\n",
       "32858    False\n",
       "32859    False\n",
       "32860    False\n",
       "32861    False\n",
       "32862    False\n",
       "32863    False\n",
       "32864    False\n",
       "32865    False\n",
       "32866    False\n",
       "32867    False\n",
       "Name: num, Length: 32868, dtype: bool"
      ]
     },
     "execution_count": 251,
     "metadata": {},
     "output_type": "execute_result"
    }
   ],
   "source": [
    "yob.groupby('gender').num.rank(ascending=False, method='dense', na_option='bottom') <= 5"
   ]
  },
  {
   "cell_type": "code",
   "execution_count": 196,
   "metadata": {},
   "outputs": [
    {
     "name": "stdout",
     "output_type": "stream",
     "text": [
      "deptid\n",
      "10.0       8800\n",
      "20.0      38000\n",
      "30.0      49800\n",
      "40.0      13000\n",
      "50.0     312800\n",
      "60.0      57600\n",
      "70.0      20000\n",
      "80.0     609000\n",
      "90.0     124200\n",
      "100.0    103216\n",
      "110.0     40616\n",
      "Name: salary, dtype: int64\n"
     ]
    }
   ],
   "source": [
    "import pandas as pd\n",
    "from pandas import Series, DataFrame\n",
    "emp = pd.DataFrame()\n",
    "for i in range(1, 3):\n",
    "    temp = pd.read_csv('C:/Users/stu/git/DA_Academy/emp{}.csv'.format(i), \n",
    "                      names=['empid', 'lname','hiredate','salary','deptid'])\n",
    "    emp = emp.append(temp)\n",
    "print(emp.salary.groupby(emp.deptid).sum())    \n",
    "    "
   ]
  },
  {
   "cell_type": "code",
   "execution_count": 87,
   "metadata": {},
   "outputs": [
    {
     "name": "stdout",
     "output_type": "stream",
     "text": [
      "1 하나\n",
      "2 둘\n",
      "3 셋\n"
     ]
    }
   ],
   "source": [
    "from pandas import Series, DataFrame\n",
    "import pandas as pd\n",
    "import numpy as np\n",
    "\n",
    "x = Series([1,2,3], index=['one','two','three'])\n",
    "y = Series(['하나','둘','셋'], index=[1,2,3])\n",
    "for i in x:\n",
    "    for j in y.index:\n",
    "        if i == j:\n",
    "            print(i,y[j])            "
   ]
  },
  {
   "cell_type": "code",
   "execution_count": 88,
   "metadata": {},
   "outputs": [
    {
     "data": {
      "text/html": [
       "<div>\n",
       "<style scoped>\n",
       "    .dataframe tbody tr th:only-of-type {\n",
       "        vertical-align: middle;\n",
       "    }\n",
       "\n",
       "    .dataframe tbody tr th {\n",
       "        vertical-align: top;\n",
       "    }\n",
       "\n",
       "    .dataframe thead th {\n",
       "        text-align: right;\n",
       "    }\n",
       "</style>\n",
       "<table border=\"1\" class=\"dataframe\">\n",
       "  <thead>\n",
       "    <tr style=\"text-align: right;\">\n",
       "      <th></th>\n",
       "      <th>key_0</th>\n",
       "      <th>0_x</th>\n",
       "      <th>0_y</th>\n",
       "    </tr>\n",
       "  </thead>\n",
       "  <tbody>\n",
       "    <tr>\n",
       "      <th>one</th>\n",
       "      <td>1</td>\n",
       "      <td>1</td>\n",
       "      <td>하나</td>\n",
       "    </tr>\n",
       "    <tr>\n",
       "      <th>two</th>\n",
       "      <td>2</td>\n",
       "      <td>2</td>\n",
       "      <td>둘</td>\n",
       "    </tr>\n",
       "    <tr>\n",
       "      <th>three</th>\n",
       "      <td>3</td>\n",
       "      <td>3</td>\n",
       "      <td>셋</td>\n",
       "    </tr>\n",
       "  </tbody>\n",
       "</table>\n",
       "</div>"
      ],
      "text/plain": [
       "       key_0  0_x 0_y\n",
       "one        1    1  하나\n",
       "two        2    2   둘\n",
       "three      3    3   셋"
      ]
     },
     "execution_count": 88,
     "metadata": {},
     "output_type": "execute_result"
    }
   ],
   "source": [
    "x1 = DataFrame(x)\n",
    "y1 = DataFrame(y)\n",
    "pd.merge(x1, y1, left_on=0, right_index=True) # 한쪽의 값과 다른쪽의 인덱스를 join 할 때"
   ]
  },
  {
   "cell_type": "code",
   "execution_count": 89,
   "metadata": {},
   "outputs": [
    {
     "data": {
      "text/plain": [
       "one      하나\n",
       "two       둘\n",
       "three     셋\n",
       "dtype: object"
      ]
     },
     "execution_count": 89,
     "metadata": {},
     "output_type": "execute_result"
    }
   ],
   "source": [
    "x.map(y)"
   ]
  },
  {
   "cell_type": "code",
   "execution_count": 67,
   "metadata": {},
   "outputs": [
    {
     "data": {
      "text/plain": [
       "[2, 4, 6, 8, 10]"
      ]
     },
     "execution_count": 67,
     "metadata": {},
     "output_type": "execute_result"
    }
   ],
   "source": [
    "def f(arg):\n",
    "    result=[]\n",
    "    for i in arg:\n",
    "        result.append(i*2)\n",
    "    return result\n",
    "f([1,2,3,4,5])"
   ]
  },
  {
   "cell_type": "code",
   "execution_count": 68,
   "metadata": {},
   "outputs": [
    {
     "data": {
      "text/plain": [
       "[1, 2, 3, 4, 5, 1, 2, 3, 4, 5]"
      ]
     },
     "execution_count": 68,
     "metadata": {},
     "output_type": "execute_result"
    }
   ],
   "source": [
    "def f1(arg):\n",
    "    return arg*2\n",
    "f1([1,2,3,4,5])"
   ]
  },
  {
   "cell_type": "markdown",
   "metadata": {},
   "source": [
    "### map()\n",
    "-  map 함수는 입력받는 자료형의 각 요소가 함수에 수행된 결과를 묶어서 리턴하는 함수"
   ]
  },
  {
   "cell_type": "code",
   "execution_count": 71,
   "metadata": {},
   "outputs": [
    {
     "data": {
      "text/plain": [
       "[2, 4, 6, 8, 10]"
      ]
     },
     "execution_count": 71,
     "metadata": {},
     "output_type": "execute_result"
    }
   ],
   "source": [
    "list(map(f1,([1,2,3,4,5])))"
   ]
  },
  {
   "cell_type": "code",
   "execution_count": 72,
   "metadata": {},
   "outputs": [
    {
     "data": {
      "text/plain": [
       "[2, 4, 6, 8, 10]"
      ]
     },
     "execution_count": 72,
     "metadata": {},
     "output_type": "execute_result"
    }
   ],
   "source": [
    "list(map((lambda x:x*2), ([1,2,3,4,5])))"
   ]
  }
 ],
 "metadata": {
  "kernelspec": {
   "display_name": "Python 3",
   "language": "python",
   "name": "python3"
  },
  "language_info": {
   "codemirror_mode": {
    "name": "ipython",
    "version": 3
   },
   "file_extension": ".py",
   "mimetype": "text/x-python",
   "name": "python",
   "nbconvert_exporter": "python",
   "pygments_lexer": "ipython3",
   "version": "3.6.6"
  }
 },
 "nbformat": 4,
 "nbformat_minor": 2
}
