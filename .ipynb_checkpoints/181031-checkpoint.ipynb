{
 "cells": [
  {
   "cell_type": "markdown",
   "metadata": {},
   "source": [
    "[문제199] 보험데이터를 이용해서 보험료에 가장 영향을 주는 독립변수가 무엇인지 확인하세요.\n",
    "```python\n",
    "import pandas as pd\n",
    "import statsmodels.api as sm\n",
    "from sklearn.preprocessing import minmax_scale\n",
    "\n",
    "data = pd.read_csv('data/insurance.csv')\n",
    "data.head() # 데이터 확인\n",
    "data.isnull().sum() # null값 존재 확인\n",
    "\n",
    "lr = LogisticRegression()\n",
    "cols = ['sex', 'smoker', 'region']\n",
    "train_data = data.loc[:, ['age', 'bmi', 'children']].copy()\n",
    "train_label = minmax_scale(data.iloc[:,-1].copy()) # 라벨값을 0-1로 스케일링\n",
    "for i in cols:\n",
    "    temp = pd.get_dummies(data.loc[:,i], prefix=i)\n",
    "    train_data = train_data.join(temp)\n",
    "    \n",
    "logit = sm.Logit(train_label, train_data)\n",
    "result = logit.fit()\n",
    "result.summary2() #smoke_no / 비흡연 여부가 가장 큰 영향을 줌\n",
    "```\n",
    "```\n",
    "Optimization terminated successfully.\n",
    "         Current function value: 0.291203\n",
    "         Iterations 6\n",
    "Model:\tLogit\tPseudo R-squared:\t-0.233\n",
    "Dependent Variable:\ty\tAIC:\t797.2596\n",
    "Date:\t2018-10-31 10:04\tBIC:\t844.0500\n",
    "No. Observations:\t1338\tLog-Likelihood:\t-389.63\n",
    "Df Model:\t8\tLL-Null:\t-316.07\n",
    "Df Residuals:\t1329\tLLR p-value:\t1.0000\n",
    "Converged:\t1.0000\tScale:\t1.0000\n",
    "No. Iterations:\t6.0000\t\t\n",
    "Coef.\tStd.Err.\tz\tP>|z|\t[0.025\t0.975]\n",
    "age\t0.0328\t0.0057\t5.7351\t0.0000\t0.0216\t0.0440\n",
    "bmi\t0.0426\t0.0131\t3.2476\t0.0012\t0.0169\t0.0683\n",
    "children\t0.0683\t0.0632\t1.0814\t0.2795\t-0.0555\t0.1922\n",
    "sex_female\t-1.4781\t69213589.8710\t-0.0000\t1.0000\t-135656144.8659\t135656141.9097\n",
    "sex_male\t-1.5119\t69213589.8710\t-0.0000\t1.0000\t-135656144.8998\t135656141.8759\n",
    "smoker_no\t-2.5688\t24098438.0315\t-0.0000\t1.0000\t-47232073.1942\t47232068.0566\n",
    "smoker_yes\t-0.4212\t24098438.0315\t-0.0000\t1.0000\t-47232071.0466\t47232070.2042\n",
    "region_northeast\t-0.6673\t93768132.3561\t-0.0000\t1.0000\t-183782162.9828\t183782161.6482\n",
    "region_northwest\t-0.7228\t93768132.3561\t-0.0000\t1.0000\t-183782163.0383\t183782161.5928\n",
    "region_southeast\t-0.8151\t93768132.3561\t-0.0000\t1.0000\t-183782163.1306\t183782161.5005\n",
    "region_southwest\t-0.7849\t93768132.3561\t-0.0000\t1.0000\t-183782163.1004\t183782161.5307\n",
    "```"
   ]
  },
  {
   "cell_type": "code",
   "execution_count": 18,
   "metadata": {},
   "outputs": [],
   "source": [
    "import pandas as pd\n",
    "import statsmodels.api as sm\n",
    "from sklearn.preprocessing import minmax_scale"
   ]
  },
  {
   "cell_type": "code",
   "execution_count": 4,
   "metadata": {},
   "outputs": [
    {
     "data": {
      "text/html": [
       "<div>\n",
       "<style scoped>\n",
       "    .dataframe tbody tr th:only-of-type {\n",
       "        vertical-align: middle;\n",
       "    }\n",
       "\n",
       "    .dataframe tbody tr th {\n",
       "        vertical-align: top;\n",
       "    }\n",
       "\n",
       "    .dataframe thead th {\n",
       "        text-align: right;\n",
       "    }\n",
       "</style>\n",
       "<table border=\"1\" class=\"dataframe\">\n",
       "  <thead>\n",
       "    <tr style=\"text-align: right;\">\n",
       "      <th></th>\n",
       "      <th>age</th>\n",
       "      <th>sex</th>\n",
       "      <th>bmi</th>\n",
       "      <th>children</th>\n",
       "      <th>smoker</th>\n",
       "      <th>region</th>\n",
       "      <th>charges</th>\n",
       "    </tr>\n",
       "  </thead>\n",
       "  <tbody>\n",
       "    <tr>\n",
       "      <th>0</th>\n",
       "      <td>19</td>\n",
       "      <td>female</td>\n",
       "      <td>27.900</td>\n",
       "      <td>0</td>\n",
       "      <td>yes</td>\n",
       "      <td>southwest</td>\n",
       "      <td>16884.92400</td>\n",
       "    </tr>\n",
       "    <tr>\n",
       "      <th>1</th>\n",
       "      <td>18</td>\n",
       "      <td>male</td>\n",
       "      <td>33.770</td>\n",
       "      <td>1</td>\n",
       "      <td>no</td>\n",
       "      <td>southeast</td>\n",
       "      <td>1725.55230</td>\n",
       "    </tr>\n",
       "    <tr>\n",
       "      <th>2</th>\n",
       "      <td>28</td>\n",
       "      <td>male</td>\n",
       "      <td>33.000</td>\n",
       "      <td>3</td>\n",
       "      <td>no</td>\n",
       "      <td>southeast</td>\n",
       "      <td>4449.46200</td>\n",
       "    </tr>\n",
       "    <tr>\n",
       "      <th>3</th>\n",
       "      <td>33</td>\n",
       "      <td>male</td>\n",
       "      <td>22.705</td>\n",
       "      <td>0</td>\n",
       "      <td>no</td>\n",
       "      <td>northwest</td>\n",
       "      <td>21984.47061</td>\n",
       "    </tr>\n",
       "    <tr>\n",
       "      <th>4</th>\n",
       "      <td>32</td>\n",
       "      <td>male</td>\n",
       "      <td>28.880</td>\n",
       "      <td>0</td>\n",
       "      <td>no</td>\n",
       "      <td>northwest</td>\n",
       "      <td>3866.85520</td>\n",
       "    </tr>\n",
       "  </tbody>\n",
       "</table>\n",
       "</div>"
      ],
      "text/plain": [
       "   age     sex     bmi  children smoker     region      charges\n",
       "0   19  female  27.900         0    yes  southwest  16884.92400\n",
       "1   18    male  33.770         1     no  southeast   1725.55230\n",
       "2   28    male  33.000         3     no  southeast   4449.46200\n",
       "3   33    male  22.705         0     no  northwest  21984.47061\n",
       "4   32    male  28.880         0     no  northwest   3866.85520"
      ]
     },
     "execution_count": 4,
     "metadata": {},
     "output_type": "execute_result"
    }
   ],
   "source": [
    "data = pd.read_csv('data/insurance.csv')\n",
    "data.head()"
   ]
  },
  {
   "cell_type": "code",
   "execution_count": 11,
   "metadata": {},
   "outputs": [
    {
     "data": {
      "text/plain": [
       "age         0\n",
       "sex         0\n",
       "bmi         0\n",
       "children    0\n",
       "smoker      0\n",
       "region      0\n",
       "charges     0\n",
       "dtype: int64"
      ]
     },
     "execution_count": 11,
     "metadata": {},
     "output_type": "execute_result"
    }
   ],
   "source": [
    "data.isnull().sum()"
   ]
  },
  {
   "cell_type": "code",
   "execution_count": 20,
   "metadata": {},
   "outputs": [
    {
     "name": "stdout",
     "output_type": "stream",
     "text": [
      "Optimization terminated successfully.\n",
      "         Current function value: 0.291203\n",
      "         Iterations 6\n"
     ]
    },
    {
     "data": {
      "text/html": [
       "<table class=\"simpletable\">\n",
       "<tr>\n",
       "        <td>Model:</td>              <td>Logit</td>      <td>Pseudo R-squared:</td>  <td>-0.233</td> \n",
       "</tr>\n",
       "<tr>\n",
       "  <td>Dependent Variable:</td>         <td>y</td>              <td>AIC:</td>        <td>797.2596</td>\n",
       "</tr>\n",
       "<tr>\n",
       "         <td>Date:</td>        <td>2018-10-31 10:04</td>       <td>BIC:</td>        <td>844.0500</td>\n",
       "</tr>\n",
       "<tr>\n",
       "   <td>No. Observations:</td>        <td>1338</td>        <td>Log-Likelihood:</td>   <td>-389.63</td>\n",
       "</tr>\n",
       "<tr>\n",
       "       <td>Df Model:</td>              <td>8</td>            <td>LL-Null:</td>       <td>-316.07</td>\n",
       "</tr>\n",
       "<tr>\n",
       "     <td>Df Residuals:</td>          <td>1329</td>         <td>LLR p-value:</td>     <td>1.0000</td> \n",
       "</tr>\n",
       "<tr>\n",
       "      <td>Converged:</td>           <td>1.0000</td>           <td>Scale:</td>        <td>1.0000</td> \n",
       "</tr>\n",
       "<tr>\n",
       "    <td>No. Iterations:</td>        <td>6.0000</td>              <td></td>              <td></td>    \n",
       "</tr>\n",
       "</table>\n",
       "<table class=\"simpletable\">\n",
       "<tr>\n",
       "          <td></td>          <th>Coef.</th>    <th>Std.Err.</th>       <th>z</th>     <th>P>|z|</th>     <th>[0.025</th>          <th>0.975]</th>    \n",
       "</tr>\n",
       "<tr>\n",
       "  <th>age</th>              <td>0.0328</td>     <td>0.0057</td>     <td>5.7351</td>  <td>0.0000</td>     <td>0.0216</td>          <td>0.0440</td>    \n",
       "</tr>\n",
       "<tr>\n",
       "  <th>bmi</th>              <td>0.0426</td>     <td>0.0131</td>     <td>3.2476</td>  <td>0.0012</td>     <td>0.0169</td>          <td>0.0683</td>    \n",
       "</tr>\n",
       "<tr>\n",
       "  <th>children</th>         <td>0.0683</td>     <td>0.0632</td>     <td>1.0814</td>  <td>0.2795</td>     <td>-0.0555</td>         <td>0.1922</td>    \n",
       "</tr>\n",
       "<tr>\n",
       "  <th>sex_female</th>       <td>-1.4781</td> <td>69213589.8710</td> <td>-0.0000</td> <td>1.0000</td> <td>-135656144.8659</td> <td>135656141.9097</td>\n",
       "</tr>\n",
       "<tr>\n",
       "  <th>sex_male</th>         <td>-1.5119</td> <td>69213589.8710</td> <td>-0.0000</td> <td>1.0000</td> <td>-135656144.8998</td> <td>135656141.8759</td>\n",
       "</tr>\n",
       "<tr>\n",
       "  <th>smoker_no</th>        <td>-2.5688</td> <td>24098438.0315</td> <td>-0.0000</td> <td>1.0000</td> <td>-47232073.1942</td>   <td>47232068.0566</td>\n",
       "</tr>\n",
       "<tr>\n",
       "  <th>smoker_yes</th>       <td>-0.4212</td> <td>24098438.0315</td> <td>-0.0000</td> <td>1.0000</td> <td>-47232071.0466</td>   <td>47232070.2042</td>\n",
       "</tr>\n",
       "<tr>\n",
       "  <th>region_northeast</th> <td>-0.6673</td> <td>93768132.3561</td> <td>-0.0000</td> <td>1.0000</td> <td>-183782162.9828</td> <td>183782161.6482</td>\n",
       "</tr>\n",
       "<tr>\n",
       "  <th>region_northwest</th> <td>-0.7228</td> <td>93768132.3561</td> <td>-0.0000</td> <td>1.0000</td> <td>-183782163.0383</td> <td>183782161.5928</td>\n",
       "</tr>\n",
       "<tr>\n",
       "  <th>region_southeast</th> <td>-0.8151</td> <td>93768132.3561</td> <td>-0.0000</td> <td>1.0000</td> <td>-183782163.1306</td> <td>183782161.5005</td>\n",
       "</tr>\n",
       "<tr>\n",
       "  <th>region_southwest</th> <td>-0.7849</td> <td>93768132.3561</td> <td>-0.0000</td> <td>1.0000</td> <td>-183782163.1004</td> <td>183782161.5307</td>\n",
       "</tr>\n",
       "</table>"
      ],
      "text/plain": [
       "<class 'statsmodels.iolib.summary2.Summary'>\n",
       "\"\"\"\n",
       "                                   Results: Logit\n",
       "====================================================================================\n",
       "Model:                     Logit                   Pseudo R-squared:        -0.233  \n",
       "Dependent Variable:        y                       AIC:                     797.2596\n",
       "Date:                      2018-10-31 10:04        BIC:                     844.0500\n",
       "No. Observations:          1338                    Log-Likelihood:          -389.63 \n",
       "Df Model:                  8                       LL-Null:                 -316.07 \n",
       "Df Residuals:              1329                    LLR p-value:             1.0000  \n",
       "Converged:                 1.0000                  Scale:                   1.0000  \n",
       "No. Iterations:            6.0000                                                   \n",
       "------------------------------------------------------------------------------------\n",
       "                  Coef.     Std.Err.      z    P>|z|       [0.025         0.975]    \n",
       "------------------------------------------------------------------------------------\n",
       "age               0.0328        0.0057  5.7351 0.0000          0.0216         0.0440\n",
       "bmi               0.0426        0.0131  3.2476 0.0012          0.0169         0.0683\n",
       "children          0.0683        0.0632  1.0814 0.2795         -0.0555         0.1922\n",
       "sex_female       -1.4781 69213589.8710 -0.0000 1.0000 -135656144.8659 135656141.9097\n",
       "sex_male         -1.5119 69213589.8710 -0.0000 1.0000 -135656144.8998 135656141.8759\n",
       "smoker_no        -2.5688 24098438.0315 -0.0000 1.0000  -47232073.1942  47232068.0566\n",
       "smoker_yes       -0.4212 24098438.0315 -0.0000 1.0000  -47232071.0466  47232070.2042\n",
       "region_northeast -0.6673 93768132.3561 -0.0000 1.0000 -183782162.9828 183782161.6482\n",
       "region_northwest -0.7228 93768132.3561 -0.0000 1.0000 -183782163.0383 183782161.5928\n",
       "region_southeast -0.8151 93768132.3561 -0.0000 1.0000 -183782163.1306 183782161.5005\n",
       "region_southwest -0.7849 93768132.3561 -0.0000 1.0000 -183782163.1004 183782161.5307\n",
       "====================================================================================\n",
       "\n",
       "\"\"\""
      ]
     },
     "execution_count": 20,
     "metadata": {},
     "output_type": "execute_result"
    }
   ],
   "source": [
    "lr = LogisticRegression()\n",
    "cols = ['sex', 'smoker', 'region']\n",
    "train_data = data.loc[:, ['age', 'bmi', 'children']].copy()\n",
    "train_label = minmax_scale(data.iloc[:,-1].copy())\n",
    "for i in cols:\n",
    "    temp = pd.get_dummies(data.loc[:,i], prefix=i)\n",
    "    train_data = train_data.join(temp)\n",
    "    \n",
    "logit = sm.Logit(train_label, train_data)\n",
    "result = logit.fit()\n",
    "result.summary2()"
   ]
  },
  {
   "cell_type": "code",
   "execution_count": 25,
   "metadata": {
    "scrolled": true
   },
   "outputs": [
    {
     "name": "stdout",
     "output_type": "stream",
     "text": [
      "Optimization terminated successfully.\n",
      "         Current function value: 0.291203\n",
      "         Iterations 6\n"
     ]
    },
    {
     "name": "stderr",
     "output_type": "stream",
     "text": [
      "C:\\Users\\stu\\Anaconda3\\lib\\site-packages\\statsmodels\\base\\model.py:1092: RuntimeWarning: invalid value encountered in sqrt\n",
      "  bse_ = np.sqrt(np.diag(self.cov_params()))\n",
      "C:\\Users\\stu\\Anaconda3\\lib\\site-packages\\scipy\\stats\\_distn_infrastructure.py:879: RuntimeWarning: invalid value encountered in greater\n",
      "  return (self.a < x) & (x < self.b)\n",
      "C:\\Users\\stu\\Anaconda3\\lib\\site-packages\\scipy\\stats\\_distn_infrastructure.py:879: RuntimeWarning: invalid value encountered in less\n",
      "  return (self.a < x) & (x < self.b)\n",
      "C:\\Users\\stu\\Anaconda3\\lib\\site-packages\\scipy\\stats\\_distn_infrastructure.py:1821: RuntimeWarning: invalid value encountered in less_equal\n",
      "  cond2 = cond0 & (x <= self.a)\n"
     ]
    },
    {
     "data": {
      "text/html": [
       "<table class=\"simpletable\">\n",
       "<tr>\n",
       "        <td>Model:</td>              <td>Logit</td>      <td>Pseudo R-squared:</td>  <td>-0.233</td> \n",
       "</tr>\n",
       "<tr>\n",
       "  <td>Dependent Variable:</td>         <td>y</td>              <td>AIC:</td>        <td>797.2596</td>\n",
       "</tr>\n",
       "<tr>\n",
       "         <td>Date:</td>        <td>2018-10-31 13:53</td>       <td>BIC:</td>        <td>844.0500</td>\n",
       "</tr>\n",
       "<tr>\n",
       "   <td>No. Observations:</td>        <td>1338</td>        <td>Log-Likelihood:</td>   <td>-389.63</td>\n",
       "</tr>\n",
       "<tr>\n",
       "       <td>Df Model:</td>              <td>8</td>            <td>LL-Null:</td>       <td>-316.07</td>\n",
       "</tr>\n",
       "<tr>\n",
       "     <td>Df Residuals:</td>          <td>1329</td>         <td>LLR p-value:</td>     <td>1.0000</td> \n",
       "</tr>\n",
       "<tr>\n",
       "      <td>Converged:</td>           <td>1.0000</td>           <td>Scale:</td>        <td>1.0000</td> \n",
       "</tr>\n",
       "<tr>\n",
       "    <td>No. Iterations:</td>        <td>6.0000</td>              <td></td>              <td></td>    \n",
       "</tr>\n",
       "</table>\n",
       "<table class=\"simpletable\">\n",
       "<tr>\n",
       "          <td></td>          <th>Coef.</th>    <th>Std.Err.</th>      <th>z</th>     <th>P>|z|</th>     <th>[0.025</th>        <th>0.975]</th>    \n",
       "</tr>\n",
       "<tr>\n",
       "  <th>age</th>              <td>1.5074</td>     <td>0.2628</td>    <td>5.7351</td>  <td>0.0000</td>     <td>0.9923</td>        <td>2.0226</td>    \n",
       "</tr>\n",
       "<tr>\n",
       "  <th>bmi</th>              <td>1.5833</td>     <td>0.4875</td>    <td>3.2476</td>  <td>0.0012</td>     <td>0.6277</td>        <td>2.5388</td>    \n",
       "</tr>\n",
       "<tr>\n",
       "  <th>children</th>         <td>0.3417</td>     <td>0.3160</td>    <td>1.0814</td>  <td>0.2795</td>     <td>-0.2776</td>       <td>0.9611</td>    \n",
       "</tr>\n",
       "<tr>\n",
       "  <th>sex_female</th>       <td>-0.9702</td> <td>6248949.8991</td> <td>-0.0000</td> <td>1.0000</td> <td>-12247717.7137</td> <td>12247715.7732</td>\n",
       "</tr>\n",
       "<tr>\n",
       "  <th>sex_male</th>         <td>-1.0041</td> <td>6248949.8991</td> <td>-0.0000</td> <td>1.0000</td> <td>-12247717.7475</td> <td>12247715.7394</td>\n",
       "</tr>\n",
       "<tr>\n",
       "  <th>smoker_no</th>        <td>-2.0610</td>      <td>nan</td>       <td>nan</td>     <td>nan</td>        <td>nan</td>           <td>nan</td>     \n",
       "</tr>\n",
       "<tr>\n",
       "  <th>smoker_yes</th>       <td>0.0867</td>       <td>nan</td>       <td>nan</td>     <td>nan</td>        <td>nan</td>           <td>nan</td>     \n",
       "</tr>\n",
       "<tr>\n",
       "  <th>region_northeast</th> <td>-0.4134</td> <td>8371921.0643</td> <td>-0.0000</td> <td>1.0000</td> <td>-16408664.1808</td> <td>16408663.3541</td>\n",
       "</tr>\n",
       "<tr>\n",
       "  <th>region_northwest</th> <td>-0.4688</td> <td>8371921.0643</td> <td>-0.0000</td> <td>1.0000</td> <td>-16408664.2363</td> <td>16408663.2986</td>\n",
       "</tr>\n",
       "<tr>\n",
       "  <th>region_southeast</th> <td>-0.5612</td> <td>8371921.0643</td> <td>-0.0000</td> <td>1.0000</td> <td>-16408664.3286</td> <td>16408663.2063</td>\n",
       "</tr>\n",
       "<tr>\n",
       "  <th>region_southwest</th> <td>-0.5309</td> <td>8371921.0643</td> <td>-0.0000</td> <td>1.0000</td> <td>-16408664.2984</td> <td>16408663.2365</td>\n",
       "</tr>\n",
       "</table>"
      ],
      "text/plain": [
       "<class 'statsmodels.iolib.summary2.Summary'>\n",
       "\"\"\"\n",
       "                                 Results: Logit\n",
       "=================================================================================\n",
       "Model:                    Logit                  Pseudo R-squared:       -0.233  \n",
       "Dependent Variable:       y                      AIC:                    797.2596\n",
       "Date:                     2018-10-31 13:53       BIC:                    844.0500\n",
       "No. Observations:         1338                   Log-Likelihood:         -389.63 \n",
       "Df Model:                 8                      LL-Null:                -316.07 \n",
       "Df Residuals:             1329                   LLR p-value:            1.0000  \n",
       "Converged:                1.0000                 Scale:                  1.0000  \n",
       "No. Iterations:           6.0000                                                 \n",
       "---------------------------------------------------------------------------------\n",
       "                  Coef.    Std.Err.      z    P>|z|      [0.025         0.975]   \n",
       "---------------------------------------------------------------------------------\n",
       "age               1.5074       0.2628  5.7351 0.0000         0.9923        2.0226\n",
       "bmi               1.5833       0.4875  3.2476 0.0012         0.6277        2.5388\n",
       "children          0.3417       0.3160  1.0814 0.2795        -0.2776        0.9611\n",
       "sex_female       -0.9702 6248949.8991 -0.0000 1.0000 -12247717.7137 12247715.7732\n",
       "sex_male         -1.0041 6248949.8991 -0.0000 1.0000 -12247717.7475 12247715.7394\n",
       "smoker_no        -2.0610          nan     nan    nan            nan           nan\n",
       "smoker_yes        0.0867          nan     nan    nan            nan           nan\n",
       "region_northeast -0.4134 8371921.0643 -0.0000 1.0000 -16408664.1808 16408663.3541\n",
       "region_northwest -0.4688 8371921.0643 -0.0000 1.0000 -16408664.2363 16408663.2986\n",
       "region_southeast -0.5612 8371921.0643 -0.0000 1.0000 -16408664.3286 16408663.2063\n",
       "region_southwest -0.5309 8371921.0643 -0.0000 1.0000 -16408664.2984 16408663.2365\n",
       "=================================================================================\n",
       "\n",
       "\"\"\""
      ]
     },
     "execution_count": 25,
     "metadata": {},
     "output_type": "execute_result"
    }
   ],
   "source": [
    "lr = LogisticRegression()\n",
    "cols = ['sex', 'smoker', 'region']\n",
    "train_data = data.loc[:, ['age', 'bmi', 'children']].copy()\n",
    "train_label = minmax_scale(data.iloc[:,-1].copy())\n",
    "for i in cols:\n",
    "    temp = pd.get_dummies(data.loc[:,i], prefix=i)\n",
    "    train_data = train_data.join(temp)\n",
    "cols = train_data.columns\n",
    "train_data = pd.DataFrame(minmax_scale(train_data), columns=cols)\n",
    "logit = sm.Logit(train_label, train_data)\n",
    "result = logit.fit()\n",
    "result.summary2()"
   ]
  },
  {
   "cell_type": "markdown",
   "metadata": {},
   "source": [
    "인공지능 <- 머신러닝 <- 신경망(딥러닝)\n",
    "\n",
    "# 신경망\n",
    "## 퍼셉트론(perceptron)\n",
    "-  인공뉴런(인공적으로 만든 신경세포)\n",
    "-  1957년에 만든 알고리즘\n",
    "-  프랑크 로젠블라트가 퍼셉트론 알고리즘을 고안\n",
    "-  퍼셉트론은 딥러닝(신경망)의 기원\n",
    "-  다수의 신호를 입력받아 하나의 신호를 출력한다\n",
    "-  신호의 흐름을 표현할 때 두가지 값을 갖는다\n",
    "    -  0: 신호가 흐르지 않는다\n",
    "    -  1: 신호가 흐른다\n",
    "-  퍼셉트론 동작\n",
    "    -  x: 입력값(입력신호)\n",
    "    -  w: weight(가중치)\n",
    "    -  $\\Theta$: theta(세타, 임계값)\n",
    "    -  y: 출력\n",
    "    -  $w1 * x1 + w2 * x2 값이 \\Theta(임계값) 이하일때는 0을 출력하고 임계값보다 클때는 1을 출력한다.$\n",
    "\n",
    "# 논리회로\n",
    "-  컴퓨터는 두가지 디지털값(0,1)을 입력해 하나의 값을 출력하는 회로가 모여 만들어지는데, 이 회로를 gate(게이트) 라고 한다.\n",
    "-  ## AND 게이트\n",
    "    ```\n",
    "    x1  x2  y\n",
    "    ---------\n",
    "    0   0   0\n",
    "    0   1   0\n",
    "    1   0   0\n",
    "    1   1   0\n",
    "    ```\n",
    "    -  $y = 0  w1 * x1 + w2 * x2 <= \\Theta $\n",
    "    -  $y = 1  w1 * x1 + w2 * x2 > \\Theta $\n",
    "    \n",
    "-  ## OR 게이트\n",
    "        ```\n",
    "        x1  x2  y\n",
    "        ---------\n",
    "        0   0   0\n",
    "        0   1   1\n",
    "        1   0   1\n",
    "        1   1   0\n",
    "        ```\n",
    "-  ## NAND(NOT AND) 게이트\n",
    "        ```\n",
    "        x1  x2  y\n",
    "        ---------\n",
    "        0   0   1\n",
    "        0   1   1\n",
    "        1   0   1\n",
    "        1   1   0\n",
    "        ```\n",
    "-  ## XOR(eXclusive OR) 게이트\n",
    "        ```\n",
    "        x1  x2  y\n",
    "        ---------\n",
    "        0   0   0\n",
    "        0   1   1\n",
    "        1   0   1\n",
    "        1   1   0\n",
    "        ```    \n",
    "    -  x1과 x2중 어느 한쪽이 1일 때만 1을 출력하는 배타적 논리회로\n",
    "    -  퍼셉트론으로 XOR 게이트를 구현할 수 없다\n",
    "        -  직선 하나로는 XOR 게이트의 출력을 구분할 수 없다\n",
    "        -  퍼셉트론(단층퍼셉트론)은 직선 하나로 나눈 영역만 표현할 수 있는 한계가 있다\n",
    "    -  민스키가 기존 퍼셉트론의 문제점을 지적했는데 XOR 분류를 못한다는 문제점을 지적하고 인공지능의 겨울이 시작되었다. \n",
    "\n",
    "# 다층퍼셉트론(Multi layer perceptron)\n",
    "-  단층 퍼셉트론은 XOR 게이트를 표현할 수 없었다. 즉 단층 퍼셉트론은 비선형영역을 분리할 수 없다.\n",
    "-  기존 (OR, NAND, AND) 게이트를 조합하여 층을 쌓으면 XOR 게이트를 구현할 수 있다.\n",
    "        ```\n",
    "        x1  x2  or  nand  and\n",
    "        ----------------------\n",
    "        0   0   0    1     0\n",
    "        0   1   1    1     1\n",
    "        1   0   1    1     1\n",
    "        1   1   1    0     0\n",
    "        ```\n"
   ]
  },
  {
   "cell_type": "code",
   "execution_count": 72,
   "metadata": {},
   "outputs": [],
   "source": [
    "def AND(x, y):\n",
    "    w1 = 0.5\n",
    "    w2 = 0.5\n",
    "    theta = 0.9\n",
    "    if (x*w1)+(y*w2) <= theta:\n",
    "        return 0\n",
    "    else:\n",
    "        return 1\n",
    "    \n",
    "def OR(x1,x2):\n",
    "    w1 = 0.5\n",
    "    w2 = 0.5\n",
    "    theta = 0.4\n",
    "    result = w1*x1 + w2*x2\n",
    "    if result <= theta:\n",
    "        return 0\n",
    "    else:\n",
    "        return 1\n",
    "    \n",
    "def NAND(x1, x2):\n",
    "    w1 = -0.5\n",
    "    w2 = -0.5\n",
    "    theta = -0.9\n",
    "    result = w1*x1 + w2*x2\n",
    "    if result <= theta:\n",
    "        return 0\n",
    "    else:\n",
    "        return 1\n",
    "\n",
    "def XOR(x1, x2):\n",
    "    s1 = OR(x1, x2)\n",
    "    s2 = NAND(x1, x2)\n",
    "    y = AND(s1, s2)\n",
    "    return y"
   ]
  },
  {
   "cell_type": "code",
   "execution_count": 55,
   "metadata": {},
   "outputs": [
    {
     "data": {
      "text/plain": [
       "1"
      ]
     },
     "execution_count": 55,
     "metadata": {},
     "output_type": "execute_result"
    }
   ],
   "source": [
    "OR(1, 0)"
   ]
  },
  {
   "cell_type": "code",
   "execution_count": 57,
   "metadata": {},
   "outputs": [
    {
     "data": {
      "text/plain": [
       "0"
      ]
     },
     "execution_count": 57,
     "metadata": {},
     "output_type": "execute_result"
    }
   ],
   "source": [
    "AND(1,0)"
   ]
  },
  {
   "cell_type": "code",
   "execution_count": 73,
   "metadata": {},
   "outputs": [
    {
     "data": {
      "text/plain": [
       "0"
      ]
     },
     "execution_count": 73,
     "metadata": {},
     "output_type": "execute_result"
    }
   ],
   "source": [
    "NAND(1,1)"
   ]
  },
  {
   "cell_type": "code",
   "execution_count": 77,
   "metadata": {},
   "outputs": [
    {
     "data": {
      "text/plain": [
       "0"
      ]
     },
     "execution_count": 77,
     "metadata": {},
     "output_type": "execute_result"
    }
   ],
   "source": [
    "XOR(0, 0)"
   ]
  }
 ],
 "metadata": {
  "kernelspec": {
   "display_name": "Python 3",
   "language": "python",
   "name": "python3"
  },
  "language_info": {
   "codemirror_mode": {
    "name": "ipython",
    "version": 3
   },
   "file_extension": ".py",
   "mimetype": "text/x-python",
   "name": "python",
   "nbconvert_exporter": "python",
   "pygments_lexer": "ipython3",
   "version": "3.6.6"
  }
 },
 "nbformat": 4,
 "nbformat_minor": 2
}
