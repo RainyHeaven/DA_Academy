{
 "cells": [
  {
   "cell_type": "markdown",
   "metadata": {},
   "source": [
    "# TF-IDF(Term Frequency - Inverse Document Frequency)\n",
    "TF(단어 빈도)는 특정한 단어가 문서내에 얼마나 자주 등장하는지를 나타내는 값이다.  \n",
    "이 값이 높을수록 문서에서 중요하다고 생각할 수 있다.  \n",
    "하지만 하나의 문서에서 많이 나오지 않고 다른 문서에서 자주 등장하면 단어의 중요도는 낮아진다.  \n",
    "\n",
    "문서1: if you can think you  \n",
    "문서2: or you think you can not you are right  \n",
    "\n",
    "## TF-IDF 계산 단계  \n",
    "    1. 각 문서에 대한 각 단어의 빈도를 계산(TF)\n",
    "    2. IDF 계산\n",
    "    3. TF\\*IDF\n",
    "  \n",
    "문서1  \n",
    "단어 단어수  \n",
    "+++++++++++  \n",
    "if     1  \n",
    "you    2  \n",
    "think  1  \n",
    "can    1  \n",
    "\n",
    "문서2    \n",
    "단어 단어수  \n",
    "+++++++++++  \n",
    "or     1  \n",
    "you    3  \n",
    "think  1  \n",
    "can    1   \n",
    "not    1  \n",
    "are    1  \n",
    "right  1  \n",
    "\n",
    "문서1 단어수: 5  \n",
    "문서2 단어수: 9  \n",
    "\n",
    "단계1)  \n",
    "$TF(t) = {{어떤 문서에서 단어t가 나오는 횟수}\\over{그 문서에 있는 단어의 총수}}$\n",
    "```python\n",
    "def TF(word, sentence):\n",
    "    total_freq = len(sentence.split())\n",
    "    word_freq = sentence.count(word)\n",
    "    return word_freq/total_freq\n",
    "\n",
    "sen1 = 'if you can think you'\n",
    "sen2 = 'or you think you can not you are right'\n",
    "print(TF('think', sen1))\n",
    "print(TF('think', sen2))\n",
    "```\n",
    "```\n",
    "0.2\n",
    "0.1111111111111111\n",
    "```\n",
    "\n",
    "단계2)  \n",
    "$IDF(t) = {\\log_{10}({문서의 총 수 \\over 단어t가 들어간 문서의 수})}$\n",
    "```python\n",
    "def IDF(word, docs):\n",
    "    import numpy as np\n",
    "    total_freq = 0\n",
    "    for doc in docs:\n",
    "        if doc.count(word):\n",
    "            total_freq += 1\n",
    "    return np.log10(len(docs)/total_freq)\n",
    "\n",
    "docs = [sen1, sen2]\n",
    "print(IDF('think', docs))\n",
    "print(IDF('right', docs))\n",
    "```\n",
    "```\n",
    "0.0\n",
    "0.3010299956639812\n",
    "```\n",
    "\n",
    "단계3)\n",
    "TF\\*IDF 계산\n",
    "```python\n",
    "def TFIDF(word, docs, num):\n",
    "    tf = TF(word, docs[num-1])\n",
    "    idf = IDF(word, docs)\n",
    "    return tf*idf\n",
    "\n",
    "print(TFIDF('think', docs, 1))\n",
    "print(TFIDF('right', docs, 2))\n",
    "```\n",
    "```\n",
    "0.0\n",
    "0.03344777729599791\n",
    "```\n"
   ]
  },
  {
   "cell_type": "markdown",
   "metadata": {},
   "source": [
    "# word2vec(word to vector)\n",
    "-  구글의 토마스 미콜로프(Tomas Mikolov)팀이 개발\n",
    "-  2계층 신경망(two layer neural network)을 사용\n",
    "\n",
    "### TfidVectorizer\n",
    "-  TF-IDF 방식으로 단어의 가중치를 조정한 BOW 벡터를 만듬\n",
    "-  ## BOW(Bag of Words)\n",
    "   -  문서를 숫자 벡터로 변환하는 가장 기본적인 방법\n",
    "   \n",
    "### CountVectorizer\n",
    "-  문서를 토큰 리스트로 변환\n",
    "-  각 문서에서 토큰의 출현 빈도 확인\n",
    "-  각 문서를 BOW 인코딩 벡터로 변환"
   ]
  },
  {
   "cell_type": "code",
   "execution_count": 20,
   "metadata": {},
   "outputs": [
    {
     "name": "stdout",
     "output_type": "stream",
     "text": [
      "1304\n"
     ]
    }
   ],
   "source": [
    "from konlpy.tag import Komoran\n",
    "tagger = Komoran()\n",
    "from urllib.parse import quote_plus\n",
    "from bs4 import BeautifulSoup\n",
    "import requests\n",
    "import lxml.html\n",
    "import codecs\n",
    "\n",
    "fp = codecs.open('data/미술관옆동물원.txt', 'r')\n",
    "soup = BeautifulSoup(fp, 'html.parser')\n",
    "body = soup.select_one('body')\n",
    "text = body.getText()\n",
    "articles = []\n",
    "articles = text.split('\\n')\n",
    "print(len(articles))\n",
    "fp.close()"
   ]
  },
  {
   "cell_type": "code",
   "execution_count": 21,
   "metadata": {},
   "outputs": [],
   "source": [
    "from sklearn.feature_extraction.text import TfidfVectorizer\n",
    "corpus = ['This is the first document',\n",
    "          'Thit document is the second document',\n",
    "          'And this is the third one',\n",
    "          'Is this the first document']\n",
    "\n",
    "v = TfidfVectorizer()\n",
    "x = v.fit_transform(corpus) # term-document matrix 생성"
   ]
  },
  {
   "cell_type": "code",
   "execution_count": 22,
   "metadata": {},
   "outputs": [
    {
     "name": "stdout",
     "output_type": "stream",
     "text": [
      "['and', 'document', 'first', 'is', 'one', 'second', 'the', 'third', 'this', 'thit']\n"
     ]
    },
    {
     "data": {
      "text/plain": [
       "(4, 10)"
      ]
     },
     "execution_count": 22,
     "metadata": {},
     "output_type": "execute_result"
    }
   ],
   "source": [
    "print(v.get_feature_names())\n",
    "x.shape # (문장수, 단어수) 리턴"
   ]
  },
  {
   "cell_type": "code",
   "execution_count": 23,
   "metadata": {},
   "outputs": [
    {
     "name": "stdout",
     "output_type": "stream",
     "text": [
      "  (0, 8)\t0.45349057268475307\n",
      "  (0, 3)\t0.37075825825799347\n",
      "  (0, 6)\t0.37075825825799347\n",
      "  (0, 2)\t0.5601510767990253\n",
      "  (0, 1)\t0.45349057268475307\n",
      "  (1, 3)\t0.25541587763380913\n",
      "  (1, 6)\t0.25541587763380913\n",
      "  (1, 1)\t0.6248205672621058\n",
      "  (1, 9)\t0.4894510790831717\n",
      "  (1, 5)\t0.4894510790831717\n",
      "  (2, 8)\t0.3210738658560508\n",
      "  (2, 3)\t0.26249892378623274\n",
      "  (2, 6)\t0.26249892378623274\n",
      "  (2, 0)\t0.503024254778498\n",
      "  (2, 7)\t0.503024254778498\n",
      "  (2, 4)\t0.503024254778498\n",
      "  (3, 8)\t0.45349057268475307\n",
      "  (3, 3)\t0.37075825825799347\n",
      "  (3, 6)\t0.37075825825799347\n",
      "  (3, 2)\t0.5601510767990253\n",
      "  (3, 1)\t0.45349057268475307\n"
     ]
    }
   ],
   "source": [
    "print(x)"
   ]
  },
  {
   "cell_type": "code",
   "execution_count": 25,
   "metadata": {},
   "outputs": [
    {
     "name": "stdout",
     "output_type": "stream",
     "text": [
      "2\n",
      "1\n"
     ]
    }
   ],
   "source": [
    "print(v.vocabulary_.get('first')) # 해당 단어의 index 리턴\n",
    "print(v.vocabulary_.get('document'))"
   ]
  },
  {
   "cell_type": "code",
   "execution_count": 26,
   "metadata": {},
   "outputs": [
    {
     "data": {
      "text/plain": [
       "{'this': 8,\n",
       " 'is': 3,\n",
       " 'the': 6,\n",
       " 'first': 2,\n",
       " 'document': 1,\n",
       " 'thit': 9,\n",
       " 'second': 5,\n",
       " 'and': 0,\n",
       " 'third': 7,\n",
       " 'one': 4}"
      ]
     },
     "execution_count": 26,
     "metadata": {},
     "output_type": "execute_result"
    }
   ],
   "source": [
    "from sklearn.feature_extraction.text import CountVectorizer\n",
    "c = CountVectorizer()\n",
    "c.fit(corpus)\n",
    "c.vocabulary_"
   ]
  },
  {
   "cell_type": "code",
   "execution_count": 27,
   "metadata": {},
   "outputs": [
    {
     "data": {
      "text/plain": [
       "array([[0, 1, 0, 1, 0, 1, 1, 0, 1, 0]], dtype=int64)"
      ]
     },
     "execution_count": 27,
     "metadata": {},
     "output_type": "execute_result"
    }
   ],
   "source": [
    "c.transform(['This is the second document']).toarray()"
   ]
  },
  {
   "cell_type": "code",
   "execution_count": 28,
   "metadata": {},
   "outputs": [
    {
     "data": {
      "text/plain": [
       "array([[0, 1, 1, 1, 0, 0, 1, 0, 1, 0],\n",
       "       [0, 2, 0, 1, 0, 1, 1, 0, 0, 1],\n",
       "       [1, 0, 0, 1, 1, 0, 1, 1, 1, 0],\n",
       "       [0, 1, 1, 1, 0, 0, 1, 0, 1, 0]], dtype=int64)"
      ]
     },
     "execution_count": 28,
     "metadata": {},
     "output_type": "execute_result"
    }
   ],
   "source": [
    "c.transform(corpus).toarray()"
   ]
  },
  {
   "cell_type": "code",
   "execution_count": 39,
   "metadata": {
    "scrolled": true
   },
   "outputs": [],
   "source": [
    "articles = [article for article in articles if len(article)>0]\n",
    "\n",
    "def get_noun(text):\n",
    "    nouns=tagger.nouns(text)\n",
    "    return [n for n in nouns if len(n)>1]\n",
    "\n",
    "cv = TfidfVectorizer(tokenizer=get_noun, max_features=100)\n",
    "tdm = cv.fit_transform(articles)"
   ]
  },
  {
   "cell_type": "code",
   "execution_count": 42,
   "metadata": {
    "scrolled": true
   },
   "outputs": [
    {
     "name": "stdout",
     "output_type": "stream",
     "text": [
      "['가방', '강아지', '거리', '거지', '결혼', '경과', '고개', '구경', '군가', '그림', '기대', '기분', '남자', '내일', '노을', '다음', '다혜', '당황', '동물', '동물병원', '동물원', '때문', '라고', '마음', '맥주', '머리', '먼지', '모습', '목소리', '물통', '미술관', '밤하늘', '베개', '보좌관', '복도', '분위기', '사람', '사랑', '사이', '생각', '생일', '소리', '시간', '시나리오', '시선', '시작', '신경', '신발', '아줌마', '얘기', '얼굴', '여기저기', '여자', '열쇠', '영화', '오늘', '욕실', '우산', '음악', '의원', '이때', '이름', '이번', '이어폰', '인공', '인상', '자리', '자신', '자전거', '자판', '잠깐', '잠바', '장면', '전화', '전화벨', '정말', '정신', '제가', '조금', '준비', '지금', '책상', '처음', '철수', '촬영', '춘희', '친구', '침대', '카드', '카메라', '커피', '택시', '표정', '필요', '하늘', '한참', '혼자', '화면', '후회', '흥분']\n",
      "[[0. 0. 0. ... 0. 0. 0.]\n",
      " [0. 0. 0. ... 1. 0. 0.]\n",
      " [0. 0. 0. ... 0. 0. 0.]\n",
      " ...\n",
      " [0. 0. 0. ... 0. 0. 0.]\n",
      " [0. 0. 0. ... 0. 0. 0.]\n",
      " [0. 0. 0. ... 0. 0. 0.]]\n",
      "  (1, 97)\t1.0\n",
      "  (2, 77)\t0.6426538263901305\n",
      "  (2, 12)\t0.5807713840780672\n",
      "  (2, 50)\t0.4997005692033681\n",
      "  (4, 97)\t0.554295852889247\n",
      "  (4, 12)\t0.31366213534033943\n",
      "  (4, 50)\t0.2698775316141315\n",
      "  (4, 89)\t0.515206294222062\n",
      "  (4, 84)\t0.3409633989210756\n",
      "  (4, 36)\t0.2388540972937697\n",
      "  (4, 33)\t0.28773850185458366\n",
      "  (5, 97)\t0.2850301693792766\n",
      "  (5, 89)\t0.7947885765801977\n",
      "  (5, 92)\t0.29132434158981335\n",
      "  (5, 44)\t0.32643835435685453\n",
      "  (5, 58)\t0.30925240481408484\n",
      "  (6, 58)\t0.5095454777481466\n",
      "  (6, 15)\t0.5881431539658727\n",
      "  (6, 72)\t0.6280533707810897\n",
      "  (7, 34)\t1.0\n",
      "  (8, 89)\t0.7159831962170984\n",
      "  (8, 36)\t0.33193600685365976\n",
      "  (8, 33)\t0.3998707596219082\n",
      "  (8, 2)\t0.46614367494174275\n",
      "  (10, 97)\t0.6741036126386036\n",
      "  :\t:\n",
      "  (1290, 83)\t0.34945009768088564\n",
      "  (1291, 85)\t1.0\n",
      "  (1292, 83)\t1.0\n",
      "  (1293, 85)\t0.6893163846966528\n",
      "  (1293, 83)\t0.724460434936744\n",
      "  (1296, 72)\t0.5855023481292759\n",
      "  (1296, 16)\t0.27651267668217666\n",
      "  (1296, 64)\t0.3185924122225326\n",
      "  (1296, 68)\t0.4705463604226564\n",
      "  (1296, 31)\t0.5077526341993526\n",
      "  (1297, 16)\t0.6554708421059611\n",
      "  (1297, 64)\t0.7552204811503077\n",
      "  (1298, 8)\t0.5170141395481634\n",
      "  (1298, 80)\t0.4695284870535035\n",
      "  (1298, 16)\t0.255696514383268\n",
      "  (1298, 96)\t0.4758168468329128\n",
      "  (1298, 31)\t0.4695284870535035\n",
      "  (1299, 16)\t0.40825723291069704\n",
      "  (1299, 49)\t0.7823446573335053\n",
      "  (1299, 64)\t0.47038587236206497\n",
      "  (1300, 89)\t0.45865847562083994\n",
      "  (1300, 36)\t0.4252760782978065\n",
      "  (1300, 68)\t0.5303462762247226\n",
      "  (1300, 31)\t0.5722809513371693\n",
      "  (1301, 58)\t1.0\n"
     ]
    }
   ],
   "source": [
    "print(cv.get_feature_names())\n",
    "print(tdm.toarray())\n",
    "print(tdm)"
   ]
  },
  {
   "cell_type": "code",
   "execution_count": 43,
   "metadata": {},
   "outputs": [
    {
     "data": {
      "text/plain": [
       "(1, 100)"
      ]
     },
     "execution_count": 43,
     "metadata": {},
     "output_type": "execute_result"
    }
   ],
   "source": [
    "import numpy as np\n",
    "import operator\n",
    "words = cv.get_feature_names()\n",
    "count_map = tdm.sum(axis=0)\n",
    "count_map.shape"
   ]
  },
  {
   "cell_type": "code",
   "execution_count": 44,
   "metadata": {},
   "outputs": [
    {
     "data": {
      "text/plain": [
       "(100,)"
      ]
     },
     "execution_count": 44,
     "metadata": {},
     "output_type": "execute_result"
    }
   ],
   "source": [
    "count = np.squeeze(np.array(count_map))\n",
    "count.shape"
   ]
  },
  {
   "cell_type": "code",
   "execution_count": 45,
   "metadata": {
    "scrolled": true
   },
   "outputs": [
    {
     "data": {
      "text/plain": [
       "[('가방', 4.434913496798847),\n",
       " ('강아지', 5.080785037138985),\n",
       " ('거리', 4.900322014383277),\n",
       " ('거지', 5.043354781541623),\n",
       " ('결혼', 14.75180535168148),\n",
       " ('경과', 6.094275173966201),\n",
       " ('고개', 6.717199545826967),\n",
       " ('구경', 3.532754698373547),\n",
       " ('군가', 3.5557416046714834),\n",
       " ('그림', 11.808861129219274),\n",
       " ('기대', 7.29293726797917),\n",
       " ('기분', 8.916440822137982),\n",
       " ('남자', 8.17764972644772),\n",
       " ('내일', 8.052115625131739),\n",
       " ('노을', 4.824399088649292),\n",
       " ('다음', 4.646389189219063),\n",
       " ('다혜', 95.45631516029485),\n",
       " ('당황', 4.741255319345011),\n",
       " ('동물', 4.8138757762751325),\n",
       " ('동물병원', 6.17430965741441),\n",
       " ('동물원', 19.1147348302191),\n",
       " ('때문', 5.496722877407237),\n",
       " ('라고', 4.376115911239033),\n",
       " ('마음', 9.649655028763357),\n",
       " ('맥주', 8.30459056737105),\n",
       " ('머리', 4.611973583759255),\n",
       " ('먼지', 5.359502756182021),\n",
       " ('모습', 9.315148530628157),\n",
       " ('목소리', 5.529177231691055),\n",
       " ('물통', 5.735015604887128),\n",
       " ('미술관', 21.691517879078845),\n",
       " ('밤하늘', 7.764481834032511),\n",
       " ('베개', 5.950782539705876),\n",
       " ('보좌관', 15.023750796085306),\n",
       " ('복도', 6.312188620757991),\n",
       " ('분위기', 10.273158666556625),\n",
       " ('사람', 34.16288367723765),\n",
       " ('사랑', 17.69102549160236),\n",
       " ('사이', 9.784932621274457),\n",
       " ('생각', 24.25043671839586),\n",
       " ('생일', 4.772842525989772),\n",
       " ('소리', 71.14455790664736),\n",
       " ('시간', 13.857349630790198),\n",
       " ('시나리오', 14.426422170202741),\n",
       " ('시선', 9.484477134758732),\n",
       " ('시작', 4.549892663149123),\n",
       " ('신경', 5.159342680334459),\n",
       " ('신발', 6.200476851757162),\n",
       " ('아줌마', 12.6477227099662),\n",
       " ('얘기', 7.212624996510128),\n",
       " ('얼굴', 17.542054019985486),\n",
       " ('여기저기', 4.288220812585968),\n",
       " ('여자', 14.541201277241761),\n",
       " ('열쇠', 5.33682208553012),\n",
       " ('영화', 6.889359911146269),\n",
       " ('오늘', 8.366362202933425),\n",
       " ('욕실', 8.54256101385553),\n",
       " ('우산', 10.100929764991978),\n",
       " ('음악', 10.33635044596671),\n",
       " ('의원', 9.203580931212986),\n",
       " ('이때', 5.600824231525046),\n",
       " ('이름', 7.724412522909971),\n",
       " ('이번', 7.765581784511145),\n",
       " ('이어폰', 4.173111180764831),\n",
       " ('인공', 58.087670600711924),\n",
       " ('인상', 4.810301232833925),\n",
       " ('자리', 6.874966592889967),\n",
       " ('자신', 4.8533757132039375),\n",
       " ('자전거', 10.811522174899556),\n",
       " ('자판', 6.15220756626091),\n",
       " ('잠깐', 5.494714461203592),\n",
       " ('잠바', 4.680322582695801),\n",
       " ('장면', 3.687051038325359),\n",
       " ('전화', 10.170955957422048),\n",
       " ('전화벨', 4.764359396737079),\n",
       " ('정말', 6.035219629135394),\n",
       " ('정신', 5.496728162760435),\n",
       " ('제가', 4.847804055027645),\n",
       " ('조금', 6.194047274527228),\n",
       " ('준비', 5.945651142096875),\n",
       " ('지금', 9.340488800630585),\n",
       " ('책상', 7.078458641992771),\n",
       " ('처음', 9.165927112365196),\n",
       " ('철수', 293.91056879594333),\n",
       " ('촬영', 4.614075096152894),\n",
       " ('춘희', 337.43858525826454),\n",
       " ('친구', 11.678024638205981),\n",
       " ('침대', 12.823878595638137),\n",
       " ('카드', 4.418917059086538),\n",
       " ('카메라', 23.51634407181591),\n",
       " ('커피', 4.993642342930313),\n",
       " ('택시', 5.302152063863619),\n",
       " ('표정', 13.205386226493383),\n",
       " ('필요', 6.306231645745613),\n",
       " ('하늘', 8.529463761146062),\n",
       " ('한참', 4.859836513426568),\n",
       " ('혼자', 7.13188761132673),\n",
       " ('화면', 16.233628816725545),\n",
       " ('후회', 4.9865902351197),\n",
       " ('흥분', 7.5875477251486485)]"
      ]
     },
     "execution_count": 45,
     "metadata": {},
     "output_type": "execute_result"
    }
   ],
   "source": [
    "word_count = list(zip(words, count))\n",
    "word_count"
   ]
  },
  {
   "cell_type": "code",
   "execution_count": 46,
   "metadata": {
    "scrolled": true
   },
   "outputs": [
    {
     "data": {
      "text/plain": [
       "[('춘희', 337.43858525826454),\n",
       " ('철수', 293.91056879594333),\n",
       " ('다혜', 95.45631516029485),\n",
       " ('소리', 71.14455790664736),\n",
       " ('인공', 58.087670600711924),\n",
       " ('사람', 34.16288367723765),\n",
       " ('생각', 24.25043671839586),\n",
       " ('카메라', 23.51634407181591),\n",
       " ('미술관', 21.691517879078845),\n",
       " ('동물원', 19.1147348302191),\n",
       " ('사랑', 17.69102549160236),\n",
       " ('얼굴', 17.542054019985486),\n",
       " ('화면', 16.233628816725545),\n",
       " ('보좌관', 15.023750796085306),\n",
       " ('결혼', 14.75180535168148),\n",
       " ('여자', 14.541201277241761),\n",
       " ('시나리오', 14.426422170202741),\n",
       " ('시간', 13.857349630790198),\n",
       " ('표정', 13.205386226493383),\n",
       " ('침대', 12.823878595638137),\n",
       " ('아줌마', 12.6477227099662),\n",
       " ('그림', 11.808861129219274),\n",
       " ('친구', 11.678024638205981),\n",
       " ('자전거', 10.811522174899556),\n",
       " ('음악', 10.33635044596671),\n",
       " ('분위기', 10.273158666556625),\n",
       " ('전화', 10.170955957422048),\n",
       " ('우산', 10.100929764991978),\n",
       " ('사이', 9.784932621274457),\n",
       " ('마음', 9.649655028763357),\n",
       " ('시선', 9.484477134758732),\n",
       " ('지금', 9.340488800630585),\n",
       " ('모습', 9.315148530628157),\n",
       " ('의원', 9.203580931212986),\n",
       " ('처음', 9.165927112365196),\n",
       " ('기분', 8.916440822137982),\n",
       " ('욕실', 8.54256101385553),\n",
       " ('하늘', 8.529463761146062),\n",
       " ('오늘', 8.366362202933425),\n",
       " ('맥주', 8.30459056737105),\n",
       " ('남자', 8.17764972644772),\n",
       " ('내일', 8.052115625131739),\n",
       " ('이번', 7.765581784511145),\n",
       " ('밤하늘', 7.764481834032511),\n",
       " ('이름', 7.724412522909971),\n",
       " ('흥분', 7.5875477251486485),\n",
       " ('기대', 7.29293726797917),\n",
       " ('얘기', 7.212624996510128),\n",
       " ('혼자', 7.13188761132673),\n",
       " ('책상', 7.078458641992771),\n",
       " ('영화', 6.889359911146269),\n",
       " ('자리', 6.874966592889967),\n",
       " ('고개', 6.717199545826967),\n",
       " ('복도', 6.312188620757991),\n",
       " ('필요', 6.306231645745613),\n",
       " ('신발', 6.200476851757162),\n",
       " ('조금', 6.194047274527228),\n",
       " ('동물병원', 6.17430965741441),\n",
       " ('자판', 6.15220756626091),\n",
       " ('경과', 6.094275173966201),\n",
       " ('정말', 6.035219629135394),\n",
       " ('베개', 5.950782539705876),\n",
       " ('준비', 5.945651142096875),\n",
       " ('물통', 5.735015604887128),\n",
       " ('이때', 5.600824231525046),\n",
       " ('목소리', 5.529177231691055),\n",
       " ('정신', 5.496728162760435),\n",
       " ('때문', 5.496722877407237),\n",
       " ('잠깐', 5.494714461203592),\n",
       " ('먼지', 5.359502756182021),\n",
       " ('열쇠', 5.33682208553012),\n",
       " ('택시', 5.302152063863619),\n",
       " ('신경', 5.159342680334459),\n",
       " ('강아지', 5.080785037138985),\n",
       " ('거지', 5.043354781541623),\n",
       " ('커피', 4.993642342930313),\n",
       " ('후회', 4.9865902351197),\n",
       " ('거리', 4.900322014383277),\n",
       " ('한참', 4.859836513426568),\n",
       " ('자신', 4.8533757132039375),\n",
       " ('제가', 4.847804055027645),\n",
       " ('노을', 4.824399088649292),\n",
       " ('동물', 4.8138757762751325),\n",
       " ('인상', 4.810301232833925),\n",
       " ('생일', 4.772842525989772),\n",
       " ('전화벨', 4.764359396737079),\n",
       " ('당황', 4.741255319345011),\n",
       " ('잠바', 4.680322582695801),\n",
       " ('다음', 4.646389189219063),\n",
       " ('촬영', 4.614075096152894),\n",
       " ('머리', 4.611973583759255),\n",
       " ('시작', 4.549892663149123),\n",
       " ('가방', 4.434913496798847),\n",
       " ('카드', 4.418917059086538),\n",
       " ('라고', 4.376115911239033),\n",
       " ('여기저기', 4.288220812585968),\n",
       " ('이어폰', 4.173111180764831),\n",
       " ('장면', 3.687051038325359),\n",
       " ('군가', 3.5557416046714834),\n",
       " ('구경', 3.532754698373547)]"
      ]
     },
     "execution_count": 46,
     "metadata": {},
     "output_type": "execute_result"
    }
   ],
   "source": [
    "word_count = sorted(word_count, key=operator.itemgetter(1), reverse=True)\n",
    "word_count"
   ]
  },
  {
   "cell_type": "code",
   "execution_count": 47,
   "metadata": {
    "scrolled": true
   },
   "outputs": [
    {
     "data": {
      "text/plain": [
       "['춘희',\n",
       " '철수',\n",
       " '다혜',\n",
       " '소리',\n",
       " '인공',\n",
       " '사람',\n",
       " '생각',\n",
       " '카메라',\n",
       " '미술관',\n",
       " '동물원',\n",
       " '사랑',\n",
       " '얼굴',\n",
       " '화면',\n",
       " '보좌관',\n",
       " '결혼',\n",
       " '여자',\n",
       " '시나리오',\n",
       " '시간',\n",
       " '표정',\n",
       " '침대',\n",
       " '아줌마',\n",
       " '그림',\n",
       " '친구',\n",
       " '자전거',\n",
       " '음악',\n",
       " '분위기',\n",
       " '전화',\n",
       " '우산',\n",
       " '사이',\n",
       " '마음',\n",
       " '시선',\n",
       " '지금',\n",
       " '모습',\n",
       " '의원',\n",
       " '처음',\n",
       " '기분',\n",
       " '욕실',\n",
       " '하늘',\n",
       " '오늘',\n",
       " '맥주',\n",
       " '남자',\n",
       " '내일',\n",
       " '이번',\n",
       " '밤하늘',\n",
       " '이름',\n",
       " '흥분',\n",
       " '기대',\n",
       " '얘기',\n",
       " '혼자',\n",
       " '책상']"
      ]
     },
     "execution_count": 47,
     "metadata": {},
     "output_type": "execute_result"
    }
   ],
   "source": [
    "hot_key = list(dict(word_count[:50]).keys())\n",
    "# hot_key = [word[0] for word in word_count][:50]\n",
    "hot_key"
   ]
  },
  {
   "cell_type": "code",
   "execution_count": 53,
   "metadata": {
    "scrolled": true
   },
   "outputs": [
    {
     "data": {
      "image/png": "[encoded data removed]",
      "text/plain": [
       "<Figure size 864x648 with 1 Axes>"
      ]
     },
     "metadata": {
      "needs_background": "light"
     },
     "output_type": "display_data"
    }
   ],
   "source": [
    "import matplotlib.pyplot as plt\n",
    "from wordcloud import WordCloud\n",
    "wc = WordCloud(font_path='c:/Windows/Fonts/D2Coding-Ver1.3.2-20180524.ttf',\n",
    "               background_color='white', width=400, height=300)\n",
    "cloud = wc.fit_words(dict(word_count))\n",
    "plt.figure(figsize=(12, 9))\n",
    "plt.imshow(cloud)\n",
    "plt.axis('off')\n",
    "plt.show()"
   ]
  },
  {
   "cell_type": "code",
   "execution_count": null,
   "metadata": {},
   "outputs": [],
   "source": [
    "import codecs\n",
    "from konlpy.tag import Twitter\n",
    "from sklearn.cluster import DBSCAN\n",
    "from sklearn import metrics\n",
    "from sklearn.preprocessing import StandardScaler\n",
    "\n",
    "def sigmoid(x):\n",
    "    return 1 / (1 + math.e ** -x)\n",
    "\n",
    "\n",
    "twitter = Twitter()\n",
    "results = []\n",
    "lines = articles\n",
    "words_all = []\n",
    "\n",
    "for line in lines:\n",
    "    # 형태소 분석하기\n",
    "    malist = twitter.pos(line, norm=True, stem=True)\n",
    "    r = []\n",
    "    for word in malist:\n",
    "        # 명사/동사/부사만 걸러내기 \n",
    "        if word[1] in ['Noun','Verb','Adjective']:\n",
    "            r.append(word[0])\n",
    "            words_all.append(word[0])\n",
    "    rl = (\" \".join(r)).strip()\n",
    "    results.append(rl)\n",
    "    #print(rl)\n",
    "\n",
    "\n",
    "from gensim.models import word2vec\n",
    "yang_file = 'data/yang.model'\n",
    "with open(yang_file, 'w', encoding='utf-8') as fp2:\n",
    "    fp2.write(\"\\n\".join(results))\n",
    "\n",
    "data = word2vec.LineSentence(yang_file)\n",
    "model = word2vec.Word2Vec(data,size=200, window=10, hs=1, min_count=2, sg=1)\n",
    "# size=200 -> 200차원 벡터\n",
    "# window=10 -> 주변 10개의 단어 탐색\n",
    "# min_count=2 -> 2개 미만의 빈도는 제외\n",
    "# hs=1 -> 트레이닝에 softmax사용, hs=0 -> 0이 아닌 음수로 샘플링됨\n",
    "# sg=1 -> 분석방법론은 CBOW와 Skip-Gram\n",
    "## CBOW(Continuos Bag Of Word)\n",
    "## Skip-Gram\n",
    "\n",
    "model.save(\"c:/data/yang_w2v.model\")"
   ]
  },
  {
   "cell_type": "code",
   "execution_count": 56,
   "metadata": {},
   "outputs": [
    {
     "name": "stderr",
     "output_type": "stream",
     "text": [
      "C:\\Users\\stu\\Anaconda3\\lib\\site-packages\\ipykernel_launcher.py:1: DeprecationWarning: Call to deprecated `most_similar` (Method will be removed in 4.0.0, use self.wv.most_similar() instead).\n",
      "  \"\"\"Entry point for launching an IPython kernel.\n",
      "C:\\Users\\stu\\Anaconda3\\lib\\site-packages\\gensim\\matutils.py:737: FutureWarning: Conversion of the second argument of issubdtype from `int` to `np.signedinteger` is deprecated. In future, it will be treated as `np.int32 == np.dtype(int).type`.\n",
      "  if np.issubdtype(vec.dtype, np.int):\n"
     ]
    },
    {
     "data": {
      "text/plain": [
       "[('위로', 0.9962457418441772),\n",
       " ('해질녘', 0.9959639310836792),\n",
       " ('린다', 0.9958633184432983),\n",
       " ('일어나다', 0.9957813024520874),\n",
       " ('언덕', 0.9955040216445923),\n",
       " ('걷다', 0.9954092502593994),\n",
       " ('틀어주다', 0.9952994585037231),\n",
       " ('맛있다', 0.9948391914367676),\n",
       " ('꺼지다', 0.994777262210846),\n",
       " ('빼다', 0.9946238994598389)]"
      ]
     },
     "execution_count": 56,
     "metadata": {},
     "output_type": "execute_result"
    }
   ],
   "source": [
    "model.most_similar(positive=[\"춘희\"])"
   ]
  },
  {
   "cell_type": "code",
   "execution_count": 57,
   "metadata": {},
   "outputs": [
    {
     "name": "stderr",
     "output_type": "stream",
     "text": [
      "C:\\Users\\stu\\Anaconda3\\lib\\site-packages\\ipykernel_launcher.py:1: DeprecationWarning: Call to deprecated `most_similar` (Method will be removed in 4.0.0, use self.wv.most_similar() instead).\n",
      "  \"\"\"Entry point for launching an IPython kernel.\n",
      "C:\\Users\\stu\\Anaconda3\\lib\\site-packages\\gensim\\matutils.py:737: FutureWarning: Conversion of the second argument of issubdtype from `int` to `np.signedinteger` is deprecated. In future, it will be treated as `np.int32 == np.dtype(int).type`.\n",
      "  if np.issubdtype(vec.dtype, np.int):\n"
     ]
    },
    {
     "data": {
      "text/plain": [
       "[('뭐라다', 0.9933584928512573),\n",
       " ('손가락', 0.990915834903717),\n",
       " ('마음', 0.9908748865127563),\n",
       " ('물통', 0.9908421635627747),\n",
       " ('수도', 0.9907960891723633),\n",
       " ('병', 0.9907736778259277),\n",
       " ('깨어나다', 0.9902244806289673),\n",
       " ('문', 0.9902172684669495),\n",
       " ('펴다', 0.9900816082954407),\n",
       " ('받치다', 0.98996901512146)]"
      ]
     },
     "execution_count": 57,
     "metadata": {},
     "output_type": "execute_result"
    }
   ],
   "source": [
    "model.most_similar(positive=[\"철수\"])"
   ]
  },
  {
   "cell_type": "code",
   "execution_count": 58,
   "metadata": {},
   "outputs": [
    {
     "name": "stderr",
     "output_type": "stream",
     "text": [
      "C:\\Users\\stu\\Anaconda3\\lib\\site-packages\\ipykernel_launcher.py:1: DeprecationWarning: Call to deprecated `__getitem__` (Method will be removed in 4.0.0, use self.wv.__getitem__() instead).\n",
      "  \"\"\"Entry point for launching an IPython kernel.\n"
     ]
    },
    {
     "data": {
      "text/plain": [
       "array([ 0.12451757, -0.20147555, -0.00064409, -0.03975289, -0.07870567,\n",
       "        0.11931125,  0.20892523,  0.05121808, -0.10768636, -0.01798077,\n",
       "        0.03921786,  0.03113752, -0.16339429,  0.00252179, -0.09920709,\n",
       "        0.14322859,  0.06851716,  0.09448064, -0.03552047,  0.07617487,\n",
       "       -0.03847263,  0.08051827,  0.02721632,  0.02179162,  0.04192126,\n",
       "       -0.10745532,  0.03874584,  0.01464776,  0.0235095 ,  0.07108063,\n",
       "        0.12749562,  0.03284869, -0.0028821 , -0.04333993,  0.0465627 ,\n",
       "        0.16250968,  0.15783547,  0.04066517, -0.11660282,  0.1562088 ,\n",
       "        0.06811446,  0.07836471, -0.05173266, -0.21342191,  0.01731657,\n",
       "        0.09909239, -0.0044514 ,  0.04866119,  0.0492132 , -0.00458861,\n",
       "       -0.06392529,  0.00425688,  0.06340227,  0.0282825 ,  0.09247999,\n",
       "        0.11265801,  0.23605067, -0.16428593, -0.094905  ,  0.13007434,\n",
       "        0.11332572, -0.05315274, -0.0767521 ,  0.06118327,  0.10013838,\n",
       "       -0.05978878, -0.12789954,  0.06633411,  0.14649619,  0.02684549,\n",
       "       -0.10609611,  0.04632012, -0.13881248, -0.09176176, -0.17963308,\n",
       "       -0.06534158,  0.02610233,  0.06113273,  0.03210226,  0.11100394,\n",
       "       -0.04763738, -0.05557466, -0.07352298, -0.06904311,  0.05728963,\n",
       "       -0.06779893,  0.04089407,  0.02744694,  0.02341919, -0.10453132,\n",
       "        0.01720148,  0.05759637, -0.04390932,  0.0882369 , -0.20050211,\n",
       "       -0.12573527,  0.04931302, -0.07956021,  0.02395245,  0.20859599,\n",
       "       -0.09906076, -0.02701283,  0.16755022, -0.10036521, -0.07188375,\n",
       "       -0.03134353, -0.13542117,  0.06502438,  0.03443654, -0.00974359,\n",
       "       -0.02592315, -0.10265101, -0.08229556,  0.06607135,  0.02669298,\n",
       "        0.04954127, -0.1405649 , -0.07975154, -0.11086448,  0.08370934,\n",
       "        0.01650893,  0.09647597,  0.08821858, -0.01042378, -0.04464598,\n",
       "       -0.03381692,  0.00894171,  0.02034998, -0.10240451, -0.09489769,\n",
       "       -0.05195131,  0.08444454,  0.02954856,  0.05842056, -0.1222422 ,\n",
       "       -0.04074598,  0.03592027,  0.04022446, -0.03313845, -0.15222526,\n",
       "       -0.10094214,  0.05832061,  0.04686796, -0.02473124, -0.02509515,\n",
       "        0.00283932,  0.02598916,  0.0502309 , -0.18221374, -0.06823839,\n",
       "       -0.15906318,  0.07084572, -0.08839213,  0.04061843, -0.08815529,\n",
       "        0.02383716,  0.01323175,  0.07438799, -0.0281807 ,  0.06278632,\n",
       "       -0.10598748, -0.03508236,  0.07598843, -0.04690599,  0.06451859,\n",
       "       -0.06155459,  0.11556987, -0.0072974 , -0.0391282 , -0.07106981,\n",
       "        0.05187741,  0.12659521, -0.0414351 , -0.11240612, -0.02558852,\n",
       "        0.08189916, -0.06253865, -0.00518149, -0.02798698,  0.07644869,\n",
       "        0.00672572, -0.01571596,  0.0364548 , -0.00340446, -0.18638697,\n",
       "        0.11201063,  0.04506981, -0.00513352,  0.05703094, -0.07292425,\n",
       "        0.044322  ,  0.17496286,  0.12899444, -0.00310833,  0.12900466,\n",
       "        0.03110678,  0.03242383,  0.00559797,  0.0029364 ,  0.04313879],\n",
       "      dtype=float32)"
      ]
     },
     "execution_count": 58,
     "metadata": {},
     "output_type": "execute_result"
    }
   ],
   "source": [
    "model[\"결혼\"]"
   ]
  },
  {
   "cell_type": "code",
   "execution_count": 59,
   "metadata": {},
   "outputs": [
    {
     "name": "stderr",
     "output_type": "stream",
     "text": [
      "C:\\Users\\stu\\Anaconda3\\lib\\site-packages\\ipykernel_launcher.py:1: DeprecationWarning: Call to deprecated `__getitem__` (Method will be removed in 4.0.0, use self.wv.__getitem__() instead).\n",
      "  \"\"\"Entry point for launching an IPython kernel.\n"
     ]
    },
    {
     "data": {
      "text/plain": [
       "array([ 0.1315623 , -0.22953624, -0.00154571, -0.0485113 , -0.08161903,\n",
       "        0.14545007,  0.2029066 ,  0.05728611, -0.12854563, -0.01940841,\n",
       "        0.01117503,  0.02463882, -0.20005102,  0.00738146, -0.15045896,\n",
       "        0.17097814,  0.0808003 ,  0.09530891, -0.03195187,  0.06806404,\n",
       "       -0.03528307,  0.10519809,  0.00500021,  0.02746075,  0.03508977,\n",
       "       -0.1489318 ,  0.07994211, -0.00178914,  0.01445879,  0.09770542,\n",
       "        0.14256254,  0.0338829 , -0.00217473, -0.07737145,  0.04139329,\n",
       "        0.17341562,  0.21131726,  0.07240824, -0.16109088,  0.20520633,\n",
       "        0.08035918,  0.10366309, -0.04341001, -0.2456483 ,  0.00686605,\n",
       "        0.1513717 ,  0.01123448,  0.05458784,  0.06447604,  0.00572934,\n",
       "       -0.05638746,  0.02039763,  0.0388505 ,  0.04601062,  0.09958905,\n",
       "        0.11791401,  0.25938755, -0.16072187, -0.11826543,  0.15539013,\n",
       "        0.06391403, -0.06021975, -0.07110545,  0.0834194 ,  0.15738434,\n",
       "       -0.07202828, -0.15554534,  0.07109606,  0.17604968,  0.02804726,\n",
       "       -0.10495394,  0.07649299, -0.13977528, -0.09568795, -0.18049526,\n",
       "       -0.06338225,  0.00795919,  0.06779167,  0.03373289,  0.12339053,\n",
       "       -0.03444662, -0.04559899, -0.05875478, -0.09554359,  0.05830773,\n",
       "       -0.07077192,  0.06643926,  0.05877044,  0.03097321, -0.117249  ,\n",
       "        0.01988167,  0.06049912, -0.0487919 ,  0.08482891, -0.24421553,\n",
       "       -0.13802604,  0.04209081, -0.10327236,  0.06372512,  0.22690621,\n",
       "       -0.08321317, -0.02766597,  0.17223892, -0.09868659, -0.04487805,\n",
       "       -0.03497549, -0.14100133,  0.07235558,  0.04905676, -0.02321959,\n",
       "       -0.00395752, -0.10912413, -0.13892278,  0.06557775,  0.03294414,\n",
       "        0.05414445, -0.14842236, -0.10562523, -0.11577823,  0.10527846,\n",
       "        0.03242781,  0.11253909,  0.10570222,  0.00092031, -0.03248909,\n",
       "       -0.04427654,  0.009589  ,  0.03790905, -0.08819421, -0.10847092,\n",
       "       -0.03986194,  0.0660551 ,  0.04584124,  0.05726538, -0.13490108,\n",
       "       -0.0527136 ,  0.03407082,  0.03786327, -0.06478886, -0.18189417,\n",
       "       -0.13454172,  0.07037645,  0.05197863, -0.06291116, -0.00850756,\n",
       "        0.00880178,  0.02620414,  0.03086805, -0.21780086, -0.07591882,\n",
       "       -0.16710171,  0.06582174, -0.09910753,  0.03611049, -0.1025077 ,\n",
       "        0.02730348,  0.00963702,  0.12278119, -0.0147798 ,  0.09373587,\n",
       "       -0.12127519, -0.0075867 ,  0.0790176 , -0.03033293,  0.08617618,\n",
       "       -0.04651407,  0.11069219,  0.01144606, -0.0343124 , -0.09358818,\n",
       "        0.07138051,  0.1199415 , -0.03380593, -0.12529396, -0.05592975,\n",
       "        0.06903697, -0.07438934, -0.01982383, -0.06905775,  0.10370536,\n",
       "        0.01799865, -0.03401265,  0.04401335, -0.00576301, -0.22050874,\n",
       "        0.10599576,  0.04984545, -0.03564574,  0.07862187, -0.09794304,\n",
       "        0.03725531,  0.18742242,  0.1442204 ,  0.01342049,  0.12770821,\n",
       "        0.0330375 ,  0.03457783,  0.0064011 ,  0.00830988,  0.07529217],\n",
       "      dtype=float32)"
      ]
     },
     "execution_count": 59,
     "metadata": {},
     "output_type": "execute_result"
    }
   ],
   "source": [
    "model[\"사람\"]"
   ]
  },
  {
   "cell_type": "code",
   "execution_count": 60,
   "metadata": {},
   "outputs": [
    {
     "name": "stderr",
     "output_type": "stream",
     "text": [
      "C:\\Users\\stu\\Anaconda3\\lib\\site-packages\\ipykernel_launcher.py:1: DeprecationWarning: Call to deprecated `most_similar` (Method will be removed in 4.0.0, use self.wv.most_similar() instead).\n",
      "  \"\"\"Entry point for launching an IPython kernel.\n",
      "C:\\Users\\stu\\Anaconda3\\lib\\site-packages\\gensim\\matutils.py:737: FutureWarning: Conversion of the second argument of issubdtype from `int` to `np.signedinteger` is deprecated. In future, it will be treated as `np.int32 == np.dtype(int).type`.\n",
      "  if np.issubdtype(vec.dtype, np.int):\n"
     ]
    },
    {
     "data": {
      "text/plain": [
       "[('서로', 0.9972000122070312),\n",
       " ('하얗다', 0.996903657913208),\n",
       " ('구경', 0.9967676401138306),\n",
       " ('뒷모습', 0.9965262413024902),\n",
       " ('밝아지다', 0.9963098764419556),\n",
       " ('이정표', 0.996263861656189),\n",
       " ('용기', 0.99620521068573),\n",
       " ('코뿔소', 0.9960981011390686),\n",
       " ('의아', 0.9960700273513794),\n",
       " ('불빛', 0.9958970546722412)]"
      ]
     },
     "execution_count": 60,
     "metadata": {},
     "output_type": "execute_result"
    }
   ],
   "source": [
    "model.most_similar(positive=[\"미술관\",\"여자\"] , negative=[\"여자\"])"
   ]
  },
  {
   "cell_type": "code",
   "execution_count": 61,
   "metadata": {},
   "outputs": [
    {
     "name": "stderr",
     "output_type": "stream",
     "text": [
      "C:\\Users\\stu\\Anaconda3\\lib\\site-packages\\ipykernel_launcher.py:1: DeprecationWarning: Call to deprecated `similarity` (Method will be removed in 4.0.0, use self.wv.similarity() instead).\n",
      "  \"\"\"Entry point for launching an IPython kernel.\n",
      "C:\\Users\\stu\\Anaconda3\\lib\\site-packages\\gensim\\matutils.py:737: FutureWarning: Conversion of the second argument of issubdtype from `int` to `np.signedinteger` is deprecated. In future, it will be treated as `np.int32 == np.dtype(int).type`.\n",
      "  if np.issubdtype(vec.dtype, np.int):\n"
     ]
    },
    {
     "data": {
      "text/plain": [
       "0.9846562"
      ]
     },
     "execution_count": 61,
     "metadata": {},
     "output_type": "execute_result"
    }
   ],
   "source": [
    "model.similarity('춘희', '철수')"
   ]
  },
  {
   "cell_type": "code",
   "execution_count": 62,
   "metadata": {},
   "outputs": [
    {
     "name": "stderr",
     "output_type": "stream",
     "text": [
      "C:\\Users\\stu\\Anaconda3\\lib\\site-packages\\ipykernel_launcher.py:1: DeprecationWarning: Call to deprecated `similarity` (Method will be removed in 4.0.0, use self.wv.similarity() instead).\n",
      "  \"\"\"Entry point for launching an IPython kernel.\n",
      "C:\\Users\\stu\\Anaconda3\\lib\\site-packages\\gensim\\matutils.py:737: FutureWarning: Conversion of the second argument of issubdtype from `int` to `np.signedinteger` is deprecated. In future, it will be treated as `np.int32 == np.dtype(int).type`.\n",
      "  if np.issubdtype(vec.dtype, np.int):\n"
     ]
    },
    {
     "data": {
      "text/plain": [
       "0.92873734"
      ]
     },
     "execution_count": 62,
     "metadata": {},
     "output_type": "execute_result"
    }
   ],
   "source": [
    "model.similarity('춘희','인공')"
   ]
  },
  {
   "cell_type": "code",
   "execution_count": null,
   "metadata": {},
   "outputs": [],
   "source": []
  }
 ],
 "metadata": {
  "kernelspec": {
   "display_name": "Python 3",
   "language": "python",
   "name": "python3"
  },
  "language_info": {
   "codemirror_mode": {
    "name": "ipython",
    "version": 3
   },
   "file_extension": ".py",
   "mimetype": "text/x-python",
   "name": "python",
   "nbconvert_exporter": "python",
   "pygments_lexer": "ipython3",
   "version": "3.6.6"
  }
 },
 "nbformat": 4,
 "nbformat_minor": 2
}
