{
 "cells": [
  {
   "cell_type": "markdown",
   "metadata": {},
   "source": [
    "[문제191] Person 클래스를 생성하세요. 생성자는 이름, 나이, 성별을 만드세요.\n",
    "Person 클래스 에는 printMe 메소드를 생성하셔서 이름, 나이 성별을 출력합니다.\n",
    "\n",
    "Employees클래스를 생성한후 Person상속받습니다.\n",
    "생성자는 이름, 나이, 성별, 주소, 생일입니다.\n",
    "단 이름, 나이, 성별은 person에서 상속받으세요.\n",
    "Employees 클래스에 printMe를 재구성하셔서 주소, 생일을 출력하세요.\n",
    "```\n",
    "myPerson = Person(\"홍길동\",\"10\", \"남\")\n",
    "myPerson.printMe()\n",
    "\n",
    "myEmployee = Employee(\"송준기\", \"2\", \"남\", \"서울\", \"2016년 01월 01일\")\n",
    "myEmployee.printMe()\n",
    "\n",
    "이름은 홍길동 ,  나이는 10살 이고, 성별은 남 입니다.\n",
    "이름은 송준기 ,  나이는 2살 이고, 성별은 남 입니다.\n",
    "집 주소는  서울  생일은  2016년 01월 01일 입니다. \n",
    "```\n",
    "```python\n",
    "class Person(object):\n",
    "    def __init__(self, name, age, gender):\n",
    "        self.name = name\n",
    "        self.age = age\n",
    "        self.gender = gender\n",
    "    \n",
    "    def printMe(self):\n",
    "        print('이름은 {}, 나이는 {}살 이고, 성별은 {}입니다.'.format(self.name, self.age, self.gender))\n",
    "        \n",
    "class Employee(Person):\n",
    "    def __init__(self, name, age, gender, address, bday):\n",
    "        Person.__init__(self, name, age, gender)\n",
    "        self.address = address\n",
    "        self.bday = bday\n",
    "    \n",
    "    def printMe(self):\n",
    "        Person.printMe(self)\n",
    "        print('집 주소는 {}, 생일은 {} 입니다. '.format(self.address, self.bday))\n",
    "        \n",
    "myPerson = Person(\"홍길동\",\"10\", \"남\")\n",
    "myPerson.printMe()\n",
    "myEmployee = Employee(\"송준기\", \"2\", \"남\", \"서울\", \"2016년 01월 01일\")\n",
    "myEmployee.printMe()\n",
    "```\n",
    "\n",
    "[문제192] Add 클래스에 두수를 더하는 값을 리턴하는 add 메소드 생성\n",
    "Multiply 클래스에 두수를 곱한값을 리턴하는 multiply 메소드 생성\n",
    "Divide 클래스에 두수를 나눈값을 리턴하는 divide메소드 생성\n",
    "Calculator클래스에는 Add, Multiply, Divide 상속받고 두수를 뺀값을 리턴하는 sub 메소드 생성하세요.\n",
    "```python\n",
    "class Add(object):\n",
    "     def add(self, a, b):\n",
    "        return a+b\n",
    "\n",
    "class Multiply(object):\n",
    "    def multiply(self, a, b):\n",
    "        return a*b\n",
    "    \n",
    "class Divide(object):\n",
    "    def divide(self, a, b):\n",
    "        return a/b\n",
    "\n",
    "class Calculator(Add, Multiply, Divide):\n",
    "    def sub(self, a, b):\n",
    "        return a-b\n",
    "```    "
   ]
  },
  {
   "cell_type": "code",
   "execution_count": 22,
   "metadata": {},
   "outputs": [],
   "source": [
    "class Calculator(object):\n",
    "    @staticmethod\n",
    "    def add(a, b):\n",
    "        return a+b\n",
    "    @staticmethod\n",
    "    def multiply(a, b):\n",
    "        return a*b\n",
    "    @staticmethod\n",
    "    def divide(a, b):\n",
    "        return a/b\n",
    "    @staticmethod\n",
    "    def sub(a, b):\n",
    "        return a-b"
   ]
  },
  {
   "cell_type": "code",
   "execution_count": 23,
   "metadata": {
    "scrolled": true
   },
   "outputs": [
    {
     "data": {
      "text/plain": [
       "3"
      ]
     },
     "execution_count": 23,
     "metadata": {},
     "output_type": "execute_result"
    }
   ],
   "source": [
    "Calculator.add(1,2)"
   ]
  },
  {
   "cell_type": "code",
   "execution_count": 16,
   "metadata": {},
   "outputs": [
    {
     "name": "stdout",
     "output_type": "stream",
     "text": [
      "이름은 홍길동, 나이는 10살 이고, 성별은 남입니다.\n"
     ]
    }
   ],
   "source": [
    "class Person(object):\n",
    "    def __init__(self, name, age, gender):\n",
    "        self.name = name\n",
    "        self.age = age\n",
    "        self.gender = gender\n",
    "    \n",
    "    def printMe(self):\n",
    "        print('이름은 {}, 나이는 {}살 이고, 성별은 {}입니다.'.format(self.name, self.age, self.gender))\n",
    "        \n",
    "class Employee(Person):\n",
    "    def __init__(self, name, age, gender, address, bday):\n",
    "        Person.__init__(self, name, age, gender)\n",
    "        self.address = address\n",
    "        self.bday = bday\n",
    "    \n",
    "    def printMe(self):\n",
    "        Person.printMe(self)\n",
    "        print('집 주소는 {}, 생일은 {} 입니다. '.format(self.address, self.bday))\n",
    "        \n",
    "myPerson = Person(\"홍길동\",\"10\", \"남\")\n",
    "myPerson.printMe()"
   ]
  },
  {
   "cell_type": "code",
   "execution_count": 5,
   "metadata": {},
   "outputs": [
    {
     "data": {
      "text/plain": [
       "('1911', '11', '11', '남성')"
      ]
     },
     "execution_count": 5,
     "metadata": {},
     "output_type": "execute_result"
    }
   ],
   "source": [
    "id_number1 = '111111-1234123'\n",
    "def id_process(idn):\n",
    "    gender = idn[7]\n",
    "    if gender == '1' or gender =='2':\n",
    "        year = '19'+idn[:2]\n",
    "    else:\n",
    "        year = '20'+idn[:2]\n",
    "    \n",
    "    if gender == '2' or gender == '4':\n",
    "        gender = '여성'\n",
    "    else:\n",
    "        gender = '남성'\n",
    "    \n",
    "    month = idn[2:4]\n",
    "    day = idn[4:6]\n",
    "    \n",
    "    return year, month, day, gender\n",
    "\n",
    "id_process(id_number1)"
   ]
  },
  {
   "cell_type": "code",
   "execution_count": 1,
   "metadata": {},
   "outputs": [],
   "source": [
    "class Person(object):\n",
    "    def __init__(self, year, month, day, gender):\n",
    "        self.year = year\n",
    "        self.month = month\n",
    "        self.day = day\n",
    "        self.gender = gender\n",
    "    \n",
    "    def __str__(self): #클래스 출력시 출력될 내용을 담는 함수\n",
    "        return '{}년 {}월 {}일 성별은 {} 입니다.'.format(self.year, self.month, self.day, self.gender)"
   ]
  },
  {
   "cell_type": "code",
   "execution_count": 2,
   "metadata": {},
   "outputs": [],
   "source": [
    "p = Person(1999, 10, 10, 'male')"
   ]
  },
  {
   "cell_type": "code",
   "execution_count": 3,
   "metadata": {},
   "outputs": [
    {
     "name": "stdout",
     "output_type": "stream",
     "text": [
      "1999년 10월 10일 성별은 male 입니다.\n"
     ]
    }
   ],
   "source": [
    "print(p)"
   ]
  },
  {
   "cell_type": "code",
   "execution_count": 6,
   "metadata": {},
   "outputs": [
    {
     "name": "stdout",
     "output_type": "stream",
     "text": [
      "1911년 11월 11일 성별은 남성 입니다.\n"
     ]
    }
   ],
   "source": [
    "# 인자로 함수를 넣을 때는 *를 붙여준다\n",
    "p1 = Person(*id_process(id_number1))\n",
    "print(p1)"
   ]
  },
  {
   "cell_type": "code",
   "execution_count": 7,
   "metadata": {},
   "outputs": [],
   "source": [
    "class Person(object):\n",
    "    def __init__(self, year, month, day, gender):\n",
    "        self.year = year\n",
    "        self.month = month\n",
    "        self.day = day\n",
    "        self.gender = gender\n",
    "    \n",
    "    def __str__(self): #클래스 출력시 출력될 내용을 담는 함수\n",
    "        return '{}년 {}월 {}일 성별은 {} 입니다.'.format(self.year, self.month, self.day, self.gender)\n",
    "    \n",
    "    @classmethod\n",
    "    def id_process(cls, idn):\n",
    "        gender = idn[7]\n",
    "        if gender == '1' or gender =='2':\n",
    "            year = '19'+idn[:2]\n",
    "        else:\n",
    "            year = '20'+idn[:2]\n",
    "\n",
    "        if gender == '2' or gender == '4':\n",
    "            gender = '여성'\n",
    "        else:\n",
    "            gender = '남성'\n",
    "\n",
    "        month = idn[2:4]\n",
    "        day = idn[4:6]\n",
    "\n",
    "        return cls(year, month, day, gender)"
   ]
  },
  {
   "cell_type": "markdown",
   "metadata": {},
   "source": [
    "# 상속"
   ]
  },
  {
   "cell_type": "code",
   "execution_count": 9,
   "metadata": {},
   "outputs": [
    {
     "name": "stdout",
     "output_type": "stream",
     "text": [
      "홍길동 객체를 만드는 중\n",
      "이름은 홍길동, 나이는 20세이다\n"
     ]
    }
   ],
   "source": [
    "class Person(object):\n",
    "    def __init__(self, name, age):\n",
    "        self.name = name\n",
    "        self.age = age\n",
    "        print('{} 객체를 만드는 중'.format(self.name))\n",
    "        \n",
    "    def show_info(self):\n",
    "        print('이름은 {}, 나이는 {}세이다'.format(self.name, self.age))\n",
    "        \n",
    "p1 = Person('홍길동', 20)\n",
    "p1.show_info()"
   ]
  },
  {
   "cell_type": "code",
   "execution_count": 10,
   "metadata": {},
   "outputs": [
    {
     "name": "stdout",
     "output_type": "stream",
     "text": [
      "홍길동 객체를 만드는 중\n",
      "이름은 홍길동, 나이는 20세이다\n",
      "학번은 20181011입니다\n"
     ]
    }
   ],
   "source": [
    "class Student(Person):\n",
    "    def __init__(self, name, age, hakbun):\n",
    "        Person.__init__(self, name, age)\n",
    "        self.hakbun = hakbun\n",
    "        \n",
    "    def show_info(self):\n",
    "        Person.show_info(self)\n",
    "        print('학번은 {}입니다'.format(self.hakbun))\n",
    "        \n",
    "s1 = Student('홍길동', 20, 20181011)\n",
    "s1.show_info()"
   ]
  },
  {
   "cell_type": "code",
   "execution_count": 11,
   "metadata": {},
   "outputs": [
    {
     "name": "stdout",
     "output_type": "stream",
     "text": [
      "정교수 객체를 만드는 중\n",
      "이름은 정교수, 나이는 40세이다\n",
      "근무연수가 10년입니다.\n"
     ]
    }
   ],
   "source": [
    "class Professor(Person):\n",
    "    def __init__(self, name, age, years):\n",
    "        Person.__init__(self, name, age)\n",
    "        self.years = years\n",
    "        \n",
    "    def show_info(self):\n",
    "        Person.show_info(self)\n",
    "        print('근무연수가 {}년입니다.'.format(self.years))\n",
    "\n",
    "p1 = Professor('정교수', 40, 10)\n",
    "p1.show_info()"
   ]
  },
  {
   "cell_type": "code",
   "execution_count": 25,
   "metadata": {},
   "outputs": [],
   "source": [
    "import sys\n",
    "sys.path.append('c:/data')"
   ]
  },
  {
   "cell_type": "code",
   "execution_count": 26,
   "metadata": {},
   "outputs": [],
   "source": [
    "import cal"
   ]
  },
  {
   "cell_type": "code",
   "execution_count": 27,
   "metadata": {},
   "outputs": [
    {
     "data": {
      "text/plain": [
       "['Add',\n",
       " 'Calculator',\n",
       " 'Divide',\n",
       " 'Multiply',\n",
       " '__builtins__',\n",
       " '__cached__',\n",
       " '__doc__',\n",
       " '__file__',\n",
       " '__loader__',\n",
       " '__name__',\n",
       " '__package__',\n",
       " '__spec__']"
      ]
     },
     "execution_count": 27,
     "metadata": {},
     "output_type": "execute_result"
    }
   ],
   "source": [
    "dir(cal)"
   ]
  },
  {
   "cell_type": "code",
   "execution_count": 28,
   "metadata": {},
   "outputs": [],
   "source": [
    "c = cal.Calculator()"
   ]
  },
  {
   "cell_type": "code",
   "execution_count": 29,
   "metadata": {},
   "outputs": [
    {
     "data": {
      "text/plain": [
       "3"
      ]
     },
     "execution_count": 29,
     "metadata": {},
     "output_type": "execute_result"
    }
   ],
   "source": [
    "c.add(1,2)"
   ]
  },
  {
   "cell_type": "code",
   "execution_count": 30,
   "metadata": {},
   "outputs": [],
   "source": [
    "from cal import *\n",
    "c = Calculator()"
   ]
  },
  {
   "cell_type": "code",
   "execution_count": 31,
   "metadata": {},
   "outputs": [],
   "source": [
    "a = Add()"
   ]
  },
  {
   "cell_type": "code",
   "execution_count": 37,
   "metadata": {},
   "outputs": [
    {
     "name": "stdout",
     "output_type": "stream",
     "text": [
      "대화를 합니다\n"
     ]
    }
   ],
   "source": [
    "class Mother(object):\n",
    "    def talk(self):\n",
    "        print('대화를 합니다')\n",
    "        \n",
    "class Father(object):\n",
    "    def running(self):\n",
    "        print('달리기를 합니다.')\n",
    "    \n",
    "class Child(Mother, Father):\n",
    "    def play(self):\n",
    "        print('난 노는게 제일 좋아')\n",
    "        \n",
    "m = Mother()        \n",
    "m.talk()"
   ]
  },
  {
   "cell_type": "code",
   "execution_count": 38,
   "metadata": {},
   "outputs": [
    {
     "name": "stdout",
     "output_type": "stream",
     "text": [
      "달리기를 합니다.\n"
     ]
    }
   ],
   "source": [
    "f = Father()\n",
    "f.running()"
   ]
  },
  {
   "cell_type": "code",
   "execution_count": 39,
   "metadata": {},
   "outputs": [
    {
     "name": "stdout",
     "output_type": "stream",
     "text": [
      "대화를 합니다\n"
     ]
    }
   ],
   "source": [
    "c = Child()\n",
    "c.talk()"
   ]
  },
  {
   "cell_type": "code",
   "execution_count": 40,
   "metadata": {},
   "outputs": [
    {
     "name": "stdout",
     "output_type": "stream",
     "text": [
      "달리기를 합니다.\n"
     ]
    }
   ],
   "source": [
    "c.running()"
   ]
  },
  {
   "cell_type": "code",
   "execution_count": 41,
   "metadata": {},
   "outputs": [
    {
     "name": "stdout",
     "output_type": "stream",
     "text": [
      "난 노는게 제일 좋아\n"
     ]
    }
   ],
   "source": [
    "c.play()"
   ]
  },
  {
   "cell_type": "code",
   "execution_count": 43,
   "metadata": {},
   "outputs": [
    {
     "name": "stdout",
     "output_type": "stream",
     "text": [
      "(<class '__main__.Child'>, <class '__main__.Mother'>, <class '__main__.Father'>, <class 'object'>)\n"
     ]
    }
   ],
   "source": [
    "print(Child.__mro__) # 상속받은 클래스 확인"
   ]
  },
  {
   "cell_type": "code",
   "execution_count": 49,
   "metadata": {},
   "outputs": [],
   "source": [
    "class Person(object):\n",
    "    country = '한국'\n",
    "    def __init__(self, name):\n",
    "        self.name = name\n",
    "    \n",
    "    def myPrint(self):\n",
    "        print(self.name, '은(는)', self.country, '사람이다')\n",
    "        "
   ]
  },
  {
   "cell_type": "code",
   "execution_count": 50,
   "metadata": {},
   "outputs": [
    {
     "name": "stdout",
     "output_type": "stream",
     "text": [
      "hong 은(는) 한국 사람이다\n"
     ]
    }
   ],
   "source": [
    "p1 = Person('hong')\n",
    "p1.myPrint()"
   ]
  },
  {
   "cell_type": "code",
   "execution_count": 51,
   "metadata": {},
   "outputs": [
    {
     "name": "stdout",
     "output_type": "stream",
     "text": [
      "제임스 은(는) 핀란드 사람이다\n"
     ]
    }
   ],
   "source": [
    "p2 = Person('제임스')\n",
    "p2.country = '핀란드'\n",
    "p2.myPrint()"
   ]
  },
  {
   "cell_type": "code",
   "execution_count": 52,
   "metadata": {},
   "outputs": [],
   "source": [
    "Person.country = '영국'"
   ]
  },
  {
   "cell_type": "code",
   "execution_count": 53,
   "metadata": {},
   "outputs": [
    {
     "name": "stdout",
     "output_type": "stream",
     "text": [
      "제임스 은(는) 핀란드 사람이다\n"
     ]
    }
   ],
   "source": [
    "p2.myPrint()"
   ]
  }
 ],
 "metadata": {
  "kernelspec": {
   "display_name": "Python 3",
   "language": "python",
   "name": "python3"
  },
  "language_info": {
   "codemirror_mode": {
    "name": "ipython",
    "version": 3
   },
   "file_extension": ".py",
   "mimetype": "text/x-python",
   "name": "python",
   "nbconvert_exporter": "python",
   "pygments_lexer": "ipython3",
   "version": "3.6.6"
  }
 },
 "nbformat": 4,
 "nbformat_minor": 2
}
