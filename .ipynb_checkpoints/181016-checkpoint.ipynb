{
 "cells": [
  {
   "cell_type": "markdown",
   "metadata": {},
   "source": [
    "[문제196] knn 프로그램을 작성하세요.\n",
    "```\n",
    "pointlist[(1,1),(1,0),(2,0),(0,1),(2,2),(1,5),(2,3)]\n",
    "\n",
    "<수행>\n",
    "knn([2,1],2,pointlist)\n",
    "\n",
    "<결과>\n",
    "[(1, 1), (2, 0)]\n",
    "```\n",
    "```python\n",
    "def knn(test, k, train):\n",
    "    import math\n",
    "    dist_list = []\n",
    "    for i in range(len(train)):\n",
    "        dist = 0\n",
    "        item = train[i]\n",
    "        for j in range(len(item)):\n",
    "            dist += (test[j]-item[j])**2\n",
    "        dist = math.sqrt(dist)\n",
    "        dist_list.append([dist, i])\n",
    "    sorted_dist = sorted(dist_list)\n",
    "    result = []\n",
    "    for i in range(k):\n",
    "        idx = sorted_dist[i][1]\n",
    "        result.append(train[idx])\n",
    "    return result   \n",
    "```\n",
    "[문제197] 키, 몸무게에 따른 성별을 분류해주세요.\n",
    "```\n",
    "키, 몸무게 데이터\n",
    "[[158, 64],\n",
    "[170, 86],\n",
    "[183, 84],\n",
    "[191, 80],\n",
    "[155, 49],\n",
    "[163, 59],\n",
    "[180, 67],\n",
    "[158, 54],\n",
    "[170, 67]]\n",
    "\n",
    "성별 레벨\n",
    "['male', 'male', 'male', 'male', 'female', 'female', 'female', 'female', 'female']\n",
    "\n",
    "[155, 70] 성별을 분류하세요.\n",
    "'female'\n",
    "```\n",
    "```python\n",
    "train = [[158, 64],[170, 86],[183, 84],[191, 80],[155, 49],[163, 59],[180, 67],[158, 54],[170, 67]]\n",
    "label = ['male', 'male', 'male', 'male', 'female', 'female', 'female', 'female', 'female']\n",
    "y = np.array([[155,70]])\n",
    "distances = np.sqrt(np.sum(pow(train-y,2), axis=1))\n",
    "indices = distances.argsort()[:3]\n",
    "nn = np.take(label, indices)\n",
    "c = Counter(nn)\n",
    "c.most_common(1)[0][0]\n",
    "```"
   ]
  },
  {
   "cell_type": "code",
   "execution_count": 38,
   "metadata": {},
   "outputs": [
    {
     "data": {
      "text/plain": [
       "'female'"
      ]
     },
     "execution_count": 38,
     "metadata": {},
     "output_type": "execute_result"
    }
   ],
   "source": [
    "x_train = [[158, 64],[170, 86],[183, 84],[191, 80],[155, 49],[163, 59],[180, 67],[158, 54],[170, 67]]\n",
    "label = ['male', 'male', 'male', 'male', 'female', 'female', 'female', 'female', 'female']\n",
    "y = np.array([[155,70]])\n",
    "distances = np.sqrt(np.sum(pow(x_train-y,2), axis=1))\n",
    "indices = distances.argsort()[:3]\n",
    "nn = np.take(label, indices)\n",
    "b = Counter(nn)\n",
    "b.most_common(1)[0][0]"
   ]
  },
  {
   "cell_type": "code",
   "execution_count": 9,
   "metadata": {},
   "outputs": [
    {
     "data": {
      "text/plain": [
       "[(1, 1), (2, 0)]"
      ]
     },
     "execution_count": 9,
     "metadata": {},
     "output_type": "execute_result"
    }
   ],
   "source": [
    "def knn(test, k, train):\n",
    "    import math\n",
    "    dist_list = []\n",
    "    for i in range(len(train)):\n",
    "        dist = 0\n",
    "        item = train[i]\n",
    "        for j in range(len(item)):\n",
    "            dist += (test[j]-item[j])**2\n",
    "        dist = math.sqrt(dist)\n",
    "        dist_list.append([dist, i])\n",
    "    sorted_dist = sorted(dist_list)\n",
    "    result = []\n",
    "    for i in range(k):\n",
    "        idx = sorted_dist[i][1]\n",
    "        result.append(train[idx])\n",
    "    return result   \n",
    "\n",
    "pointlist= [(1,1),(1,0),(2,0),(0,1),(2,2),(1,5),(2,3)]\n",
    "knn([2,1],2,pointlist)"
   ]
  },
  {
   "cell_type": "code",
   "execution_count": null,
   "metadata": {},
   "outputs": [],
   "source": [
    "kNN(k Nearest Neighbors)\n",
    "-  거리유사도 측정\n",
    "-  유클리드거리(Euclidean distance)를 사용\n",
    "\n",
    "토마토 단맛 6 아삭한맛 4\n",
    "\n",
    "재료 / 단맛 / 아삭한맛 / 음식종류 / 토마토와의 거리\n",
    "포도 / 8 / 5 / 과일 / math.sqrt((6-8)**2 + (4-5)**2) = 2.2\n",
    "콩 / 3 / 7 / 채소 / math.sqrt((6-3)**2 + (4-7)**2) = 4.2\n",
    "견과 / 3 / 6 / 단백질 / math.sqrt((6-3)**2 + (4-6)**2) = 3.6\n",
    "오렌지 / 7 / 3 / 과일 / math.sqrt((6-7)**2 + (4-3)**2) = 1.4"
   ]
  },
  {
   "cell_type": "code",
   "execution_count": 6,
   "metadata": {},
   "outputs": [
    {
     "data": {
      "text/plain": [
       "1.4142135623730951"
      ]
     },
     "execution_count": 6,
     "metadata": {},
     "output_type": "execute_result"
    }
   ],
   "source": [
    "k = 1\n",
    "오렌지 토마토 거리는 1.4로 가까운 이웃하여 과일로 분류한다\n",
    "\n",
    "k = 3\n",
    "오렌지, 포도, 땅콩 세가지 사이에 다수결로 정한다.\n",
    "과일이 2/3 이기 때문에 과일로 분류한다"
   ]
  },
  {
   "cell_type": "code",
   "execution_count": 3,
   "metadata": {},
   "outputs": [
    {
     "data": {
      "text/plain": [
       "2.23606797749979"
      ]
     },
     "execution_count": 3,
     "metadata": {},
     "output_type": "execute_result"
    }
   ],
   "source": [
    "import math\n",
    "math.sqrt((6-8)**2 + (4-5)**2)"
   ]
  },
  {
   "cell_type": "code",
   "execution_count": 11,
   "metadata": {},
   "outputs": [
    {
     "data": {
      "text/plain": [
       "array([4, 3, 6])"
      ]
     },
     "execution_count": 11,
     "metadata": {},
     "output_type": "execute_result"
    }
   ],
   "source": [
    "import numpy as np\n",
    "a = [4,3,5,7,6,8]\n",
    "indices = [0,1,4]\n",
    "\n",
    "np.take(a, indices)"
   ]
  },
  {
   "cell_type": "code",
   "execution_count": 27,
   "metadata": {},
   "outputs": [],
   "source": [
    "lst1 = [2,1]\n",
    "lst2 = [(1,1),(1,0),(2,0),(0,1),(2,2),(1,5),(2,3)]\n",
    "\n",
    "point1 = np.array(lst1)\n",
    "point2 = np.array(lst2)"
   ]
  },
  {
   "cell_type": "code",
   "execution_count": 28,
   "metadata": {},
   "outputs": [],
   "source": [
    "distances = np.sqrt(np.sum(pow(point1-point2,2), axis=1))\n",
    "indices = distances.argsort()[:3]"
   ]
  },
  {
   "cell_type": "code",
   "execution_count": 29,
   "metadata": {},
   "outputs": [],
   "source": [
    "nn = np.take(lst2, indices, axis=0)"
   ]
  },
  {
   "cell_type": "code",
   "execution_count": 30,
   "metadata": {},
   "outputs": [],
   "source": [
    "from collections import Counter\n",
    "c = Counter(nn[:,0])\n",
    "freq = c.most_common(1)[0][0]"
   ]
  },
  {
   "cell_type": "code",
   "execution_count": 32,
   "metadata": {},
   "outputs": [
    {
     "data": {
      "text/plain": [
       "array([[2, 0],\n",
       "       [2, 2]])"
      ]
     },
     "execution_count": 32,
     "metadata": {},
     "output_type": "execute_result"
    }
   ],
   "source": [
    "nn[nn[:,0]==freq]"
   ]
  },
  {
   "cell_type": "code",
   "execution_count": 39,
   "metadata": {},
   "outputs": [],
   "source": [
    "from sklearn.neighbors import KNeighborsClassifier"
   ]
  },
  {
   "cell_type": "code",
   "execution_count": 40,
   "metadata": {},
   "outputs": [],
   "source": [
    "clf = KNeighborsClassifier(n_neighbors=3)"
   ]
  },
  {
   "cell_type": "code",
   "execution_count": 41,
   "metadata": {},
   "outputs": [
    {
     "data": {
      "text/plain": [
       "KNeighborsClassifier(algorithm='auto', leaf_size=30, metric='minkowski',\n",
       "           metric_params=None, n_jobs=1, n_neighbors=3, p=2,\n",
       "           weights='uniform')"
      ]
     },
     "execution_count": 41,
     "metadata": {},
     "output_type": "execute_result"
    }
   ],
   "source": [
    "clf.fit(x_train, label)"
   ]
  },
  {
   "cell_type": "code",
   "execution_count": 43,
   "metadata": {},
   "outputs": [
    {
     "data": {
      "text/plain": [
       "'female'"
      ]
     },
     "execution_count": 43,
     "metadata": {},
     "output_type": "execute_result"
    }
   ],
   "source": [
    "clf.predict(np.array([155,70]).reshape(1,-1))[0]"
   ]
  }
 ],
 "metadata": {
  "kernelspec": {
   "display_name": "Python 3",
   "language": "python",
   "name": "python3"
  },
  "language_info": {
   "codemirror_mode": {
    "name": "ipython",
    "version": 3
   },
   "file_extension": ".py",
   "mimetype": "text/x-python",
   "name": "python",
   "nbconvert_exporter": "python",
   "pygments_lexer": "ipython3",
   "version": "3.6.6"
  }
 },
 "nbformat": 4,
 "nbformat_minor": 2
}
