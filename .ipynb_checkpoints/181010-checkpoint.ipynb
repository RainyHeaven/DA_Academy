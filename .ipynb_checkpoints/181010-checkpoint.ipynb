{
 "cells": [
  {
   "cell_type": "markdown",
   "metadata": {},
   "source": [
    "[문제189]초기 생성자에는 이름, 주소, 급여를 입력값으로 받고 아래와 같이 출력되는 클래스를 생성하세요. \n",
    "인스턴스 생성될때 마다 건수를 출력해주세요.\n",
    "```\n",
    "사원수 : 1\n",
    "이름 : 홍길동 , 주소 : 덴마크,  급여 : 1000\n",
    "\n",
    "사원수 : 2\n",
    "이름 : 홍아들 , 주소 : 노르웨이,  급여 : 2000\n",
    "```\n",
    "```python\n",
    "class Employee(object):\n",
    "    total = 0\n",
    "    def __init__(self, name, address, salary):\n",
    "        self.name = name\n",
    "        self.address = address\n",
    "        self.salary = salary\n",
    "        Employee.total += 1 \n",
    "        if __name__ == '__main__':\n",
    "            print('사원수 :', Employee.total)\n",
    "            print('이름 : {}, 주소 : {}, 급여 : {}'.format(self.name, self.address, self.salary))\n",
    "\n",
    "e1 = Employee('홍길동', '덴마크', 1000)\n",
    "e2 = Employee('홍아들', '노르웨이', 2000)\n",
    "```\n",
    "\n",
    "[문제190]\n",
    "```\n",
    "id_number1 = '010101-3234567'\n",
    "id_number2 = '990202-2123456'\n",
    "\n",
    "2001 01 01 남성\n",
    "1999 02 02 여성\n",
    "```\n",
    "```python\n",
    "class IdNumber(object):\n",
    "    def __init__(self, idnum):\n",
    "        self.idnum = idnum\n",
    "        if self.idnum[7]=='1':\n",
    "            print('19{} {} {} 남성'.format(idnum[0:2], idnum[2:4], idnum[4:6]))\n",
    "        elif self.idnum[7]=='2':\n",
    "            print('19{} {} {} 여성'.format(idnum[0:2], idnum[2:4], idnum[4:6]))\n",
    "        elif self.idnum[7]=='3':\n",
    "            print('20{} {} {} 남성'.format(idnum[0:2], idnum[2:4], idnum[4:6]))\n",
    "        elif self.idnum[7]=='4':\n",
    "            print('20{} {} {} 여성'.format(idnum[0:2], idnum[2:4], idnum[4:6]))\n",
    "\n",
    "id_number1 = '010101-3234567'\n",
    "id_number2 = '990202-2123456'\n",
    "\n",
    "id1 = IdNumber(id_number1)\n",
    "id2 = IdNumber(id_number2)\n",
    "```"
   ]
  },
  {
   "cell_type": "code",
   "execution_count": 18,
   "metadata": {},
   "outputs": [
    {
     "name": "stdout",
     "output_type": "stream",
     "text": [
      "2001 01 01 남성\n"
     ]
    }
   ],
   "source": [
    "class IdNumber(object):\n",
    "    def __init__(self, idnum):\n",
    "        self.idnum = idnum\n",
    "        if self.idnum[7]=='1':\n",
    "            print('19{} {} {} 남성'.format(idnum[0:2], idnum[2:4], idnum[4:6]))\n",
    "        elif self.idnum[7]=='2':\n",
    "            print('19{} {} {} 여성'.format(idnum[0:2], idnum[2:4], idnum[4:6]))\n",
    "        elif self.idnum[7]=='3':\n",
    "            print('20{} {} {} 남성'.format(idnum[0:2], idnum[2:4], idnum[4:6]))\n",
    "        elif self.idnum[7]=='4':\n",
    "            print('20{} {} {} 여성'.format(idnum[0:2], idnum[2:4], idnum[4:6]))\n",
    "\n",
    "id_number1 = '010101-3234567'\n",
    "id_number2 = '990202-2123456'\n",
    "\n",
    "id1 = IdNumber(id_number1)"
   ]
  },
  {
   "cell_type": "code",
   "execution_count": 19,
   "metadata": {},
   "outputs": [
    {
     "name": "stdout",
     "output_type": "stream",
     "text": [
      "1999 02 02 여성\n"
     ]
    }
   ],
   "source": [
    "id2 = IdNumber(id_number2)"
   ]
  },
  {
   "cell_type": "code",
   "execution_count": 14,
   "metadata": {},
   "outputs": [
    {
     "name": "stdout",
     "output_type": "stream",
     "text": [
      "사원수 : 1\n",
      "이름 : 홍길동, 주소 : 덴마크, 급여 : 1000\n"
     ]
    }
   ],
   "source": [
    "class Employee(object):\n",
    "    total = 0\n",
    "    def __init__(self, name, address, salary):\n",
    "        self.name = name\n",
    "        self.address = address\n",
    "        self.salary = salary\n",
    "        Employee.total += 1 \n",
    "        if __name__ == '__main__':\n",
    "            print('사원수 :', Employee.total)\n",
    "            print('이름 : {}, 주소 : {}, 급여 : {}'.format(self.name, self.address, self.salary))\n",
    "\n"
   ]
  },
  {
   "cell_type": "code",
   "execution_count": 28,
   "metadata": {},
   "outputs": [],
   "source": [
    "class Employee:\n",
    "    empCn = 0\n",
    "    raise_ratio = 1.1\n",
    "    \n",
    "    def __init__(self, name, salary):\n",
    "        self.name = name\n",
    "        self.salary = salary\n",
    "        Employee.empCn += 1\n",
    "        \n",
    "    def showCount(self):\n",
    "        print(\"사원수 : %d\" %Employee.empCn)\n",
    "        \n",
    "    def showEmp(self):\n",
    "        print( \"이름 : {} , 급여 : {}\".format(self.name, self.salary))\n",
    "        \n",
    "    def raise_salary(self):\n",
    "        print(Employee.raise_ratio)\n",
    "        self.salary = int(self.salary * Employee.raise_ratio)\n",
    "        "
   ]
  },
  {
   "cell_type": "code",
   "execution_count": 31,
   "metadata": {},
   "outputs": [
    {
     "name": "stdout",
     "output_type": "stream",
     "text": [
      "1.1\n"
     ]
    }
   ],
   "source": [
    "emp1 = Employee(' 홍길동', 1000)\n",
    "emp1.raise_salary()"
   ]
  },
  {
   "cell_type": "code",
   "execution_count": 32,
   "metadata": {},
   "outputs": [
    {
     "name": "stdout",
     "output_type": "stream",
     "text": [
      "1.1\n",
      "이름 :  홍길동 , 급여 : 1210\n"
     ]
    }
   ],
   "source": [
    "emp1.raise_ratio = 1.2\n",
    "emp1.raise_salary()\n",
    "emp1.showEmp()"
   ]
  },
  {
   "cell_type": "code",
   "execution_count": 29,
   "metadata": {},
   "outputs": [
    {
     "name": "stdout",
     "output_type": "stream",
     "text": [
      "1.1\n",
      "이름 : 박찬호 , 급여 : 2200\n"
     ]
    }
   ],
   "source": [
    "emp2 = Employee('박찬호',2000)\n",
    "emp2.raise_salary()\n",
    "emp2.showEmp()"
   ]
  },
  {
   "cell_type": "code",
   "execution_count": 15,
   "metadata": {},
   "outputs": [
    {
     "name": "stdout",
     "output_type": "stream",
     "text": [
      "사원수 : 2\n",
      "이름 : 홍아들, 주소 : 노르웨이, 급여 : 2000\n"
     ]
    }
   ],
   "source": [
    "e2 = Employee('홍아들', '노르웨이', 2000)"
   ]
  },
  {
   "cell_type": "code",
   "execution_count": 2,
   "metadata": {},
   "outputs": [
    {
     "name": "stdout",
     "output_type": "stream",
     "text": [
      "['노래부르기']\n"
     ]
    }
   ],
   "source": [
    "class Person(object):\n",
    "    hobbies = [] # 클래스 변수: 인스턴스간 공유\n",
    "    def add_hobby(self, hobby):\n",
    "        self.hobbies.append(hobby)\n",
    "\n",
    "p1 = Person()\n",
    "p1.add_hobby('노래부르기')\n",
    "print(p1.hobbies)"
   ]
  },
  {
   "cell_type": "code",
   "execution_count": 3,
   "metadata": {},
   "outputs": [
    {
     "name": "stdout",
     "output_type": "stream",
     "text": [
      "['노래부르기', '글쓰기']\n"
     ]
    }
   ],
   "source": [
    "p2 = Person()\n",
    "p2.add_hobby('글쓰기')\n",
    "print(p2.hobbies)"
   ]
  },
  {
   "cell_type": "code",
   "execution_count": 4,
   "metadata": {},
   "outputs": [
    {
     "name": "stdout",
     "output_type": "stream",
     "text": [
      "['노래부르기', '글쓰기']\n"
     ]
    }
   ],
   "source": [
    "print(Person.hobbies)"
   ]
  },
  {
   "cell_type": "code",
   "execution_count": 5,
   "metadata": {},
   "outputs": [
    {
     "name": "stdout",
     "output_type": "stream",
     "text": [
      "['노래부르기']\n"
     ]
    }
   ],
   "source": [
    "class Person(object):\n",
    "    def add_hobby(self, hobby):\n",
    "        self.hobbies = []\n",
    "        self.hobbies.append(hobby)\n",
    "        \n",
    "    def show(self):\n",
    "        print('내 취미는', self.hobbies)\n",
    "\n",
    "p1 = Person()\n",
    "p1.add_hobby('노래부르기')\n",
    "print(p1.hobbies)"
   ]
  },
  {
   "cell_type": "code",
   "execution_count": 6,
   "metadata": {},
   "outputs": [
    {
     "name": "stdout",
     "output_type": "stream",
     "text": [
      "['글쓰기']\n"
     ]
    }
   ],
   "source": [
    "p2 = Person()\n",
    "p2.add_hobby('글쓰기')\n",
    "print(p2.hobbies)"
   ]
  },
  {
   "cell_type": "code",
   "execution_count": 39,
   "metadata": {},
   "outputs": [
    {
     "name": "stdout",
     "output_type": "stream",
     "text": [
      "홍길동 ['음반수집']\n"
     ]
    }
   ],
   "source": [
    "class Person(object):\n",
    "    \n",
    "    def __init__(self, name):\n",
    "        self.name = name\n",
    "        self.hobbies = []\n",
    "            \n",
    "    def add_hobby(self, hobby):\n",
    "        self.hobbies.append(hobby)\n",
    "    \n",
    "    def show_info(self):\n",
    "        print(self.name, self.hobbies)\n",
    "\n",
    "p1 = Person('홍길동')\n",
    "p1.add_hobby('음반수집')\n",
    "p1.show_info()"
   ]
  },
  {
   "cell_type": "code",
   "execution_count": 40,
   "metadata": {},
   "outputs": [
    {
     "name": "stdout",
     "output_type": "stream",
     "text": [
      "박찬호 []\n",
      "박찬호 ['글쓰기']\n"
     ]
    }
   ],
   "source": [
    "p2 = Person('박찬호')\n",
    "p2.show_info()\n",
    "p2.add_hobby('글쓰기')\n",
    "p2.show_info()"
   ]
  },
  {
   "cell_type": "markdown",
   "metadata": {},
   "source": [
    "# class method\n",
    "-  클래스를 통해서 호출되고 클래스를 인자로 받음\n",
    "-  선언할 때 `@classmethod` 데코레이터를 사용\n",
    "-  첫번째 인자로 `cls` 사용\n",
    "\n",
    "# instance method\n",
    "-  인스턴스를 통해서 호출되고 인스턴스를 인자로 받음\n",
    "-  첫번째 인자로 `self` 사용\n",
    "\n",
    "# static method\n",
    "-  클래스, 인스턴스 모두를 통해서 호출되고 클래스나 인스턴스를 인자로 받지 않음\n",
    "-  선언할 때 `@staticmethod` 데코레이터를 사용\n"
   ]
  },
  {
   "cell_type": "code",
   "execution_count": null,
   "metadata": {},
   "outputs": [],
   "source": [
    "class test(object):\n",
    "    num = 0\n",
    "    @staticmethod\n",
    "    def add(x,y):\n",
    "        return x+y"
   ]
  },
  {
   "cell_type": "code",
   "execution_count": 89,
   "metadata": {},
   "outputs": [
    {
     "name": "stdout",
     "output_type": "stream",
     "text": [
      "이름: 홍길동 , 급여: 1000\n"
     ]
    }
   ],
   "source": [
    "class Employee(object):\n",
    "    raise_ratio = 1.1\n",
    "    \n",
    "    def __init__(self, name, salary):\n",
    "        self.name = name\n",
    "        self.salary = salary\n",
    "    \n",
    "    def emp_info(self):\n",
    "        print('이름:', self.name, ', 급여:',self.salary)\n",
    "        \n",
    "    def raise_salary(self):\n",
    "        self.salary = int(self.salary * self.raise_ratio)\n",
    "    \n",
    "    @classmethod\n",
    "    def change_raise_ratio(cls, ratio):\n",
    "        cls.raise_ratio = ratio\n",
    "        print('인상률', round((ratio-1)*100), '%')\n",
    "\n",
    "emp1 = Employee('홍길동', 1000)\n",
    "emp1.emp_info()"
   ]
  },
  {
   "cell_type": "code",
   "execution_count": 80,
   "metadata": {},
   "outputs": [
    {
     "name": "stdout",
     "output_type": "stream",
     "text": [
      "1.1\n"
     ]
    }
   ],
   "source": [
    "print(emp1.raise_ratio)"
   ]
  },
  {
   "cell_type": "code",
   "execution_count": 90,
   "metadata": {},
   "outputs": [
    {
     "name": "stdout",
     "output_type": "stream",
     "text": [
      "인상률 20 %\n"
     ]
    }
   ],
   "source": [
    "Employee.change_raise_ratio(1.2)"
   ]
  },
  {
   "cell_type": "code",
   "execution_count": 82,
   "metadata": {},
   "outputs": [
    {
     "name": "stdout",
     "output_type": "stream",
     "text": [
      "인상률 20 %\n",
      "1.2\n"
     ]
    }
   ],
   "source": [
    "emp1.change_raise_ratio(1.2)\n",
    "print(emp1.raise_ratio)"
   ]
  },
  {
   "cell_type": "code",
   "execution_count": 83,
   "metadata": {},
   "outputs": [
    {
     "name": "stdout",
     "output_type": "stream",
     "text": [
      "이름: 박찬호 , 급여: 2000\n"
     ]
    }
   ],
   "source": [
    "emp2 = Employee('박찬호', 2000)\n",
    "emp2.emp_info()"
   ]
  },
  {
   "cell_type": "code",
   "execution_count": 86,
   "metadata": {},
   "outputs": [
    {
     "name": "stdout",
     "output_type": "stream",
     "text": [
      "1.1\n",
      "이름: 박찬호 , 급여: 2200\n"
     ]
    }
   ],
   "source": [
    "print(emp2.raise_ratio)\n",
    "emp2.raise_salary()\n",
    "emp2.emp_info()"
   ]
  },
  {
   "cell_type": "code",
   "execution_count": 85,
   "metadata": {},
   "outputs": [
    {
     "name": "stdout",
     "output_type": "stream",
     "text": [
      "이름: 홍길동 , 급여: 1200\n"
     ]
    }
   ],
   "source": [
    "emp1.raise_salary()\n",
    "emp1.emp_info()"
   ]
  },
  {
   "cell_type": "code",
   "execution_count": 46,
   "metadata": {},
   "outputs": [],
   "source": [
    "class Viva(object):\n",
    "    cnt = 0\n",
    "    def __init__(self, name):\n",
    "        self.name = name\n",
    "        print(self.name+'님이 게임방에 들어왔습니다.')\n",
    "        Viva.cnt += 1\n",
    "    \n",
    "    def count_viva(cls):\n",
    "        print('현재 {}명이 남았습니다.'.format(cls.cnt))\n",
    "    \n",
    "    count_viva = classmethod(count_viva) # @classmethod 데코레이터와 같은 역할    \n",
    "    \n",
    "    def __del__(self):\n",
    "        print(self.name+'님이 게임방에서 나갔습니다.')\n",
    "        Viva.cnt -= 1"
   ]
  },
  {
   "cell_type": "code",
   "execution_count": 47,
   "metadata": {},
   "outputs": [
    {
     "name": "stdout",
     "output_type": "stream",
     "text": [
      "홍길동님이 게임방에 들어왔습니다.\n",
      "현재 1명이 남았습니다.\n"
     ]
    }
   ],
   "source": [
    "man1 = Viva('홍길동')\n",
    "man1.count_viva()"
   ]
  },
  {
   "cell_type": "code",
   "execution_count": 48,
   "metadata": {},
   "outputs": [
    {
     "name": "stdout",
     "output_type": "stream",
     "text": [
      "박찬호님이 게임방에 들어왔습니다.\n",
      "현재 2명이 남았습니다.\n"
     ]
    }
   ],
   "source": [
    "man2 = Viva('박찬호')\n",
    "man2.count_viva()"
   ]
  },
  {
   "cell_type": "code",
   "execution_count": 49,
   "metadata": {},
   "outputs": [
    {
     "name": "stdout",
     "output_type": "stream",
     "text": [
      "홍길동님이 게임방에서 나갔습니다.\n"
     ]
    }
   ],
   "source": [
    "del man1"
   ]
  },
  {
   "cell_type": "code",
   "execution_count": 50,
   "metadata": {},
   "outputs": [
    {
     "name": "stdout",
     "output_type": "stream",
     "text": [
      "현재 1명이 남았습니다.\n"
     ]
    }
   ],
   "source": [
    "man2.count_viva()"
   ]
  },
  {
   "cell_type": "code",
   "execution_count": 51,
   "metadata": {},
   "outputs": [
    {
     "ename": "NameError",
     "evalue": "name 'man1' is not defined",
     "output_type": "error",
     "traceback": [
      "\u001b[1;31m---------------------------------------------------------------------------\u001b[0m",
      "\u001b[1;31mNameError\u001b[0m                                 Traceback (most recent call last)",
      "\u001b[1;32m<ipython-input-51-da6104080c86>\u001b[0m in \u001b[0;36m<module>\u001b[1;34m()\u001b[0m\n\u001b[1;32m----> 1\u001b[1;33m \u001b[0mman1\u001b[0m\u001b[1;33m.\u001b[0m\u001b[0mcount_viva\u001b[0m\u001b[1;33m(\u001b[0m\u001b[1;33m)\u001b[0m\u001b[1;33m\u001b[0m\u001b[0m\n\u001b[0m",
      "\u001b[1;31mNameError\u001b[0m: name 'man1' is not defined"
     ]
    }
   ],
   "source": [
    "man1.count_viva()"
   ]
  }
 ],
 "metadata": {
  "kernelspec": {
   "display_name": "Python 3",
   "language": "python",
   "name": "python3"
  },
  "language_info": {
   "codemirror_mode": {
    "name": "ipython",
    "version": 3
   },
   "file_extension": ".py",
   "mimetype": "text/x-python",
   "name": "python",
   "nbconvert_exporter": "python",
   "pygments_lexer": "ipython3",
   "version": "3.6.6"
  }
 },
 "nbformat": 4,
 "nbformat_minor": 2
}
