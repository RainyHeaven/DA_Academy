{
 "cells": [
  {
   "cell_type": "markdown",
   "metadata": {},
   "source": [
    "[문제 200] tensorflow 상수를 이용해서 아래와 같이 결과를 출력하는 프로그램을 만드세요.\n",
    "```\n",
    "a + b = 6\n",
    "a * b = 8\n",
    "```\n",
    "```python\n",
    "import tensorflow as tf\n",
    "with tf.Session() as sess:\n",
    "    a = tf.constant(4)\n",
    "    b = tf.constant(2)\n",
    "    print('a + b =',sess.run(a+b))\n",
    "    print('a * b =',sess.run(a*b))\n",
    "```\n",
    "\n",
    "[문제 201] tensorflow 상수를 이용해서 아래와 같이 결과를 출력하는 프로그램을 만드세요. \n",
    "단 두 변수의 입력값을 실행시에 넣도록 하는 변수를 이용하세요.\n",
    "```\n",
    "Add : 6\n",
    "Multiply : 8\n",
    "```\n",
    "```python\n",
    "import tensorflow as tf\n",
    "with tf.Session() as sess:\n",
    "    a = tf.placeholder('int32')\n",
    "    b = tf.placeholder('int32')\n",
    "    add = tf.add(a,b)\n",
    "    mul = tf.multiply(a,b)\n",
    "    print('Add :',sess.run(add, feed_dict={a:4, b:2}))\n",
    "    print('Multiply :',sess.run(mul, feed_dict={a:4, b:2}))\n",
    "```    \n",
    "\n",
    "[문제202]\n",
    "x 변수는 1행 3열 모양의 1,2,3\n",
    "w 변수는 3행 1열 모양의 2,2,2\n",
    "y 변수는 x와 w를 행렬곱을 이용한 결과를 수행하는 프로그램을 작성하세요.\n",
    "```python\n",
    "import tensorflow as tf\n",
    "import numpy as np\n",
    "x = tf.placeholder(tf.float32, shape=(1,3))\n",
    "w = tf.placeholder(tf.float32, shape=(3,1))\n",
    "y = tf.matmul(x,y)\n",
    "with tf.Session() as sess:\n",
    "    print(sess.run(y, feed_dict={x:[[1,2,3]], \n",
    "                           w:[[2],[2],[2]]}))\n",
    "```\n",
    "```\n",
    "import tensorflow as tf\n",
    "import numpy as np\n",
    "x = tf.constant([[1.0,2.0,3.0]])\n",
    "w = tf.constant([[2.0],[2.0],[2.0]])\n",
    "print(x.get_shape())\n",
    "y = tf.matmul(x,w)\n",
    "with tf.Session() as sess:\n",
    "    print(sess.run(x))\n",
    "    print(sess.run(w))\n",
    "    print(sess.run(y))\n",
    "```\n",
    "```\n",
    "# 변수사용\n",
    "x = tf.Variable([[1.0,2.0,3.0]])\n",
    "w = tf.Variable([[2.0],[2.0],[2.0]])\n",
    "y = tf.matmul(x,w)\n",
    "init_op = tf.global_variables_initializer()\n",
    "with tf.Session() as sess:\n",
    "    sess.run(init_op)\n",
    "    print(sess.run(y))\n",
    "```\n"
   ]
  },
  {
   "cell_type": "code",
   "execution_count": 57,
   "metadata": {},
   "outputs": [
    {
     "name": "stdout",
     "output_type": "stream",
     "text": [
      "(1, 3)\n",
      "[[1. 2. 3.]]\n",
      "[[2.]\n",
      " [2.]\n",
      " [2.]]\n",
      "[[12.]]\n"
     ]
    }
   ],
   "source": [
    "import tensorflow as tf\n",
    "import numpy as np\n",
    "x = tf.constant([[1.0,2.0,3.0]])\n",
    "w = tf.constant([[2.0],[2.0],[2.0]])\n",
    "print(x.get_shape())\n",
    "y = tf.matmul(x,w)\n",
    "with tf.Session() as sess:\n",
    "    print(sess.run(x))\n",
    "    print(sess.run(w))\n",
    "    print(sess.run(y))"
   ]
  },
  {
   "cell_type": "code",
   "execution_count": null,
   "metadata": {},
   "outputs": [],
   "source": [
    "x = tf.Variable([[1.0,2.0,3.0]])\n",
    "w = tf.Variable([[2.0],[2.0],[2.0]])\n",
    "y = tf.matmul(x,w)\n",
    "init_op = tf.global_variables_initializer()\n",
    "with tf.Session() as sess:\n",
    "    sess.run(init_op)\n",
    "    print(sess.run(y))"
   ]
  },
  {
   "cell_type": "code",
   "execution_count": 54,
   "metadata": {},
   "outputs": [
    {
     "data": {
      "text/plain": [
       "<tf.Tensor 'MatMul_13:0' shape=(1, 1) dtype=float32>"
      ]
     },
     "execution_count": 54,
     "metadata": {},
     "output_type": "execute_result"
    }
   ],
   "source": [
    "z"
   ]
  },
  {
   "cell_type": "markdown",
   "metadata": {},
   "source": [
    "output layer\n",
    "활성화 함수\n",
    "-  회귀(regression): 항등함수(identify function)\n",
    "-  분류(classification): softmax function\n",
    "    -  분류문제에서 출력층의 node 수는 분류하고 싶은 클래스 수로 설정하면 된다\n",
    "    -  softmax function\n",
    "        -  출력값은 확률벡터로 나온다\n",
    "\n",
    "# TensorFlow\n",
    "-  구글이 오픈소스로 공개한 머신러닝 라이브러리\n",
    "-  다차원행렬계산(tensor), 대규모 숫자계산 작업 수행\n",
    "-  딥러닝을 비롯한 여러 머신러닝에 사용되는 라이브러리 제공\n",
    "-  c++로 만들어진 라이브러리\n",
    "-  CPU, GPU 모드로 동작\n",
    "-  python 지원\n",
    "\n",
    "-  ## 텐서 자료구조\n",
    "    -  텐서는 텐서플로의 기본 자료 구조\n",
    "    -  텐서는 다차원배열, 리스트로 구성\n",
    "    -  텐서는 학습데이터가 저장되는 다차원배열\n",
    "    -  ### 1차원텐서\n",
    "    "
   ]
  },
  {
   "cell_type": "code",
   "execution_count": 29,
   "metadata": {},
   "outputs": [
    {
     "data": {
      "text/plain": [
       "array([ 1.5,  1. ,  5. , 10. ])"
      ]
     },
     "execution_count": 29,
     "metadata": {},
     "output_type": "execute_result"
    }
   ],
   "source": [
    "# 1차원 텐서\n",
    "import numpy as np\n",
    "import tensorflow as tf\n",
    "\n",
    "arr_1 = np.array([1.5, 1, 5.0, 10])\n",
    "arr_1"
   ]
  },
  {
   "cell_type": "code",
   "execution_count": 31,
   "metadata": {},
   "outputs": [
    {
     "name": "stdout",
     "output_type": "stream",
     "text": [
      "1.5\n",
      "1\n",
      "(4,)\n",
      "float64\n"
     ]
    }
   ],
   "source": [
    "print(arr_1[0])\n",
    "print(arr_1.ndim)\n",
    "print(arr_1.shape)\n",
    "print(arr_1.dtype)"
   ]
  },
  {
   "cell_type": "code",
   "execution_count": 33,
   "metadata": {},
   "outputs": [
    {
     "name": "stdout",
     "output_type": "stream",
     "text": [
      "[ 1.5  1.   5.  10. ]\n",
      "1.5\n",
      "(4,)\n",
      "<dtype: 'float64'>\n"
     ]
    }
   ],
   "source": [
    "arr_tf = tf.convert_to_tensor(arr_1, dtype=tf.float64)\n",
    "with tf.Session() as sess:\n",
    "    print(sess.run(arr_tf))\n",
    "    print(sess.run(arr_tf[0]))\n",
    "\n",
    "print(arr_tf.shape)\n",
    "print(arr_tf.dtype)"
   ]
  },
  {
   "cell_type": "code",
   "execution_count": 36,
   "metadata": {},
   "outputs": [
    {
     "name": "stdout",
     "output_type": "stream",
     "text": [
      "<class 'numpy.ndarray'> <class 'numpy.ndarray'>\n",
      "[[14 14 14]\n",
      " [32 32 32]\n",
      " [50 50 50]]\n",
      "[[ 2  3  4]\n",
      " [ 6  7  8]\n",
      " [10 11 12]]\n"
     ]
    }
   ],
   "source": [
    "# 2차원 텐서\n",
    "arr_1 = np.array([[1,2,3],[4,5,6],[7,8,9]])\n",
    "arr_2 = np.array([[1,1,1],[2,2,2],[3,3,3]])\n",
    "print(type(arr_1), type(arr_2))\n",
    "\n",
    "tm1 = tf.constant(arr_1)\n",
    "tm2 = tf.constant(arr_2)\n",
    "tm_product = tf.matmul(tm1, tm2)\n",
    "tm_add = tf.add(tm1, tm2)\n",
    "with tf.Session() as sess:\n",
    "    print(sess.run(tm_product))\n",
    "    print(sess.run(tm_add))"
   ]
  },
  {
   "cell_type": "code",
   "execution_count": 40,
   "metadata": {},
   "outputs": [
    {
     "name": "stdout",
     "output_type": "stream",
     "text": [
      "3\n",
      "(2, 2, 2)\n",
      "[[[1 2]\n",
      "  [3 4]]\n",
      "\n",
      " [[5 6]\n",
      "  [7 8]]]\n"
     ]
    }
   ],
   "source": [
    "# 3차원텐서\n",
    "arr_3 = np.array([[[1,2],[3,4]],[[5,6],[7,8]]])\n",
    "print(arr_3.ndim)\n",
    "print(arr_3.shape) # (plane, row, column)\n",
    "\n",
    "tm3 = tf.constant(arr_3)\n",
    "with tf.Session() as sess:\n",
    "    print(sess.run(tm3))"
   ]
  },
  {
   "cell_type": "code",
   "execution_count": 42,
   "metadata": {},
   "outputs": [
    {
     "name": "stdout",
     "output_type": "stream",
     "text": [
      "[[30. 30.]\n",
      " [30. 30.]]\n"
     ]
    }
   ],
   "source": [
    "x = tf.placeholder(tf.float32)\n",
    "y = tf.placeholder(tf.float32)\n",
    "z = tf.matmul(x,y)\n",
    "with tf.Session() as sess:\n",
    "    print(sess.run(z, feed_dict={x:[[3.,3.],[3.,3.]],\n",
    "                                 y:[[5.,5.],[5.,5.]]}))"
   ]
  },
  {
   "cell_type": "code",
   "execution_count": 43,
   "metadata": {},
   "outputs": [
    {
     "name": "stdout",
     "output_type": "stream",
     "text": [
      "[[15. 15.]\n",
      " [15. 15.]]\n"
     ]
    }
   ],
   "source": [
    "x = tf.placeholder(tf.float32, shape=(2,2))\n",
    "y = tf.placeholder(tf.float32, shape=(2,2))\n",
    "z = tf.multiply(x,y)\n",
    "with tf.Session() as sess:\n",
    "    print(sess.run(z, feed_dict={x:[[3.,3.],[3.,3.]],\n",
    "                                 y:[[5.,5.],[5.,5.]]}))"
   ]
  },
  {
   "cell_type": "markdown",
   "metadata": {},
   "source": [
    "## tensorflow\n",
    "-  ### Session()\n",
    "    -  텐서플로 세션 생성\n",
    "    -  `sess = tf.Session()`  \n",
    "      \n",
    "-  ### constant()\n",
    "    -  상수 생성\n",
    "    -  `a = tf.constant(값, name=이름)`  \n",
    "\n",
    "-  ### run()\n",
    "    -  해당 작업을 실행\n",
    "    -  `세션명.run(작업)`\n",
    "      \n",
    "-  ### Variable()\n",
    "    -  변수 생성\n",
    "    -  `a = tf.Variable(값, name=이름)`  \n",
    "      \n",
    "-  ### assign()\n",
    "    -  변수에 값 할당\n",
    "    -  `a = tf.assign(변수명, 값)`\n",
    "    \n",
    "-  ### close()\n",
    "    -  세션 닫음\n",
    "    -  `세션명.close()`\n",
    "    \n",
    "-  ### matmul()\n",
    "    -  행렬곱\n",
    "    \n",
    "함수                설명\n",
    ".-----------------------------\n",
    "tf.add            덧셈\n",
    "tf.subtract       뺄셈\n",
    "tf.multiply       곱셈\n",
    "tf.div            나눗셈의 몫, 소수점\n",
    "tf.truediv        나눗셈의 몫, 소수점\n",
    "tf.mod            나눗셈의 나머지\n",
    "tf.abs            절대값\n",
    "tf.negative       음수\n",
    "tf.sign           부호(음수 -1, 양수 1, 0)\n",
    "tf.reciprocal     역수(3의 역수는 1/3)\n",
    "tf.square         제곱\n",
    "tf.round          반올림\n",
    "tf.sqrt           제곱근\n",
    "tf.pow            거듭제곱\n",
    "tf.exp            지수값\n",
    "tf.log            로그값\n",
    "tf.maximum        최대값\n",
    "tf.minimum        최소값\n",
    "tf.cos            코사인\n",
    "tf.sin            사인    "
   ]
  },
  {
   "cell_type": "code",
   "execution_count": 1,
   "metadata": {},
   "outputs": [],
   "source": [
    "import tensorflow as tf"
   ]
  },
  {
   "cell_type": "code",
   "execution_count": 2,
   "metadata": {},
   "outputs": [
    {
     "data": {
      "text/plain": [
       "'1.11.0'"
      ]
     },
     "execution_count": 2,
     "metadata": {},
     "output_type": "execute_result"
    }
   ],
   "source": [
    "tf.__version__"
   ]
  },
  {
   "cell_type": "code",
   "execution_count": 6,
   "metadata": {},
   "outputs": [
    {
     "name": "stdout",
     "output_type": "stream",
     "text": [
      "Tensor(\"Const_2:0\", shape=(), dtype=string)\n"
     ]
    },
    {
     "data": {
      "text/plain": [
       "<tf.Tensor 'Const_2:0' shape=() dtype=string>"
      ]
     },
     "execution_count": 6,
     "metadata": {},
     "output_type": "execute_result"
    }
   ],
   "source": [
    "tensor = 'tensorflow' # 파이썬의 변수 생성\n",
    "tensor = tf.constant('tensorflow') # 텐서플로우의 변수 생성\n",
    "print(tensor)\n",
    "tensor"
   ]
  },
  {
   "cell_type": "code",
   "execution_count": 8,
   "metadata": {},
   "outputs": [
    {
     "data": {
      "text/plain": [
       "b'tensorflow'"
      ]
     },
     "execution_count": 8,
     "metadata": {},
     "output_type": "execute_result"
    }
   ],
   "source": [
    "# 세션시작 - 클라이언트 프로그램이 텐서플로 런타임 시스템과 통신하기 위해서는 세션을 생성해야 한다\n",
    "sess = tf.Session()\n",
    "sess.run(tensor)"
   ]
  },
  {
   "cell_type": "code",
   "execution_count": 11,
   "metadata": {},
   "outputs": [
    {
     "data": {
      "text/plain": [
       "<tf.Tensor 'add:0' shape=() dtype=int32>"
      ]
     },
     "execution_count": 11,
     "metadata": {},
     "output_type": "execute_result"
    }
   ],
   "source": [
    "a = tf.constant(1234)\n",
    "b = tf.constant(5678)\n",
    "\n",
    "add_op = a+b\n",
    "add_op"
   ]
  },
  {
   "cell_type": "code",
   "execution_count": 12,
   "metadata": {},
   "outputs": [
    {
     "data": {
      "text/plain": [
       "6912"
      ]
     },
     "execution_count": 12,
     "metadata": {},
     "output_type": "execute_result"
    }
   ],
   "source": [
    "sess.run(add_op)"
   ]
  },
  {
   "cell_type": "code",
   "execution_count": 13,
   "metadata": {},
   "outputs": [
    {
     "data": {
      "text/plain": [
       "[1234, 5678, 6912]"
      ]
     },
     "execution_count": 13,
     "metadata": {},
     "output_type": "execute_result"
    }
   ],
   "source": [
    "sess.run([a,b, add_op])"
   ]
  },
  {
   "cell_type": "code",
   "execution_count": 14,
   "metadata": {},
   "outputs": [],
   "source": [
    "sess.close()"
   ]
  },
  {
   "cell_type": "code",
   "execution_count": 15,
   "metadata": {},
   "outputs": [
    {
     "name": "stdout",
     "output_type": "stream",
     "text": [
      "14\n",
      "20\n"
     ]
    }
   ],
   "source": [
    "a = tf.constant(2)\n",
    "b = tf.constant(3)\n",
    "c = tf.constant(4)\n",
    "\n",
    "x1 = a+b*c\n",
    "x2 = (a+b)*c\n",
    "sess = tf.Session()\n",
    "z1 = sess.run(x1)\n",
    "z2 = sess.run(x2)\n",
    "print(z1)\n",
    "print(z2)\n",
    "sess.close()"
   ]
  },
  {
   "cell_type": "code",
   "execution_count": 16,
   "metadata": {},
   "outputs": [
    {
     "data": {
      "text/plain": [
       "390"
      ]
     },
     "execution_count": 16,
     "metadata": {},
     "output_type": "execute_result"
    }
   ],
   "source": [
    "a = tf.constant(120, name='a')\n",
    "b = tf.constant(130, name='b')\n",
    "c = tf.constant(140, name='c')\n",
    "v = tf.Variable(0, name='v')\n",
    "x1 = a+b+c\n",
    "assign_op = tf.assign(v, x1)\n",
    "sess = tf.Session()\n",
    "sess.run(assign_op)"
   ]
  },
  {
   "cell_type": "code",
   "execution_count": 17,
   "metadata": {},
   "outputs": [
    {
     "data": {
      "text/plain": [
       "390"
      ]
     },
     "execution_count": 17,
     "metadata": {},
     "output_type": "execute_result"
    }
   ],
   "source": [
    "sess.run(v)"
   ]
  },
  {
   "cell_type": "code",
   "execution_count": 18,
   "metadata": {},
   "outputs": [
    {
     "data": {
      "text/plain": [
       "390"
      ]
     },
     "execution_count": 18,
     "metadata": {},
     "output_type": "execute_result"
    }
   ],
   "source": [
    "sess.run(x1)"
   ]
  },
  {
   "cell_type": "code",
   "execution_count": 19,
   "metadata": {},
   "outputs": [],
   "source": [
    "sess.close()"
   ]
  },
  {
   "cell_type": "code",
   "execution_count": 22,
   "metadata": {},
   "outputs": [
    {
     "data": {
      "text/plain": [
       "array([[22, 28],\n",
       "       [49, 64]])"
      ]
     },
     "execution_count": 22,
     "metadata": {},
     "output_type": "execute_result"
    }
   ],
   "source": [
    "x = tf.Variable([[1,2,3],[4,5,6]])\n",
    "y = tf.Variable([[1,2],[3,4],[5,6]])\n",
    "z = tf.Variable(0)\n",
    "z = tf.matmul(x,y)\n",
    "\n",
    "sess = tf.Session()\n",
    "sess.run(tf.global_variables_initializer()) # 변수 초기화\n",
    "sess.run(z)"
   ]
  },
  {
   "cell_type": "code",
   "execution_count": 24,
   "metadata": {},
   "outputs": [
    {
     "data": {
      "text/plain": [
       "30"
      ]
     },
     "execution_count": 24,
     "metadata": {},
     "output_type": "execute_result"
    }
   ],
   "source": [
    "p1 = tf.placeholder('int32') # placeholder: 실행 시점에 값을 넣겠다\n",
    "p2 = tf.placeholder('int32')\n",
    "y = tf.add(p1, p2)\n",
    "sess = tf.Session()\n",
    "sess.run(y, feed_dict={p1:10, p2:20})"
   ]
  },
  {
   "cell_type": "code",
   "execution_count": 25,
   "metadata": {},
   "outputs": [
    {
     "name": "stdout",
     "output_type": "stream",
     "text": [
      "0\n",
      "1\n",
      "1\n"
     ]
    }
   ],
   "source": [
    "x = tf.Variable(0)\n",
    "y = tf.assign(x, 1)\n",
    "with tf.Session() as sess:\n",
    "    sess.run(tf.global_variables_initializer())\n",
    "    print(sess.run(x))\n",
    "    print(sess.run(y))\n",
    "    print(sess.run(x))"
   ]
  },
  {
   "cell_type": "code",
   "execution_count": null,
   "metadata": {},
   "outputs": [],
   "source": []
  }
 ],
 "metadata": {
  "kernelspec": {
   "display_name": "Python 3",
   "language": "python",
   "name": "python3"
  },
  "language_info": {
   "codemirror_mode": {
    "name": "ipython",
    "version": 3
   },
   "file_extension": ".py",
   "mimetype": "text/x-python",
   "name": "python",
   "nbconvert_exporter": "python",
   "pygments_lexer": "ipython3",
   "version": "3.6.6"
  }
 },
 "nbformat": 4,
 "nbformat_minor": 2
}
