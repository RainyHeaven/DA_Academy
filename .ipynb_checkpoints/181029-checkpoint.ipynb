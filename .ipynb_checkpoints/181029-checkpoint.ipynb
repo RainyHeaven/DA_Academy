{
 "cells": [
  {
   "cell_type": "markdown",
   "metadata": {},
   "source": [
    "[문제] 학생 10명의 키와 몸무게를 측정한 자료이다. 자료를 분석하여 키와 몸무게의 선형관계를 나타내는 상관계수를 구하고, 그 유의성을 유의수준(@) 0.05에서 검정하세요.\n"
   ]
  },
  {
   "cell_type": "markdown",
   "metadata": {},
   "source": [
    "# 연관성 분석\n",
    "-  두개의 변수가 서로 독립적인지 아니면 이들간에 어떤 연관성이 존재하는지를 파악하는 분석방법\n",
    "\n",
    "명목, 서열(질적자료): 교차분석(카이스퀘어 검정)\n",
    "등간, 비율(양적자료): 상관분석(피어슨 상관분석)\n",
    "\n",
    "# 공분산(covariance)\n",
    "-  두 변수가 함께 변하는 정도\n",
    "    -  cov(x, y) > 0: x와 y가 양의 상관관계를 갖는다\n",
    "    -  cov(x, y) < 0: x와 y가 음의 상관관계를 갖는다\n",
    "    -  cov(x, y) = 0:x, y가 서로 상관관계가 없다\n",
    "-  공분산(x, y) = [(x측정치 - x의 평균) * (y측정치 - y의 평균)] 합 / N(n-1)"
   ]
  },
  {
   "cell_type": "code",
   "execution_count": 2,
   "metadata": {},
   "outputs": [
    {
     "data": {
      "text/plain": [
       "57.0"
      ]
     },
     "execution_count": 2,
     "metadata": {},
     "output_type": "execute_result"
    }
   ],
   "source": [
    "import numpy as np\n",
    "x = (184, 170, 180)\n",
    "y = (85, 70, 82)\n",
    "np.cov(x,y)[0][1]"
   ]
  },
  {
   "cell_type": "code",
   "execution_count": 4,
   "metadata": {},
   "outputs": [
    {
     "data": {
      "text/plain": [
       "57.0"
      ]
     },
     "execution_count": 4,
     "metadata": {},
     "output_type": "execute_result"
    }
   ],
   "source": [
    "import pandas as pd\n",
    "x = [184, 170, 180]\n",
    "y = [85, 70, 82]\n",
    "df = pd.concat([pd.DataFrame(x), pd.DataFrame(y)], axis=1)\n",
    "df.columns = ['x', 'y']\n",
    "df['x'].cov(df['y'])"
   ]
  },
  {
   "cell_type": "markdown",
   "metadata": {},
   "source": [
    "# 상관분석(correalation analysis)\n",
    "-  변수들 간의 연관성을 파악하기 위해 사용하는 분석기법중의 하나로 변수간의 선형관계 정도를 분석하는 통계기법\n",
    "-  두 변수 사이의 관련성을 파악하는 방법\n",
    "\n",
    "-  ## 상관계수\n",
    "    -  두 변수간 관련성의 정도, -1 <= r <= 1\n",
    "    -  r = 공분산(x,y) / 루트(x분산 * y 분산)\n",
    "    -  계산방법: 피어슨 상관계수, 스피어만 상관계수, 겐달 순위상관계수\n",
    "    -  상관계수값이 크면 데이터간 관계가 존재한다는 의미\n",
    "    -  한쪽 값이 커질 때 다른쪽 값이 커지는 정도\n",
    "    "
   ]
  },
  {
   "cell_type": "code",
   "execution_count": 5,
   "metadata": {},
   "outputs": [
    {
     "data": {
      "text/plain": [
       "0.9958705948858224"
      ]
     },
     "execution_count": 5,
     "metadata": {},
     "output_type": "execute_result"
    }
   ],
   "source": [
    "df['x'].corr(df['y'])"
   ]
  },
  {
   "cell_type": "code",
   "execution_count": 8,
   "metadata": {},
   "outputs": [
    {
     "data": {
      "text/plain": [
       "(0.9096220430530334, 0.00026141557536073885)"
      ]
     },
     "execution_count": 8,
     "metadata": {},
     "output_type": "execute_result"
    }
   ],
   "source": [
    "from scipy.stats import pearsonr\n",
    "\n",
    "height = [176 , 172, 182, 160, 163, 165, 168, 163, 182, 182]\n",
    "weight = [72,72,70,43,48,54,51,52,73,88]\n",
    "\n",
    "pearsonr(height, weight)\n",
    "# p value *2 (양쪽에 다 있기에)가 0.05보다 작을 시 귀무가설을 기각한다"
   ]
  },
  {
   "cell_type": "markdown",
   "metadata": {},
   "source": [
    "# 회귀분석\n",
    "-  인과관계를 분석하는 방법\n",
    "    -  ## 인과관계 조건\n",
    "        1.  x가 변할때 y도 변한다.\n",
    "            -  교육기간(독립변수) -> 생활만족도(종속변수)\n",
    "        2. 시간적으로 선행되어야 한다.\n",
    "            -  교육기간이 먼저 선행되어야 한다\n",
    "        3. 외생변수를 통제(다른 요인들을 통제하고 인과관계를 분석)\n",
    "            -  생활만족도의 다른 요인(성별, 직업, 거주지 등)\n",
    "\n",
    "-  변수와 변수가 어떤 연관이 있는지, 방향성을 나타낸다.        \n",
    "\n",
    "-  독립변수 -> 종속변수\n",
    "   광고비  ->  매출액\n",
    "   담배량  ->  폐암\n",
    "   배기량  ->  연료소비량\n",
    "   온도    ->  아이스크림 판매량\n",
    "       \n",
    "-  독립변수의 수\n",
    "    -  1개일때: 단순회귀분석\n",
    "    -  2개 이상일때: 다중회귀분석\n",
    "       \n",
    "-  독립변수의 척도\n",
    "    -  등간, 비율: 일반회귀분석\n",
    "    -  명목, 서열: 가변수회귀분석(dummy변수 회귀분석)\n",
    "\n",
    "-  독립변수와 종속변수 관계\n",
    "    -  선형\n",
    "    -  비선형\n",
    "    \n",
    "-  회귀분석을 할 때 산점도를 그려보는 것도 좋다\n",
    "    -  x가 커질 때 y도 커진다(선형)\n",
    "    -  x가 커질 때 y는 작아진다(선형)\n",
    "    -  x가 커질 때 y는 커지다가 작아진다(비선형)\n",
    "    \n",
    "-  모델 선을 그려본다\n",
    "    -  최소제곱법을 이용해서 선을 그린다\n",
    "        y = ax + b\n",
    "        y = 종속변수\n",
    "        x = 독립변수\n",
    "        a = 회귀계수(기울기)\n",
    "        b = 절편(y의 시작점)\n",
    "    -  직선 방정식의 기울기를 구하려면\n",
    "        y = ax\n",
    "        a = y/x = cov(x,y)/var(x)\n",
    "        b = y의 평균 - 기울기 * x의 평균\n",
    "    "
   ]
  },
  {
   "cell_type": "code",
   "execution_count": 10,
   "metadata": {},
   "outputs": [],
   "source": [
    "from scipy import stats\n",
    "# 월별 전기 생산금액(억원)\n",
    "x = [3.52, 2.58, 3.31, 4.07, 4.62, 3.98, 4.29, 4.83, 3.71, 4.61, 3.90, 3.20]\n",
    "\n",
    "# 월별 전기 사용량(백만kwh)\n",
    "y = [2.48, 2.27, 2.47, 2.77, 2.98, 3.05, 3.18, 3.46, 3.03, 3.25, 2.67, 2.53]\n",
    "\n",
    "# stats.linregress(독립변수, 종속변수)\n",
    "slope, intercept, r_value, p_value, stderr = stats.linregress(x, y)"
   ]
  },
  {
   "cell_type": "markdown",
   "metadata": {},
   "source": [
    "slope: 기울기\n",
    "intercept: 절편\n",
    "r_value: 상관계수\n",
    "p_value: p value\n",
    "stderr: 에러의 표준편차\n",
    "\n",
    "H0 (귀무가설): 전기생산금액과 전기사용량은 상관관계가 없다\n",
    "H1 (연구가설): 전기생산금액과 전기사용량은 상관관계가 있다\n",
    "\n",
    "p_value가 0.05보다 작으므로 귀무가설을 기각한다"
   ]
  },
  {
   "cell_type": "code",
   "execution_count": 14,
   "metadata": {},
   "outputs": [
    {
     "data": {
      "image/png": "[encoded data removed]",
      "text/plain": [
       "<Figure size 432x288 with 1 Axes>"
      ]
     },
     "metadata": {
      "needs_background": "light"
     },
     "output_type": "display_data"
    }
   ],
   "source": [
    "import matplotlib.pyplot as plt\n",
    "plt.scatter(x,y)\n",
    "plt.show()"
   ]
  },
  {
   "cell_type": "code",
   "execution_count": 15,
   "metadata": {},
   "outputs": [
    {
     "data": {
      "text/plain": [
       "[<matplotlib.lines.Line2D at 0xa315f60>]"
      ]
     },
     "execution_count": 15,
     "metadata": {},
     "output_type": "execute_result"
    },
    {
     "data": {
      "image/png": "[encoded data removed]",
      "text/plain": [
       "<Figure size 432x288 with 1 Axes>"
      ]
     },
     "metadata": {
      "needs_background": "light"
     },
     "output_type": "display_data"
    }
   ],
   "source": [
    "x1 = np.array(x)\n",
    "plt.scatter(x,y)\n",
    "plt.plot(x1, slope*x1+intercept, c='red')"
   ]
  },
  {
   "cell_type": "code",
   "execution_count": 18,
   "metadata": {},
   "outputs": [
    {
     "data": {
      "text/html": [
       "<div>\n",
       "<style scoped>\n",
       "    .dataframe tbody tr th:only-of-type {\n",
       "        vertical-align: middle;\n",
       "    }\n",
       "\n",
       "    .dataframe tbody tr th {\n",
       "        vertical-align: top;\n",
       "    }\n",
       "\n",
       "    .dataframe thead th {\n",
       "        text-align: right;\n",
       "    }\n",
       "</style>\n",
       "<table border=\"1\" class=\"dataframe\">\n",
       "  <thead>\n",
       "    <tr style=\"text-align: right;\">\n",
       "      <th></th>\n",
       "      <th>Ozone</th>\n",
       "      <th>Solar.R</th>\n",
       "      <th>Wind</th>\n",
       "      <th>Temp</th>\n",
       "      <th>Month</th>\n",
       "      <th>Day</th>\n",
       "    </tr>\n",
       "  </thead>\n",
       "  <tbody>\n",
       "    <tr>\n",
       "      <th>0</th>\n",
       "      <td>41.0</td>\n",
       "      <td>190.0</td>\n",
       "      <td>7.4</td>\n",
       "      <td>67</td>\n",
       "      <td>5</td>\n",
       "      <td>1</td>\n",
       "    </tr>\n",
       "    <tr>\n",
       "      <th>1</th>\n",
       "      <td>36.0</td>\n",
       "      <td>118.0</td>\n",
       "      <td>8.0</td>\n",
       "      <td>72</td>\n",
       "      <td>5</td>\n",
       "      <td>2</td>\n",
       "    </tr>\n",
       "    <tr>\n",
       "      <th>2</th>\n",
       "      <td>12.0</td>\n",
       "      <td>149.0</td>\n",
       "      <td>12.6</td>\n",
       "      <td>74</td>\n",
       "      <td>5</td>\n",
       "      <td>3</td>\n",
       "    </tr>\n",
       "    <tr>\n",
       "      <th>3</th>\n",
       "      <td>18.0</td>\n",
       "      <td>313.0</td>\n",
       "      <td>11.5</td>\n",
       "      <td>62</td>\n",
       "      <td>5</td>\n",
       "      <td>4</td>\n",
       "    </tr>\n",
       "    <tr>\n",
       "      <th>4</th>\n",
       "      <td>NaN</td>\n",
       "      <td>NaN</td>\n",
       "      <td>14.3</td>\n",
       "      <td>56</td>\n",
       "      <td>5</td>\n",
       "      <td>5</td>\n",
       "    </tr>\n",
       "  </tbody>\n",
       "</table>\n",
       "</div>"
      ],
      "text/plain": [
       "   Ozone  Solar.R  Wind  Temp  Month  Day\n",
       "0   41.0    190.0   7.4    67      5    1\n",
       "1   36.0    118.0   8.0    72      5    2\n",
       "2   12.0    149.0  12.6    74      5    3\n",
       "3   18.0    313.0  11.5    62      5    4\n",
       "4    NaN      NaN  14.3    56      5    5"
      ]
     },
     "execution_count": 18,
     "metadata": {},
     "output_type": "execute_result"
    }
   ],
   "source": [
    "oz = pd.read_csv('data/ozone.csv', encoding='utf-8')\n",
    "oz.head()"
   ]
  },
  {
   "cell_type": "code",
   "execution_count": 19,
   "metadata": {},
   "outputs": [
    {
     "data": {
      "text/plain": [
       "Ozone      37\n",
       "Solar.R     7\n",
       "Wind        0\n",
       "Temp        0\n",
       "Month       0\n",
       "Day         0\n",
       "dtype: int64"
      ]
     },
     "execution_count": 19,
     "metadata": {},
     "output_type": "execute_result"
    }
   ],
   "source": [
    "oz.isnull().sum()"
   ]
  },
  {
   "cell_type": "code",
   "execution_count": 20,
   "metadata": {},
   "outputs": [
    {
     "data": {
      "text/plain": [
       "Ozone      0\n",
       "Solar.R    0\n",
       "Wind       0\n",
       "Temp       0\n",
       "Month      0\n",
       "Day        0\n",
       "dtype: int64"
      ]
     },
     "execution_count": 20,
     "metadata": {},
     "output_type": "execute_result"
    }
   ],
   "source": [
    "oz2 = oz.dropna(axis=0)\n",
    "oz2.isnull().sum()"
   ]
  },
  {
   "cell_type": "code",
   "execution_count": 24,
   "metadata": {},
   "outputs": [],
   "source": [
    "x = oz2['Temp'].values\n",
    "y = oz2['Ozone'].values\n",
    "\n",
    "slope, intercept, rvalue, pvalue, stderr = stats.linregress(x,y)"
   ]
  },
  {
   "cell_type": "code",
   "execution_count": 25,
   "metadata": {},
   "outputs": [
    {
     "data": {
      "text/plain": [
       "47.48272006175401"
      ]
     },
     "execution_count": 25,
     "metadata": {},
     "output_type": "execute_result"
    }
   ],
   "source": [
    "# 온도가 화씨 80도일때 오존량 예측\n",
    "80*slope + intercept"
   ]
  },
  {
   "cell_type": "code",
   "execution_count": 29,
   "metadata": {},
   "outputs": [],
   "source": [
    "score = pd.read_csv('data/score.txt', encoding='cp949')\n",
    "score.to_csv('data/score.csv', encoding='utf-8', index=False)"
   ]
  },
  {
   "cell_type": "code",
   "execution_count": 31,
   "metadata": {},
   "outputs": [
    {
     "data": {
      "text/plain": [
       "LinregressResult(slope=0.6713863060016907, intercept=-5.291842772612014, rvalue=0.9102242438429021, pvalue=0.00025470776309472056, stderr=0.1079942913055189)"
      ]
     },
     "execution_count": 31,
     "metadata": {},
     "output_type": "execute_result"
    }
   ],
   "source": [
    "score = pd.read_csv('data/score.csv', encoding='utf-8')\n",
    "stats.linregress(score.iloc[:,2], score['성적'])"
   ]
  },
  {
   "cell_type": "code",
   "execution_count": 32,
   "metadata": {},
   "outputs": [
    {
     "data": {
      "text/plain": [
       "LinearRegression(copy_X=True, fit_intercept=True, n_jobs=1, normalize=False)"
      ]
     },
     "execution_count": 32,
     "metadata": {},
     "output_type": "execute_result"
    }
   ],
   "source": [
    "from sklearn import linear_model\n",
    "reg = linear_model.LinearRegression()\n",
    "reg.fit(score.iloc[:,2:6], score['성적'])"
   ]
  },
  {
   "cell_type": "code",
   "execution_count": 35,
   "metadata": {},
   "outputs": [
    {
     "name": "stdout",
     "output_type": "stream",
     "text": [
      "절편: 23.299231801672697\n"
     ]
    }
   ],
   "source": [
    "print('절편:',reg.intercept_)"
   ]
  },
  {
   "cell_type": "code",
   "execution_count": 36,
   "metadata": {},
   "outputs": [
    {
     "name": "stdout",
     "output_type": "stream",
     "text": [
      "기울기: [ 0.46842207  0.71790141 -0.83895492 -1.38540837]\n"
     ]
    }
   ],
   "source": [
    "print('기울기:',reg.coef_)"
   ]
  },
  {
   "cell_type": "code",
   "execution_count": null,
   "metadata": {},
   "outputs": [],
   "source": []
  }
 ],
 "metadata": {
  "kernelspec": {
   "display_name": "Python 3",
   "language": "python",
   "name": "python3"
  },
  "language_info": {
   "codemirror_mode": {
    "name": "ipython",
    "version": 3
   },
   "file_extension": ".py",
   "mimetype": "text/x-python",
   "name": "python",
   "nbconvert_exporter": "python",
   "pygments_lexer": "ipython3",
   "version": "3.6.6"
  }
 },
 "nbformat": 4,
 "nbformat_minor": 2
}
